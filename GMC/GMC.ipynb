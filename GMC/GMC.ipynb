{
 "cells": [
  {
   "cell_type": "markdown",
   "id": "a1edef95",
   "metadata": {
    "id": "-lpu1-uj5hJP"
   },
   "source": [
    "# Master thesis - Imbalanced learning and model interpretation in credit scoring"
   ]
  },
  {
   "cell_type": "markdown",
   "id": "Tdnh-6wW5hGU",
   "metadata": {
    "id": "Tdnh-6wW5hGU"
   },
   "source": [
    "620146 Sinan Wang\n",
    "\n",
    "Note: This notebook is run on kaggle server."
   ]
  },
  {
   "cell_type": "markdown",
   "id": "01fab40f",
   "metadata": {
    "id": "Rdo4R5b25hE-"
   },
   "source": [
    "# Table of Contents\n",
    "\n",
    "    1. Load Data and artificial dataset construction\n",
    "       1.1 Load data\n",
    "       1.2 IR inspection\n",
    "       1.3 Artificial dataset Construction\n",
    "    2. Data clean and EDA\n",
    "       2.1 Numerical feature clean and EDA\n",
    "    3. Splitting data and Feature Engineering\n",
    "       3.1 Split data\n",
    "       3.2 Feature engineer\n",
    "           3.2.1 Standardise numerical variables\n",
    "    4. Obtain resampling data\n",
    "    5. Model training\n",
    "       5.1 Random forest\n",
    "       5.2 Neural network\n",
    "       5.3 Logit\n",
    "           5.3.1 Logit training\n",
    "           5.3.2 Apply resampling methods on Logit\n",
    "       5.4 XGBoost\n",
    "           5.4.1 XGBoost training\n",
    "           5.4.2 Apply resampling methods on XGBoost\n",
    "    6. XAI\n",
    "       6.1 SHAP fearure importance\n",
    "           6.1.1 Calculate SHAP feature importance\n",
    "           6.1.2 SHAP rank correlation\n",
    "           6.1.3 SHAP feature importance visualisation\n",
    "       6.2 PFI\n",
    "           6.2.1 Calculate PFI\n",
    "           6.2.2 PFI rank correlation\n",
    "           6.2.3 PFI feature importance visualisation"
   ]
  },
  {
   "cell_type": "code",
   "execution_count": 1,
   "id": "0397afa7",
   "metadata": {
    "id": "0397afa7"
   },
   "outputs": [],
   "source": [
    "# Inspecting dataport libraires\n",
    "import numpy as np\n",
    "import pandas as pd\n",
    "import matplotlib.pyplot as plt\n",
    "import seaborn as sns\n",
    "from category_encoders.target_encoder import TargetEncoder\n",
    "from sklearn.model_selection import train_test_split\n",
    "from sklearn.preprocessing import StandardScaler\n",
    "from sklearn.metrics import f1_score, roc_auc_score\n",
    "from imblearn.metrics import geometric_mean_score\n",
    "from sklearn.model_selection import GridSearchCV\n",
    "from sklearn.linear_model import LogisticRegressionCV\n",
    "from sklearn.ensemble import RandomForestClassifier\n",
    "from sklearn.inspection import permutation_importance\n",
    "from xgboost import XGBClassifier\n",
    "import shap\n",
    "from imblearn.over_sampling import RandomOverSampler\n",
    "from collections import Counter\n",
    "from imblearn.under_sampling import InstanceHardnessThreshold\n",
    "from imblearn.over_sampling import SMOTE\n",
    "from imblearn.over_sampling import BorderlineSMOTE\n",
    "from imblearn.under_sampling import RandomUnderSampler\n",
    "from imblearn.combine import SMOTEENN\n",
    "from imblearn.combine import SMOTETomek\n",
    "from imblearn.under_sampling import NearMiss\n",
    "from imblearn.pipeline import make_pipeline\n",
    "from sklearn import metrics\n",
    "from sklearn.linear_model import LogisticRegressionCV\n",
    "import xgboost as xgb\n",
    "from tensorflow import keras\n",
    "from tensorflow.keras import Input,layers\n",
    "from tensorflow.keras.models import Model\n",
    "from keras.callbacks import EarlyStopping\n",
    "from numpy.random import seed\n",
    "seed(1)\n",
    "import tensorflow\n",
    "tensorflow.random.set_seed(1)\n",
    "\n",
    "%load_ext autoreload\n",
    "%autoreload 2"
   ]
  },
  {
   "cell_type": "markdown",
   "id": "pdlG4UAArnQK",
   "metadata": {
    "id": "pdlG4UAArnQK"
   },
   "source": [
    "# 1. Load Data and artificial dataset construction"
   ]
  },
  {
   "cell_type": "markdown",
   "id": "6cfbf8ce",
   "metadata": {},
   "source": [
    "## 1.1 Load data"
   ]
  },
  {
   "cell_type": "code",
   "execution_count": null,
   "metadata": {
    "execution": {
     "iopub.execute_input": "2023-04-08T16:39:03.157425Z",
     "iopub.status.busy": "2023-04-08T16:39:03.156974Z",
     "iopub.status.idle": "2023-04-08T16:39:03.553523Z",
     "shell.execute_reply": "2023-04-08T16:39:03.552493Z",
     "shell.execute_reply.started": "2023-04-08T16:39:03.157388Z"
    }
   },
   "outputs": [],
   "source": [
    "gmc_ori = pd.read_csv(\"/kaggle/input/GiveMeSomeCredit/cs-training.csv\", sep=\",\")\n",
    "gmc_ori = gmc_ori.drop(columns=['Unnamed: 0'])\n",
    "\n",
    "#change column names\n",
    "gmc_ori.rename(columns={'SeriousDlqin2yrs': 'target',\n",
    "                        'RevolvingUtilizationOfUnsecuredLines': 'RU',\n",
    "                        'NumberOfTime30-59DaysPastDueNotWorse':'NPD30',\n",
    "                        'NumberOfOpenCreditLinesAndLoans':'NL_car',\n",
    "                        'NumberOfTimes90DaysLate':'NPD90',\n",
    "                        'NumberRealEstateLoansOrLines':'NL_estate',\n",
    "                        'NumberOfTime60-89DaysPastDueNotWorse':'NPD60',\n",
    "                        'NumberOfDependents':'ND'},\n",
    "                inplace=True)\n",
    "\n",
    "print(gmc_ori.shape)\n",
    "print(gmc_ori.info())"
   ]
  },
  {
   "cell_type": "markdown",
   "id": "5c0c411e",
   "metadata": {},
   "source": [
    "## 1.2 IR inspection"
   ]
  },
  {
   "cell_type": "code",
   "execution_count": null,
   "metadata": {
    "execution": {
     "iopub.execute_input": "2023-04-08T16:39:03.985519Z",
     "iopub.status.busy": "2023-04-08T16:39:03.984968Z",
     "iopub.status.idle": "2023-04-08T16:39:04.079118Z",
     "shell.execute_reply": "2023-04-08T16:39:04.077738Z",
     "shell.execute_reply.started": "2023-04-08T16:39:03.985484Z"
    }
   },
   "outputs": [],
   "source": [
    "gmc_ori.target.value_counts()"
   ]
  },
  {
   "cell_type": "code",
   "execution_count": null,
   "metadata": {
    "execution": {
     "iopub.execute_input": "2023-04-08T16:39:04.084033Z",
     "iopub.status.busy": "2023-04-08T16:39:04.083551Z",
     "iopub.status.idle": "2023-04-08T16:39:04.175116Z",
     "shell.execute_reply": "2023-04-08T16:39:04.173673Z",
     "shell.execute_reply.started": "2023-04-08T16:39:04.083997Z"
    }
   },
   "outputs": [],
   "source": [
    "IR_ori = round(len(gmc_ori.loc[gmc_ori['target'] == 0])/len(gmc_ori.loc[gmc_ori['target'] == 1]),2)\n",
    "print('The imbalance ratio of the original data set is '+ str(IR_ori))"
   ]
  },
  {
   "cell_type": "code",
   "execution_count": null,
   "metadata": {
    "execution": {
     "iopub.execute_input": "2023-04-08T16:39:04.179882Z",
     "iopub.status.busy": "2023-04-08T16:39:04.179476Z",
     "iopub.status.idle": "2023-04-08T16:39:04.474612Z",
     "shell.execute_reply": "2023-04-08T16:39:04.472956Z",
     "shell.execute_reply.started": "2023-04-08T16:39:04.179845Z"
    }
   },
   "outputs": [],
   "source": [
    "gmc_ori.target.value_counts().plot.pie(autopct = \"%.2f\")"
   ]
  },
  {
   "cell_type": "markdown",
   "id": "b0eb8a48",
   "metadata": {
    "id": "b0eb8a48"
   },
   "source": [
    "## 1.3 Artificial dataset Construction"
   ]
  },
  {
   "cell_type": "code",
   "execution_count": null,
   "metadata": {
    "execution": {
     "iopub.execute_input": "2023-04-08T16:39:04.478644Z",
     "iopub.status.busy": "2023-04-08T16:39:04.477100Z",
     "iopub.status.idle": "2023-04-08T16:39:04.592878Z",
     "shell.execute_reply": "2023-04-08T16:39:04.591641Z",
     "shell.execute_reply.started": "2023-04-08T16:39:04.478553Z"
    },
    "scrolled": true
   },
   "outputs": [],
   "source": [
    "minority = gmc_ori[gmc_ori['target']==1]\n",
    "majority = gmc_ori[gmc_ori['target']==0]"
   ]
  },
  {
   "cell_type": "code",
   "execution_count": null,
   "metadata": {
    "execution": {
     "iopub.execute_input": "2023-04-08T16:39:04.595889Z",
     "iopub.status.busy": "2023-04-08T16:39:04.594825Z",
     "iopub.status.idle": "2023-04-08T16:39:04.687179Z",
     "shell.execute_reply": "2023-04-08T16:39:04.685879Z",
     "shell.execute_reply.started": "2023-04-08T16:39:04.595850Z"
    }
   },
   "outputs": [],
   "source": [
    "np.random.seed(10)\n",
    "remove_n = int(minority.shape[0] - majority.shape[0]/20)\n",
    "drop_indices = np.random.choice(minority.index, remove_n, replace=False)\n",
    "minority_art = minority.drop(drop_indices)\n",
    "print(minority_art.shape) "
   ]
  },
  {
   "cell_type": "code",
   "execution_count": null,
   "metadata": {
    "execution": {
     "iopub.execute_input": "2023-04-08T16:39:04.876579Z",
     "iopub.status.busy": "2023-04-08T16:39:04.875823Z",
     "iopub.status.idle": "2023-04-08T16:39:05.001748Z",
     "shell.execute_reply": "2023-04-08T16:39:05.000624Z",
     "shell.execute_reply.started": "2023-04-08T16:39:04.876511Z"
    }
   },
   "outputs": [],
   "source": [
    "gmc = pd.concat([majority, minority_art])\n",
    "IR_art = round(len(gmc.loc[gmc['target'] == 0])/len(gmc.loc[gmc['target'] == 1]),2)\n",
    "\n",
    "print(gmc.shape)\n",
    "print(gmc.target.value_counts())\n",
    "print('The imbalance ratio of artificial data set is '+ str(IR_art))"
   ]
  },
  {
   "cell_type": "markdown",
   "id": "044db13d",
   "metadata": {
    "id": "044db13d"
   },
   "source": [
    "# 2. Data clean and EDA"
   ]
  },
  {
   "cell_type": "markdown",
   "id": "d88f0e17",
   "metadata": {
    "id": "d88f0e17"
   },
   "source": [
    "## 2.1 Numerical feature clean and EDA"
   ]
  },
  {
   "cell_type": "code",
   "execution_count": null,
   "metadata": {
    "execution": {
     "iopub.execute_input": "2023-04-08T16:39:05.003432Z",
     "iopub.status.busy": "2023-04-08T16:39:05.003111Z",
     "iopub.status.idle": "2023-04-08T16:39:05.091092Z",
     "shell.execute_reply": "2023-04-08T16:39:05.090025Z",
     "shell.execute_reply.started": "2023-04-08T16:39:05.003402Z"
    }
   },
   "outputs": [],
   "source": [
    "#numerical variables \n",
    "numvars = ['RU', 'age', \n",
    "           'NPD30', 'DebtRatio', 'MonthlyIncome', \n",
    "           'NL_car', 'NPD90', 'NL_estate','NPD60','ND']\n",
    "gmc[numvars].info()"
   ]
  },
  {
   "cell_type": "markdown",
   "metadata": {
    "id": "36488256"
   },
   "source": [
    "### Check the missing values"
   ]
  },
  {
   "cell_type": "code",
   "execution_count": null,
   "metadata": {
    "execution": {
     "iopub.execute_input": "2023-04-08T16:39:05.211833Z",
     "iopub.status.busy": "2023-04-08T16:39:05.211503Z",
     "iopub.status.idle": "2023-04-08T16:39:05.305551Z",
     "shell.execute_reply": "2023-04-08T16:39:05.304613Z",
     "shell.execute_reply.started": "2023-04-08T16:39:05.211802Z"
    }
   },
   "outputs": [],
   "source": [
    "print(gmc[numvars].isnull().sum() )"
   ]
  },
  {
   "cell_type": "code",
   "execution_count": null,
   "metadata": {
    "execution": {
     "iopub.execute_input": "2023-04-08T16:39:05.492422Z",
     "iopub.status.busy": "2023-04-08T16:39:05.491973Z",
     "iopub.status.idle": "2023-04-08T16:39:05.592534Z",
     "shell.execute_reply": "2023-04-08T16:39:05.591658Z",
     "shell.execute_reply.started": "2023-04-08T16:39:05.492387Z"
    }
   },
   "outputs": [],
   "source": [
    "for col in numvars:  # loop over all numeric columns which missing value under 20%\n",
    "    if gmc[col].isna().sum() > 0:                        \n",
    "        m = gmc[col].median(skipna=True)                  \n",
    "        gmc[col].fillna(m, inplace=True)                 "
   ]
  },
  {
   "cell_type": "code",
   "execution_count": null,
   "metadata": {
    "execution": {
     "iopub.execute_input": "2023-04-08T16:39:05.594821Z",
     "iopub.status.busy": "2023-04-08T16:39:05.594121Z",
     "iopub.status.idle": "2023-04-08T16:39:05.687246Z",
     "shell.execute_reply": "2023-04-08T16:39:05.686088Z",
     "shell.execute_reply.started": "2023-04-08T16:39:05.594785Z"
    }
   },
   "outputs": [],
   "source": [
    "# check the missing values\n",
    "print(gmc[numvars].isnull().sum() )"
   ]
  },
  {
   "cell_type": "markdown",
   "metadata": {
    "id": "2f88f3ad"
   },
   "source": [
    "### EDA"
   ]
  },
  {
   "cell_type": "code",
   "execution_count": null,
   "metadata": {
    "execution": {
     "iopub.execute_input": "2023-04-08T16:39:05.689380Z",
     "iopub.status.busy": "2023-04-08T16:39:05.689030Z",
     "iopub.status.idle": "2023-04-08T16:39:07.280321Z",
     "shell.execute_reply": "2023-04-08T16:39:07.279270Z",
     "shell.execute_reply.started": "2023-04-08T16:39:05.689316Z"
    },
    "scrolled": true
   },
   "outputs": [],
   "source": [
    "#check the distribution\n",
    "plt.rcParams[\"figure.figsize\"] = (20,10)\n",
    "num_vars = gmc[numvars]\n",
    "num_vars.plot(kind = 'box', subplots=True);"
   ]
  },
  {
   "cell_type": "code",
   "execution_count": null,
   "metadata": {
    "execution": {
     "iopub.execute_input": "2023-04-08T16:39:07.282521Z",
     "iopub.status.busy": "2023-04-08T16:39:07.281483Z",
     "iopub.status.idle": "2023-04-08T16:39:09.198928Z",
     "shell.execute_reply": "2023-04-08T16:39:09.197720Z",
     "shell.execute_reply.started": "2023-04-08T16:39:07.282481Z"
    }
   },
   "outputs": [],
   "source": [
    "# check the distribution\n",
    "gmc[numvars].hist(bins=20);"
   ]
  },
  {
   "cell_type": "markdown",
   "metadata": {
    "id": "ec7fac2a"
   },
   "source": [
    "### Check the correlation"
   ]
  },
  {
   "cell_type": "code",
   "execution_count": null,
   "metadata": {
    "execution": {
     "iopub.execute_input": "2023-04-08T16:39:09.504074Z",
     "iopub.status.busy": "2023-04-08T16:39:09.503669Z",
     "iopub.status.idle": "2023-04-08T16:39:09.599167Z",
     "shell.execute_reply": "2023-04-08T16:39:09.597900Z",
     "shell.execute_reply.started": "2023-04-08T16:39:09.504035Z"
    }
   },
   "outputs": [],
   "source": [
    "all_num = ['RU', 'age', \n",
    "           'NPD30', 'DebtRatio', 'MonthlyIncome', \n",
    "           'NL_car', 'NPD90', 'NL_estate','NPD60','ND', 'target']"
   ]
  },
  {
   "cell_type": "code",
   "execution_count": null,
   "metadata": {
    "execution": {
     "iopub.execute_input": "2023-04-08T16:39:09.604266Z",
     "iopub.status.busy": "2023-04-08T16:39:09.603168Z",
     "iopub.status.idle": "2023-04-08T16:39:10.758858Z",
     "shell.execute_reply": "2023-04-08T16:39:10.757706Z",
     "shell.execute_reply.started": "2023-04-08T16:39:09.604173Z"
    }
   },
   "outputs": [],
   "source": [
    "sns.heatmap(gmc[all_num].corr(),annot=True,linewidth=.5,fmt='1f')\n",
    "plt.title('Correlation Matrix plot of numerical data')\n",
    "plt.show()"
   ]
  },
  {
   "cell_type": "code",
   "execution_count": null,
   "metadata": {},
   "outputs": [],
   "source": []
  },
  {
   "cell_type": "markdown",
   "id": "161c2be1",
   "metadata": {
    "id": "161c2be1"
   },
   "source": [
    "# 3. Splitting data and Feature Engineering"
   ]
  },
  {
   "cell_type": "markdown",
   "id": "2aee7b26",
   "metadata": {},
   "source": [
    "## 3.1 Splitting data"
   ]
  },
  {
   "cell_type": "code",
   "execution_count": null,
   "metadata": {
    "execution": {
     "iopub.execute_input": "2023-04-08T16:39:10.761210Z",
     "iopub.status.busy": "2023-04-08T16:39:10.760859Z",
     "iopub.status.idle": "2023-04-08T16:39:10.878567Z",
     "shell.execute_reply": "2023-04-08T16:39:10.877620Z",
     "shell.execute_reply.started": "2023-04-08T16:39:10.761177Z"
    }
   },
   "outputs": [],
   "source": [
    "y = gmc['target']\n",
    "X = gmc.drop(['target'], axis=1)\n",
    "\n",
    "X_train, X_val, y_train, y_val = train_test_split(X,y, test_size=.2,shuffle=True, random_state= 1)"
   ]
  },
  {
   "cell_type": "markdown",
   "id": "5b7bd752",
   "metadata": {
    "id": "5b7bd752"
   },
   "source": [
    "## 3.2 Feature engineer"
   ]
  },
  {
   "cell_type": "markdown",
   "id": "506f6231",
   "metadata": {},
   "source": [
    "### 3.2.1 Standardise numerical variables"
   ]
  },
  {
   "cell_type": "code",
   "execution_count": null,
   "metadata": {
    "execution": {
     "iopub.execute_input": "2023-04-08T16:39:10.880410Z",
     "iopub.status.busy": "2023-04-08T16:39:10.880011Z",
     "iopub.status.idle": "2023-04-08T16:39:11.042971Z",
     "shell.execute_reply": "2023-04-08T16:39:11.041618Z",
     "shell.execute_reply.started": "2023-04-08T16:39:10.880378Z"
    }
   },
   "outputs": [],
   "source": [
    "standard = StandardScaler()\n",
    "\n",
    "X_train_scaled = X_train.copy()\n",
    "X_val_scaled = X_val.copy()\n",
    "\n",
    "X_train_scaled[numvars] = standard.fit_transform(X_train_scaled[numvars])\n",
    "X_val_scaled[numvars] = standard.transform(X_val_scaled[numvars])\n",
    "\n",
    "X_val_scaled[numvars].head()"
   ]
  },
  {
   "cell_type": "code",
   "execution_count": null,
   "metadata": {
    "execution": {
     "iopub.execute_input": "2023-04-08T16:39:11.044648Z",
     "iopub.status.busy": "2023-04-08T16:39:11.044283Z",
     "iopub.status.idle": "2023-04-08T16:39:11.140962Z",
     "shell.execute_reply": "2023-04-08T16:39:11.139512Z",
     "shell.execute_reply.started": "2023-04-08T16:39:11.044605Z"
    }
   },
   "outputs": [],
   "source": [
    "X_train_final = X_train_scaled[numvars]\n",
    "X_val_final = X_val_scaled[numvars]"
   ]
  },
  {
   "cell_type": "markdown",
   "id": "04a2e66f",
   "metadata": {
    "id": "04a2e66f"
   },
   "source": [
    "# 4. Obtain resampling data"
   ]
  },
  {
   "cell_type": "code",
   "execution_count": 22,
   "id": "b810080a",
   "metadata": {},
   "outputs": [],
   "source": [
    "def resampling(ratio=1):\n",
    "    X_data_list = []\n",
    "    y_data_list = []\n",
    "    for single_class in classes:\n",
    "        if single_class == NearMiss:\n",
    "            instance = single_class(sampling_strategy = ratio)\n",
    "            X_data, y_data = instance.fit_resample(X_train_final, y_train.values.ravel())\n",
    "            X_data_list.append(X_data)\n",
    "            y_data_list.append(y_data)\n",
    "            print('{} with {} completed'.format(single_class, ratio))\n",
    "            print('Resampled dataset shape %s' % Counter(y_data))  \n",
    "        else:\n",
    "            instance = single_class(random_state=40, sampling_strategy = ratio)\n",
    "            X_data, y_data = instance.fit_resample(X_train_final, y_train.values.ravel())\n",
    "            X_data_list.append(X_data)\n",
    "            y_data_list.append(y_data)\n",
    "            print('{} with {} completed'.format(single_class, ratio))\n",
    "            print('Resampled dataset shape %s' % Counter(y_data))       \n",
    "    return X_data_list, y_data_list"
   ]
  },
  {
   "cell_type": "code",
   "execution_count": 23,
   "id": "c0109175",
   "metadata": {},
   "outputs": [
    {
     "name": "stdout",
     "output_type": "stream",
     "text": [
      "<class 'imblearn.over_sampling._random_over_sampler.RandomOverSampler'> with 1 completed\n",
      "Resampled dataset shape Counter({0: 7999, 1: 7999})\n",
      "<class 'imblearn.over_sampling._smote.base.SMOTE'> with 1 completed\n",
      "Resampled dataset shape Counter({0: 7999, 1: 7999})\n",
      "<class 'imblearn.over_sampling._smote.filter.BorderlineSMOTE'> with 1 completed\n",
      "Resampled dataset shape Counter({0: 7999, 1: 7999})\n",
      "<class 'imblearn.under_sampling._prototype_selection._random_under_sampler.RandomUnderSampler'> with 1 completed\n",
      "Resampled dataset shape Counter({0: 403, 1: 403})\n",
      "<class 'imblearn.under_sampling._prototype_selection._nearmiss.NearMiss'> with 1 completed\n",
      "Resampled dataset shape Counter({0: 403, 1: 403})\n",
      "<class 'imblearn.under_sampling._prototype_selection._instance_hardness_threshold.InstanceHardnessThreshold'> with 1 completed\n",
      "Resampled dataset shape Counter({0: 2025, 1: 403})\n",
      "<class 'imblearn.combine._smote_enn.SMOTEENN'> with 1 completed\n",
      "Resampled dataset shape Counter({1: 7719, 0: 5676})\n",
      "<class 'imblearn.combine._smote_tomek.SMOTETomek'> with 1 completed\n",
      "Resampled dataset shape Counter({0: 7972, 1: 7972})\n",
      "8 8\n"
     ]
    }
   ],
   "source": [
    "classes = [RandomOverSampler, SMOTE, BorderlineSMOTE,\n",
    "           RandomUnderSampler, NearMiss, InstanceHardnessThreshold,\n",
    "           SMOTEENN, SMOTETomek]\n",
    "\n",
    "#IR=1\n",
    "X_data_list1, y_data_list1 = resampling(1)\n",
    "\n",
    "print(len(X_data_list1),len(y_data_list1))"
   ]
  },
  {
   "cell_type": "code",
   "execution_count": 24,
   "id": "62502dc8",
   "metadata": {},
   "outputs": [
    {
     "name": "stdout",
     "output_type": "stream",
     "text": [
      "<class 'imblearn.over_sampling._random_over_sampler.RandomOverSampler'> with 0.2 completed\n",
      "Resampled dataset shape Counter({0: 7999, 1: 1599})\n",
      "<class 'imblearn.over_sampling._smote.base.SMOTE'> with 0.2 completed\n",
      "Resampled dataset shape Counter({0: 7999, 1: 1599})\n",
      "<class 'imblearn.over_sampling._smote.filter.BorderlineSMOTE'> with 0.2 completed\n",
      "Resampled dataset shape Counter({0: 7999, 1: 1599})\n",
      "<class 'imblearn.under_sampling._prototype_selection._random_under_sampler.RandomUnderSampler'> with 0.2 completed\n",
      "Resampled dataset shape Counter({0: 2015, 1: 403})\n",
      "<class 'imblearn.under_sampling._prototype_selection._nearmiss.NearMiss'> with 0.2 completed\n",
      "Resampled dataset shape Counter({0: 2015, 1: 403})\n",
      "<class 'imblearn.under_sampling._prototype_selection._instance_hardness_threshold.InstanceHardnessThreshold'> with 0.2 completed\n",
      "Resampled dataset shape Counter({0: 2025, 1: 403})\n",
      "<class 'imblearn.combine._smote_enn.SMOTEENN'> with 0.2 completed\n",
      "Resampled dataset shape Counter({0: 6424, 1: 1139})\n",
      "<class 'imblearn.combine._smote_tomek.SMOTETomek'> with 0.2 completed\n",
      "Resampled dataset shape Counter({0: 7941, 1: 1541})\n",
      "8 8\n"
     ]
    }
   ],
   "source": [
    "#IR=5\n",
    "X_data_list2, y_data_list2 = resampling(0.2)\n",
    "\n",
    "print(len(X_data_list2),len(y_data_list2))"
   ]
  },
  {
   "cell_type": "code",
   "execution_count": 25,
   "id": "c091118f",
   "metadata": {},
   "outputs": [
    {
     "name": "stdout",
     "output_type": "stream",
     "text": [
      "<class 'imblearn.over_sampling._random_over_sampler.RandomOverSampler'> with 0.1 completed\n",
      "Resampled dataset shape Counter({0: 7999, 1: 799})\n",
      "<class 'imblearn.over_sampling._smote.base.SMOTE'> with 0.1 completed\n",
      "Resampled dataset shape Counter({0: 7999, 1: 799})\n",
      "<class 'imblearn.over_sampling._smote.filter.BorderlineSMOTE'> with 0.1 completed\n",
      "Resampled dataset shape Counter({0: 7999, 1: 799})\n",
      "<class 'imblearn.under_sampling._prototype_selection._random_under_sampler.RandomUnderSampler'> with 0.1 completed\n",
      "Resampled dataset shape Counter({0: 4030, 1: 403})\n",
      "<class 'imblearn.under_sampling._prototype_selection._nearmiss.NearMiss'> with 0.1 completed\n",
      "Resampled dataset shape Counter({0: 4030, 1: 403})\n",
      "<class 'imblearn.under_sampling._prototype_selection._instance_hardness_threshold.InstanceHardnessThreshold'> with 0.1 completed\n",
      "Resampled dataset shape Counter({0: 4601, 1: 403})\n",
      "<class 'imblearn.combine._smote_enn.SMOTEENN'> with 0.1 completed\n",
      "Resampled dataset shape Counter({0: 6801, 1: 238})\n",
      "<class 'imblearn.combine._smote_tomek.SMOTETomek'> with 0.1 completed\n",
      "Resampled dataset shape Counter({0: 7907, 1: 707})\n",
      "8 8\n"
     ]
    }
   ],
   "source": [
    "#IR=10\n",
    "X_data_list3, y_data_list3 = resampling(0.1)\n",
    "\n",
    "print(len(X_data_list3),len(y_data_list3))"
   ]
  },
  {
   "cell_type": "code",
   "execution_count": 26,
   "id": "0ce05532",
   "metadata": {},
   "outputs": [
    {
     "name": "stdout",
     "output_type": "stream",
     "text": [
      "<class 'imblearn.over_sampling._random_over_sampler.RandomOverSampler'> with 0.0667 completed\n",
      "Resampled dataset shape Counter({0: 7999, 1: 533})\n",
      "<class 'imblearn.over_sampling._smote.base.SMOTE'> with 0.0667 completed\n",
      "Resampled dataset shape Counter({0: 7999, 1: 533})\n",
      "<class 'imblearn.over_sampling._smote.filter.BorderlineSMOTE'> with 0.0667 completed\n",
      "Resampled dataset shape Counter({0: 7999, 1: 533})\n",
      "<class 'imblearn.under_sampling._prototype_selection._random_under_sampler.RandomUnderSampler'> with 0.0667 completed\n",
      "Resampled dataset shape Counter({0: 6041, 1: 403})\n",
      "<class 'imblearn.under_sampling._prototype_selection._nearmiss.NearMiss'> with 0.0667 completed\n",
      "Resampled dataset shape Counter({0: 6041, 1: 403})\n",
      "<class 'imblearn.under_sampling._prototype_selection._instance_hardness_threshold.InstanceHardnessThreshold'> with 0.0667 completed\n",
      "Resampled dataset shape Counter({0: 6188, 1: 403})\n",
      "<class 'imblearn.combine._smote_enn.SMOTEENN'> with 0.0667 completed\n",
      "Resampled dataset shape Counter({0: 6988, 1: 23})\n",
      "<class 'imblearn.combine._smote_tomek.SMOTETomek'> with 0.0667 completed\n",
      "Resampled dataset shape Counter({0: 7886, 1: 420})\n",
      "8 8\n"
     ]
    }
   ],
   "source": [
    "#IR=15\n",
    "X_data_list4, y_data_list4 = resampling(0.0667)\n",
    "\n",
    "print(len(X_data_list4),len(y_data_list4))"
   ]
  },
  {
   "cell_type": "markdown",
   "id": "0e8ef789",
   "metadata": {
    "id": "0e8ef789"
   },
   "source": [
    "# 5. Model training"
   ]
  },
  {
   "cell_type": "markdown",
   "id": "679ae57d",
   "metadata": {
    "id": "679ae57d"
   },
   "source": [
    "## 5.1 Random forest"
   ]
  },
  {
   "cell_type": "code",
   "execution_count": null,
   "metadata": {
    "execution": {
     "iopub.execute_input": "2023-04-08T16:39:11.231771Z",
     "iopub.status.busy": "2023-04-08T16:39:11.231313Z",
     "iopub.status.idle": "2023-04-08T16:39:11.320271Z",
     "shell.execute_reply": "2023-04-08T16:39:11.319118Z",
     "shell.execute_reply.started": "2023-04-08T16:39:11.231737Z"
    }
   },
   "outputs": [],
   "source": [
    "#grid search for hyper parameter tuning\n",
    "\n",
    "rf = RandomForestClassifier(random_state=0)                       \n",
    "\n",
    "param_grid = {'n_estimators': [25, 50, 100],\n",
    "              'max_features': [2, 4, 8]\n",
    "              }\n",
    "\n",
    "gs_rf = GridSearchCV(rf, param_grid, cv=5, scoring='roc_auc', verbose=0)\n",
    "gs_rf.fit(X_train_final, y_train.values.ravel())     \n",
    "rf_tune = gs_rf.best_estimator_\n",
    "print(\"Best CV AUC: %0.4f\" % gs_rf.best_score_)\n",
    "print(\"Optimal RF meta-parameters:\")\n",
    "print(gs_rf.best_params_)\n",
    "print(rf_tune)"
   ]
  },
  {
   "cell_type": "code",
   "execution_count": null,
   "metadata": {
    "execution": {
     "iopub.execute_input": "2023-04-08T16:39:11.322779Z",
     "iopub.status.busy": "2023-04-08T16:39:11.321523Z",
     "iopub.status.idle": "2023-04-08T16:39:32.525636Z",
     "shell.execute_reply": "2023-04-08T16:39:32.524336Z",
     "shell.execute_reply.started": "2023-04-08T16:39:11.322722Z"
    }
   },
   "outputs": [],
   "source": [
    "rf_tune=RandomForestClassifier(random_state=0, max_features = 2, n_estimators =100)\n",
    "rf_tune.fit(X_train_final, y_train.values.ravel())"
   ]
  },
  {
   "cell_type": "code",
   "execution_count": null,
   "metadata": {
    "execution": {
     "iopub.execute_input": "2023-04-08T16:39:32.527381Z",
     "iopub.status.busy": "2023-04-08T16:39:32.526958Z",
     "iopub.status.idle": "2023-04-08T16:39:32.617670Z",
     "shell.execute_reply": "2023-04-08T16:39:32.616510Z",
     "shell.execute_reply.started": "2023-04-08T16:39:32.527350Z"
    }
   },
   "outputs": [],
   "source": [
    "def evaluation(y_tr,X_tr,y_va,X_va,model):\n",
    "    return roc_auc_score(y_tr, model.predict_proba(X_tr)[:,1]).round(3),\\\n",
    "           roc_auc_score(y_va, model.predict_proba(X_va)[:,1]).round(3),\\\n",
    "           metrics.precision_score(y_va, model.predict(X_va)).round(3),\\\n",
    "           metrics.recall_score(y_va, model.predict(X_va)).round(3),\\\n",
    "           geometric_mean_score(np.ravel(y_va), model.predict(X_va)).round(3),\\\n",
    "           f1_score(y_va, model.predict(X_va)).round(3),\\\n",
    "           metrics.confusion_matrix(y_va, model.predict(X_va))"
   ]
  },
  {
   "cell_type": "code",
   "execution_count": null,
   "metadata": {
    "execution": {
     "iopub.execute_input": "2023-04-08T16:39:32.620087Z",
     "iopub.status.busy": "2023-04-08T16:39:32.619204Z",
     "iopub.status.idle": "2023-04-08T16:39:39.267944Z",
     "shell.execute_reply": "2023-04-08T16:39:39.267112Z",
     "shell.execute_reply.started": "2023-04-08T16:39:32.620045Z"
    }
   },
   "outputs": [],
   "source": [
    "AUC_training,AUC_validation, precison, recall, Gmeans, F1, confusion_matrix = evaluation(y_train,X_train_final,y_val,X_val_final,rf_tune)\n",
    "rf_eva = ['RF', AUC_training,AUC_validation, precison, recall, Gmeans, F1]\n",
    "rf_eva"
   ]
  },
  {
   "cell_type": "markdown",
   "id": "59aaa468",
   "metadata": {
    "id": "59aaa468"
   },
   "source": [
    "## 5.2  neural network"
   ]
  },
  {
   "cell_type": "code",
   "execution_count": null,
   "metadata": {
    "execution": {
     "iopub.execute_input": "2023-04-08T16:39:39.270068Z",
     "iopub.status.busy": "2023-04-08T16:39:39.269394Z",
     "iopub.status.idle": "2023-04-08T16:39:39.551246Z",
     "shell.execute_reply": "2023-04-08T16:39:39.550031Z",
     "shell.execute_reply.started": "2023-04-08T16:39:39.270032Z"
    }
   },
   "outputs": [],
   "source": [
    "# Define model\n",
    "model = keras.Sequential([ \n",
    "    keras.Input(shape=(X_train_final.shape[1],)),\n",
    "    layers.Dense(16, activation='relu'),\n",
    "    layers.Dense(1, activation = \"sigmoid\")\n",
    "])\n",
    "\n",
    "# Compile model\n",
    "model.compile(optimizer = 'adam',\n",
    "    loss=\"binary_crossentropy\",\n",
    "    metrics = [\"AUC\"]\n",
    ")\n",
    "print(model.summary())\n",
    "\n",
    "early_stopping_monitor = EarlyStopping(\n",
    "    monitor='val_auc',\n",
    "    min_delta=0,\n",
    "    patience=5,\n",
    "    verbose=0,\n",
    "    mode='auto',\n",
    "    baseline=None,\n",
    "    restore_best_weights=True\n",
    ")"
   ]
  },
  {
   "cell_type": "code",
   "execution_count": null,
   "metadata": {
    "execution": {
     "iopub.execute_input": "2023-04-08T16:39:39.552789Z",
     "iopub.status.busy": "2023-04-08T16:39:39.552438Z",
     "iopub.status.idle": "2023-04-08T16:40:07.297601Z",
     "shell.execute_reply": "2023-04-08T16:40:07.296626Z",
     "shell.execute_reply.started": "2023-04-08T16:39:39.552756Z"
    }
   },
   "outputs": [],
   "source": [
    "# Fit the model\n",
    "history = model.fit(X_train_final,\n",
    "                    y_train,\n",
    "                    epochs = 20,\n",
    "                    batch_size = 128,\n",
    "                    validation_data=(X_val_final, y_val),\n",
    "                    callbacks=[early_stopping_monitor])"
   ]
  },
  {
   "cell_type": "code",
   "execution_count": null,
   "metadata": {
    "execution": {
     "iopub.execute_input": "2023-04-08T16:40:07.299992Z",
     "iopub.status.busy": "2023-04-08T16:40:07.299522Z",
     "iopub.status.idle": "2023-04-08T16:40:07.391936Z",
     "shell.execute_reply": "2023-04-08T16:40:07.390978Z",
     "shell.execute_reply.started": "2023-04-08T16:40:07.299946Z"
    }
   },
   "outputs": [],
   "source": [
    "def evaluation_nn(y_tr, X_tr, y_va,X_va, model):\n",
    "    return roc_auc_score(y_tr, model.predict(X_tr)).round(3),\\\n",
    "           roc_auc_score(y_va, model.predict(X_va)).round(3),\\\n",
    "           metrics.precision_score(y_va, np.where(model.predict(X_va) >= 0.5, 1, 0)).round(3),\\\n",
    "           metrics.recall_score(y_va, np.where(model.predict(X_va) >= 0.5, 1, 0)).round(3),\\\n",
    "           geometric_mean_score(np.ravel(y_va), np.ravel(np.where(model.predict(X_va) >= 0.5, 1, 0))).round(3),\\\n",
    "           f1_score(y_va, np.where(model.predict(X_va) >= 0.5, 1, 0)).round(3),\\\n",
    "           metrics.confusion_matrix(y_va, np.where(model.predict(X_va) >= 0.5, 1, 0))"
   ]
  },
  {
   "cell_type": "code",
   "execution_count": null,
   "metadata": {
    "execution": {
     "iopub.execute_input": "2023-04-08T16:40:07.394033Z",
     "iopub.status.busy": "2023-04-08T16:40:07.393050Z",
     "iopub.status.idle": "2023-04-08T16:40:37.115895Z",
     "shell.execute_reply": "2023-04-08T16:40:37.114693Z",
     "shell.execute_reply.started": "2023-04-08T16:40:07.393997Z"
    }
   },
   "outputs": [],
   "source": [
    "AUC_training,AUC_validation, precison, recall, Gmeans, F1, confusion_matrix = evaluation_nn(y_train,X_train_final,y_val,X_val_final,model)\n",
    "nn_eva = ['NN', AUC_training,AUC_validation, precison, recall, Gmeans, F1]\n",
    "nn_eva"
   ]
  },
  {
   "cell_type": "markdown",
   "id": "e6f68058",
   "metadata": {
    "id": "e6f68058"
   },
   "source": [
    "## 5.3 Logit"
   ]
  },
  {
   "cell_type": "code",
   "execution_count": null,
   "metadata": {
    "execution": {
     "iopub.execute_input": "2023-04-08T16:40:37.117685Z",
     "iopub.status.busy": "2023-04-08T16:40:37.117364Z",
     "iopub.status.idle": "2023-04-08T16:40:48.069849Z",
     "shell.execute_reply": "2023-04-08T16:40:48.068093Z",
     "shell.execute_reply.started": "2023-04-08T16:40:37.117655Z"
    },
    "id": "a47207dc"
   },
   "outputs": [],
   "source": [
    "logit = LogisticRegressionCV(cv=5, random_state=0, max_iter=2000).fit(X_train_final,y_train.values.ravel())"
   ]
  },
  {
   "cell_type": "code",
   "execution_count": null,
   "metadata": {
    "execution": {
     "iopub.execute_input": "2023-04-08T16:40:48.074216Z",
     "iopub.status.busy": "2023-04-08T16:40:48.072482Z",
     "iopub.status.idle": "2023-04-08T16:40:48.409428Z",
     "shell.execute_reply": "2023-04-08T16:40:48.407781Z",
     "shell.execute_reply.started": "2023-04-08T16:40:48.074142Z"
    },
    "id": "7bd6e21e",
    "outputId": "cdcbfa4f-b68e-4e1e-c002-5baa87da21c7"
   },
   "outputs": [],
   "source": [
    "AUC_training,AUC_validation, precison, recall, Gmeans, F1, confusion_matrix = evaluation(y_train,X_train_final,y_val,X_val_final,logit)\n",
    "logit_eva = ['logit', AUC_training,AUC_validation, precison, recall, Gmeans, F1]\n",
    "logit_eva"
   ]
  },
  {
   "cell_type": "markdown",
   "id": "60902772",
   "metadata": {},
   "source": [
    "### 5.3.2 Applying resampling methods on logit"
   ]
  },
  {
   "cell_type": "code",
   "execution_count": null,
   "metadata": {
    "execution": {
     "iopub.execute_input": "2023-04-08T18:08:36.796970Z",
     "iopub.status.busy": "2023-04-08T18:08:36.796206Z",
     "iopub.status.idle": "2023-04-08T18:08:36.888390Z",
     "shell.execute_reply": "2023-04-08T18:08:36.887409Z",
     "shell.execute_reply.started": "2023-04-08T18:08:36.796909Z"
    }
   },
   "outputs": [],
   "source": [
    "def logit_resampling(X_data_list, y_data_list):\n",
    "    AUC_training_list = []\n",
    "    AUC_validation_list = []\n",
    "    precision_list = []\n",
    "    recall_list = []\n",
    "    Gmeans_list = []\n",
    "    F1_list = []\n",
    "    confusion_matrix_list = []\n",
    "    for X_data, y_data in zip(X_data_list, y_data_list):\n",
    "        instance_lr = logit.fit(X_data, y_data)\n",
    "        AUC_training,AUC_validation, precison, recall, Gmeans, F1, confusion_matrix = evaluation(y_data,X_data,y_val,X_val_final,instance_lr)\n",
    "        AUC_training_list.append(AUC_training)\n",
    "        AUC_validation_list.append(AUC_validation)\n",
    "        precision_list.append(precison)\n",
    "        recall_list.append(recall)\n",
    "        Gmeans_list.append(Gmeans)\n",
    "        F1_list.append(F1)\n",
    "        confusion_matrix_list.append(confusion_matrix)\n",
    "        #print evaluation lists\n",
    "    print(\"AUC validation:{}\".format(AUC_validation_list))\n",
    "    return AUC_training_list, AUC_validation_list, precision_list, recall_list, Gmeans_list, F1_list, confusion_matrix_list"
   ]
  },
  {
   "cell_type": "code",
   "execution_count": null,
   "metadata": {
    "execution": {
     "iopub.execute_input": "2023-04-08T18:08:36.891759Z",
     "iopub.status.busy": "2023-04-08T18:08:36.891269Z",
     "iopub.status.idle": "2023-04-08T18:10:31.012208Z",
     "shell.execute_reply": "2023-04-08T18:10:31.010705Z",
     "shell.execute_reply.started": "2023-04-08T18:08:36.891717Z"
    }
   },
   "outputs": [],
   "source": [
    "#IR =1\n",
    "AUC_training_list, AUC_validation_list, precision_list, recall_list, Gmeans_list, F1_list, confusion_matrix_list = logit_resampling(X_data_list1, y_data_list1)\n",
    "\n",
    "approaches = ['RandomOverSampler', 'SMOTE','BorderlineSMOTE',\n",
    "             'RandomUnderSampler', 'NearMiss', 'InstanceHardnessThreshold',\n",
    "             'SMOTEENN', 'SMOTETomek']\n",
    "\n",
    "dic = {'Approaches': approaches, 'AUC_training': AUC_training_list,\n",
    "     'AUC_validation': AUC_validation_list ,'precison': precision_list, \n",
    "     'recall': recall_list, 'Gmeans' : Gmeans_list, 'F1': F1_list}\n",
    "#turn into dataframe\n",
    "dflog = pd.DataFrame(dic)\n",
    "dflog.loc[len(dflog)] = logit_eva\n",
    "dflog"
   ]
  },
  {
   "cell_type": "code",
   "execution_count": null,
   "metadata": {
    "execution": {
     "iopub.execute_input": "2023-04-08T18:10:31.015832Z",
     "iopub.status.busy": "2023-04-08T18:10:31.014359Z",
     "iopub.status.idle": "2023-04-08T18:11:55.760258Z",
     "shell.execute_reply": "2023-04-08T18:11:55.759085Z",
     "shell.execute_reply.started": "2023-04-08T18:10:31.015780Z"
    }
   },
   "outputs": [],
   "source": [
    "#IR = 5\n",
    "AUC_training_list, AUC_validation_list, precision_list, recall_list, Gmeans_list, F1_list, confusion_matrix_list = logit_resampling(X_data_list2, y_data_list2)\n",
    "\n",
    "approaches = ['RandomOverSampler', 'SMOTE','BorderlineSMOTE',\n",
    "             'RandomUnderSampler', 'NearMiss', 'InstanceHardnessThreshold',\n",
    "             'SMOTEENN', 'SMOTETomek']\n",
    "\n",
    "dic = {'Approaches': approaches, 'AUC_training': AUC_training_list,\n",
    "     'AUC_validation': AUC_validation_list ,'precison': precision_list, \n",
    "     'recall': recall_list, 'Gmeans' : Gmeans_list, 'F1': F1_list}\n",
    "#turn into dataframe\n",
    "dflog2 = pd.DataFrame(dic)\n",
    "dflog2.loc[len(dflog2)] = logit_eva\n",
    "dflog2"
   ]
  },
  {
   "cell_type": "code",
   "execution_count": null,
   "metadata": {
    "execution": {
     "iopub.execute_input": "2023-04-08T18:11:55.767102Z",
     "iopub.status.busy": "2023-04-08T18:11:55.766172Z",
     "iopub.status.idle": "2023-04-08T18:13:32.848378Z",
     "shell.execute_reply": "2023-04-08T18:13:32.847236Z",
     "shell.execute_reply.started": "2023-04-08T18:11:55.767051Z"
    }
   },
   "outputs": [],
   "source": [
    "#IR = 10\n",
    "AUC_training_list, AUC_validation_list, precision_list, recall_list, Gmeans_list, F1_list, confusion_matrix_list = logit_resampling(X_data_list3, y_data_list3)\n",
    "\n",
    "approaches = ['RandomOverSampler', 'SMOTE','BorderlineSMOTE',\n",
    "             'RandomUnderSampler', 'NearMiss', 'InstanceHardnessThreshold',\n",
    "             'SMOTEENN', 'SMOTETomek']\n",
    "\n",
    "dic = {'Approaches': approaches, 'AUC_training': AUC_training_list,\n",
    "     'AUC_validation': AUC_validation_list ,'precison': precision_list, \n",
    "     'recall': recall_list, 'Gmeans' : Gmeans_list, 'F1': F1_list}\n",
    "#turn into dataframe\n",
    "dflog3 = pd.DataFrame(dic)\n",
    "dflog3.loc[len(dflog3)] = logit_eva\n",
    "dflog3"
   ]
  },
  {
   "cell_type": "code",
   "execution_count": null,
   "metadata": {
    "execution": {
     "iopub.execute_input": "2023-04-08T18:13:32.851314Z",
     "iopub.status.busy": "2023-04-08T18:13:32.850445Z",
     "iopub.status.idle": "2023-04-08T18:15:21.723100Z",
     "shell.execute_reply": "2023-04-08T18:15:21.721347Z",
     "shell.execute_reply.started": "2023-04-08T18:13:32.851265Z"
    }
   },
   "outputs": [],
   "source": [
    "#IR = 15\n",
    "AUC_training_list, AUC_validation_list, precision_list, recall_list, Gmeans_list, F1_list, confusion_matrix_list = logit_resampling(X_data_list4, y_data_list4)\n",
    "\n",
    "approaches = ['RandomOverSampler', 'SMOTE','BorderlineSMOTE',\n",
    "             'RandomUnderSampler', 'NearMiss', 'InstanceHardnessThreshold',\n",
    "             'SMOTEENN', 'SMOTETomek']\n",
    "\n",
    "dic = {'Approaches': approaches, 'AUC_training': AUC_training_list,\n",
    "     'AUC_validation': AUC_validation_list ,'precison': precision_list, \n",
    "     'recall': recall_list, 'Gmeans' : Gmeans_list, 'F1': F1_list}\n",
    "#turn into dataframe\n",
    "dflog4 = pd.DataFrame(dic)\n",
    "dflog4.loc[len(dflog4)] = logit_eva\n",
    "dflog4"
   ]
  },
  {
   "cell_type": "markdown",
   "id": "j3G2SI8lryJM",
   "metadata": {
    "id": "j3G2SI8lryJM"
   },
   "source": [
    "### Aggregate and output result"
   ]
  },
  {
   "cell_type": "code",
   "execution_count": null,
   "metadata": {
    "execution": {
     "iopub.execute_input": "2023-04-08T18:15:21.847691Z",
     "iopub.status.busy": "2023-04-08T18:15:21.847163Z",
     "iopub.status.idle": "2023-04-08T18:15:21.950814Z",
     "shell.execute_reply": "2023-04-08T18:15:21.949241Z",
     "shell.execute_reply.started": "2023-04-08T18:15:21.847601Z"
    }
   },
   "outputs": [],
   "source": [
    "#aggregate AUC validation\n",
    "dflogit = pd.concat([dflog4.iloc[:,2],dflog3.iloc[:,2],dflog2.iloc[:,2],dflog.iloc[:,2]],axis=1)\n",
    "dflogit.columns = ['1:15', '1:10', '1:5', '1:1']\n",
    "dflogit.index = dflog4.iloc[:,0]\n",
    "dflogit"
   ]
  },
  {
   "cell_type": "code",
   "execution_count": null,
   "metadata": {
    "execution": {
     "iopub.execute_input": "2023-04-08T18:15:21.953048Z",
     "iopub.status.busy": "2023-04-08T18:15:21.952535Z",
     "iopub.status.idle": "2023-04-08T18:15:22.053288Z",
     "shell.execute_reply": "2023-04-08T18:15:22.051886Z",
     "shell.execute_reply.started": "2023-04-08T18:15:21.953012Z"
    }
   },
   "outputs": [],
   "source": [
    "dflogit.to_csv('/kaggle/working/kaggle_logit_auc.csv', index =True, encoding = 'utf-8-sig') "
   ]
  },
  {
   "cell_type": "code",
   "execution_count": null,
   "metadata": {
    "execution": {
     "iopub.execute_input": "2023-04-08T18:15:22.055841Z",
     "iopub.status.busy": "2023-04-08T18:15:22.055360Z",
     "iopub.status.idle": "2023-04-08T18:15:22.158737Z",
     "shell.execute_reply": "2023-04-08T18:15:22.157601Z",
     "shell.execute_reply.started": "2023-04-08T18:15:22.055800Z"
    }
   },
   "outputs": [],
   "source": [
    "#aggregate gmeans\n",
    "logit_gmeans = pd.concat([dflog4.iloc[:,5],dflog3.iloc[:,5],dflog2.iloc[:,5],dflog.iloc[:,5]],axis=1)\n",
    "logit_gmeans.columns = ['1:15', '1:10', '1:5', '1:1']\n",
    "logit_gmeans.index = dflog4.iloc[:,0]\n",
    "logit_gmeans"
   ]
  },
  {
   "cell_type": "code",
   "execution_count": null,
   "metadata": {
    "execution": {
     "iopub.execute_input": "2023-04-08T18:17:13.914832Z",
     "iopub.status.busy": "2023-04-08T18:17:13.914393Z",
     "iopub.status.idle": "2023-04-08T18:17:14.009917Z",
     "shell.execute_reply": "2023-04-08T18:17:14.008627Z",
     "shell.execute_reply.started": "2023-04-08T18:17:13.914791Z"
    }
   },
   "outputs": [],
   "source": [
    "logit_gmeans.to_csv('/kaggle/working/kaggle_logit_gmeans.csv', index =True, encoding = 'utf-8-sig') "
   ]
  },
  {
   "cell_type": "code",
   "execution_count": null,
   "metadata": {
    "execution": {
     "iopub.execute_input": "2023-04-08T18:17:26.265154Z",
     "iopub.status.busy": "2023-04-08T18:17:26.264239Z",
     "iopub.status.idle": "2023-04-08T18:17:26.368714Z",
     "shell.execute_reply": "2023-04-08T18:17:26.367634Z",
     "shell.execute_reply.started": "2023-04-08T18:17:26.265109Z"
    }
   },
   "outputs": [],
   "source": [
    "#aggregate fmeasure\n",
    "logit_fmeasure = pd.concat([dflog4.iloc[:,6],dflog3.iloc[:,6],dflog2.iloc[:,6],dflog.iloc[:,6]],axis=1)\n",
    "logit_fmeasure.columns = ['1:15', '1:10', '1:5', '1:1']\n",
    "logit_fmeasure.index = dflog4.iloc[:,0]\n",
    "logit_fmeasure"
   ]
  },
  {
   "cell_type": "code",
   "execution_count": null,
   "metadata": {
    "execution": {
     "iopub.execute_input": "2023-04-08T18:17:30.249237Z",
     "iopub.status.busy": "2023-04-08T18:17:30.248806Z",
     "iopub.status.idle": "2023-04-08T18:17:30.339118Z",
     "shell.execute_reply": "2023-04-08T18:17:30.337897Z",
     "shell.execute_reply.started": "2023-04-08T18:17:30.249197Z"
    }
   },
   "outputs": [],
   "source": [
    "logit_fmeasure.to_csv('/kaggle/working/kaggle_logit_fmeasure.csv', index =True, encoding = 'utf-8-sig') "
   ]
  },
  {
   "cell_type": "code",
   "execution_count": null,
   "metadata": {},
   "outputs": [],
   "source": []
  },
  {
   "cell_type": "markdown",
   "metadata": {
    "id": "52653b74"
   },
   "source": [
    "## XGBoost"
   ]
  },
  {
   "cell_type": "code",
   "execution_count": null,
   "metadata": {
    "execution": {
     "iopub.status.busy": "2023-04-08T18:15:22.255308Z",
     "iopub.status.idle": "2023-04-08T18:15:22.255725Z",
     "shell.execute_reply": "2023-04-08T18:15:22.255517Z",
     "shell.execute_reply.started": "2023-04-08T18:15:22.255498Z"
    },
    "id": "10179770",
    "outputId": "66e88da6-e50b-43b9-980d-9edfc65c4dd5"
   },
   "outputs": [],
   "source": [
    "#perform hyper parameter grid search\n",
    "\n",
    "xgb_param_grid = {\n",
    "    'colsample_bytree': np.linspace(0.1, 0.8, 3), # Subsample ratio of columns when constructing each tree\n",
    "    'n_estimators': [50,75,100],  # Number of gradient boosted trees\n",
    "    'max_depth': [3, 5, 8],   # max depth of decision trees\n",
    "    'learning_rate': np.linspace(0.01, 0.1, 3), #Boosting learning rate\n",
    "    'subsample': np.linspace(0.5, 0.8, 3)}  # Subsample ratio of the training instance\n",
    "\n",
    "gs_xgb = GridSearchCV(estimator=XGBClassifier(use_label_encoder=False, eval_metric ='auc'), \n",
    "                      param_grid=xgb_param_grid, scoring='roc_auc', cv=5, verbose=0)\n",
    "\n",
    "gs_xgb.fit(X_train_final, y_train.values.ravel())\n",
    "xgb_tune = gs_xgb.best_estimator_\n",
    "\n",
    "print(\"Best CV AUC: %0.4f\" % gs_xgb.best_score_)\n",
    "print(\"Optimal XGB meta-parameters:\")\n",
    "print(gs_xgb.best_params_)\n",
    "print(xgb_tune)"
   ]
  },
  {
   "cell_type": "code",
   "execution_count": null,
   "metadata": {
    "execution": {
     "iopub.execute_input": "2023-04-08T18:17:46.150462Z",
     "iopub.status.busy": "2023-04-08T18:17:46.150025Z",
     "iopub.status.idle": "2023-04-08T18:17:51.156130Z",
     "shell.execute_reply": "2023-04-08T18:17:51.154927Z",
     "shell.execute_reply.started": "2023-04-08T18:17:46.150424Z"
    }
   },
   "outputs": [],
   "source": [
    "#run this to skip xgb tuning\n",
    "xgb_tune = XGBClassifier(base_score=0.5, booster='gbtree', colsample_bylevel=1,\n",
    "              colsample_bynode=1, colsample_bytree=0.45000000000000007,\n",
    "              enable_categorical=False, eval_metric='auc', gamma=0, gpu_id=-1,\n",
    "              importance_type=None, interaction_constraints='',\n",
    "              learning_rate=0.1, max_delta_step=0, max_depth=5,\n",
    "              min_child_weight=1, monotone_constraints='()',\n",
    "              n_estimators=100, n_jobs=8, num_parallel_tree=1, predictor='auto',\n",
    "              random_state=0, reg_alpha=0, reg_lambda=1, scale_pos_weight=1,\n",
    "              subsample=0.8, tree_method='exact', use_label_encoder=False,\n",
    "              validate_parameters=1, verbosity=None)\n",
    "xgb_tune.fit(X_train_final, y_train.values.ravel())"
   ]
  },
  {
   "cell_type": "code",
   "execution_count": null,
   "metadata": {
    "execution": {
     "iopub.execute_input": "2023-04-08T18:17:51.158257Z",
     "iopub.status.busy": "2023-04-08T18:17:51.157882Z",
     "iopub.status.idle": "2023-04-08T18:17:51.611177Z",
     "shell.execute_reply": "2023-04-08T18:17:51.610287Z",
     "shell.execute_reply.started": "2023-04-08T18:17:51.158221Z"
    },
    "id": "74e4b12e",
    "outputId": "1b997561-ab05-49d9-9fcf-2fb62717f5f9"
   },
   "outputs": [],
   "source": [
    "AUC_training,AUC_validation, precison, recall, Gmeans, F1, confusion_matrix = evaluation(y_train,X_train_final,y_val,X_val_final,xgb_tune)\n",
    "xgb_eva=['xgb', AUC_training,AUC_validation, precison, recall, Gmeans, F1]\n",
    "xgb_eva"
   ]
  },
  {
   "cell_type": "markdown",
   "metadata": {
    "id": "89b5cba7"
   },
   "source": [
    "### xgb + resampling approaches"
   ]
  },
  {
   "cell_type": "code",
   "execution_count": null,
   "metadata": {
    "execution": {
     "iopub.execute_input": "2023-04-08T18:17:53.052238Z",
     "iopub.status.busy": "2023-04-08T18:17:53.051428Z",
     "iopub.status.idle": "2023-04-08T18:17:53.144260Z",
     "shell.execute_reply": "2023-04-08T18:17:53.142642Z",
     "shell.execute_reply.started": "2023-04-08T18:17:53.052182Z"
    }
   },
   "outputs": [],
   "source": [
    "def xgb_resampling(X_data_list, y_data_list):\n",
    "    AUC_training_list = []\n",
    "    AUC_validation_list = []\n",
    "    precision_list = []\n",
    "    recall_list = []\n",
    "    Gmeans_list = []\n",
    "    F1_list = []\n",
    "    confusion_matrix_list = []\n",
    "    for X_data, y_data in zip(X_data_list, y_data_list):\n",
    "        instance_xgb = xgb_tune.fit(X_data, y_data,eval_set=[(X_val_final, y_val)], early_stopping_rounds= 50)\n",
    "        AUC_training,AUC_validation, precison, recall, Gmeans, F1, confusion_matrix = evaluation(y_data,X_data,y_val,X_val_final,instance_xgb)\n",
    "        AUC_training_list.append(AUC_training)\n",
    "        AUC_validation_list.append(AUC_validation)\n",
    "        precision_list.append(precison)\n",
    "        recall_list.append(recall)\n",
    "        Gmeans_list.append(Gmeans)\n",
    "        F1_list.append(F1)\n",
    "        confusion_matrix_list.append(confusion_matrix)\n",
    "        #print evaluation lists\n",
    "    print(\"AUC validation:{}\".format(AUC_validation_list))\n",
    "    return AUC_training_list, AUC_validation_list, precision_list, recall_list, Gmeans_list, F1_list, confusion_matrix_list"
   ]
  },
  {
   "cell_type": "code",
   "execution_count": null,
   "metadata": {
    "execution": {
     "iopub.execute_input": "2023-04-08T18:17:55.614228Z",
     "iopub.status.busy": "2023-04-08T18:17:55.613794Z",
     "iopub.status.idle": "2023-04-08T18:19:05.223774Z",
     "shell.execute_reply": "2023-04-08T18:19:05.222650Z",
     "shell.execute_reply.started": "2023-04-08T18:17:55.614193Z"
    }
   },
   "outputs": [],
   "source": [
    "# IR=1\n",
    "AUC_training_list, AUC_validation_list, precision_list, recall_list, Gmeans_list, F1_list, confusion_matrix_list = xgb_resampling(X_data_list1, y_data_list1)\n",
    "\n",
    "approaches = ['RandomOverSampler', 'SMOTE','BorderlineSMOTE',\n",
    "             'RandomUnderSampler', 'NearMiss', 'InstanceHardnessThreshold',\n",
    "             'SMOTEENN', 'SMOTETomek']\n",
    "\n",
    "dic = {'Approaches': approaches, 'AUC_training': AUC_training_list,\n",
    "     'AUC_validation': AUC_validation_list ,'precison': precision_list, \n",
    "     'recall': recall_list, 'Gmeans' : Gmeans_list, 'F1': F1_list}\n",
    "\n",
    "dfxgb = pd.DataFrame(dic)\n",
    "dfxgb.loc[len(dfxgb)] = xgb_eva\n",
    "dfxgb"
   ]
  },
  {
   "cell_type": "code",
   "execution_count": null,
   "metadata": {
    "execution": {
     "iopub.execute_input": "2023-04-08T18:19:10.391137Z",
     "iopub.status.busy": "2023-04-08T18:19:10.390700Z",
     "iopub.status.idle": "2023-04-08T18:20:09.553000Z",
     "shell.execute_reply": "2023-04-08T18:20:09.551683Z",
     "shell.execute_reply.started": "2023-04-08T18:19:10.391101Z"
    }
   },
   "outputs": [],
   "source": [
    "# IR=5\n",
    "AUC_training_list, AUC_validation_list, precision_list, recall_list, Gmeans_list, F1_list, confusion_matrix_list = xgb_resampling(X_data_list2, y_data_list2)\n",
    "\n",
    "approaches = ['RandomOverSampler', 'SMOTE','BorderlineSMOTE',\n",
    "             'RandomUnderSampler', 'NearMiss', 'InstanceHardnessThreshold',\n",
    "             'SMOTEENN', 'SMOTETomek']\n",
    "\n",
    "dic = {'Approaches': approaches, 'AUC_training': AUC_training_list,\n",
    "     'AUC_validation': AUC_validation_list ,'precison': precision_list, \n",
    "     'recall': recall_list, 'Gmeans' : Gmeans_list, 'F1': F1_list}\n",
    "\n",
    "dfxgb2 = pd.DataFrame(dic)\n",
    "dfxgb2.loc[len(dfxgb2)] = xgb_eva\n",
    "dfxgb2"
   ]
  },
  {
   "cell_type": "code",
   "execution_count": null,
   "metadata": {
    "execution": {
     "iopub.execute_input": "2023-04-08T18:20:33.512654Z",
     "iopub.status.busy": "2023-04-08T18:20:33.512197Z",
     "iopub.status.idle": "2023-04-08T18:21:35.263059Z",
     "shell.execute_reply": "2023-04-08T18:21:35.262160Z",
     "shell.execute_reply.started": "2023-04-08T18:20:33.512612Z"
    }
   },
   "outputs": [],
   "source": [
    "#IR=10\n",
    "AUC_training_list, AUC_validation_list, precision_list, recall_list, Gmeans_list, F1_list, confusion_matrix_list = xgb_resampling(X_data_list3, y_data_list3)\n",
    "\n",
    "approaches = ['RandomOverSampler', 'SMOTE','BorderlineSMOTE',\n",
    "             'RandomUnderSampler', 'NearMiss', 'InstanceHardnessThreshold',\n",
    "             'SMOTEENN', 'SMOTETomek']\n",
    "\n",
    "dic = {'Approaches': approaches, 'AUC_training': AUC_training_list,\n",
    "     'AUC_validation': AUC_validation_list ,'precison': precision_list, \n",
    "     'recall': recall_list, 'Gmeans' : Gmeans_list, 'F1': F1_list}\n",
    "\n",
    "dfxgb3 = pd.DataFrame(dic)\n",
    "dfxgb3.loc[len(dfxgb3)] = xgb_eva\n",
    "dfxgb3"
   ]
  },
  {
   "cell_type": "code",
   "execution_count": null,
   "metadata": {
    "execution": {
     "iopub.execute_input": "2023-04-08T18:21:53.580122Z",
     "iopub.status.busy": "2023-04-08T18:21:53.578500Z",
     "iopub.status.idle": "2023-04-08T18:22:59.139673Z",
     "shell.execute_reply": "2023-04-08T18:22:59.137009Z",
     "shell.execute_reply.started": "2023-04-08T18:21:53.580060Z"
    }
   },
   "outputs": [],
   "source": [
    "#IR=15\n",
    "AUC_training_list, AUC_validation_list, precision_list, recall_list, Gmeans_list, F1_list, confusion_matrix_list = xgb_resampling(X_data_list4, y_data_list4)\n",
    "\n",
    "approaches = ['RandomOverSampler', 'SMOTE','BorderlineSMOTE',\n",
    "             'RandomUnderSampler', 'NearMiss', 'InstanceHardnessThreshold',\n",
    "             'SMOTEENN', 'SMOTETomek']\n",
    "\n",
    "dic = {'Approaches': approaches, 'AUC_training': AUC_training_list,\n",
    "     'AUC_validation': AUC_validation_list ,'precison': precision_list, \n",
    "     'recall': recall_list, 'Gmeans' : Gmeans_list, 'F1': F1_list}\n",
    "\n",
    "dfxgb4 = pd.DataFrame(dic)\n",
    "dfxgb4.loc[len(dfxgb4)] = xgb_eva\n",
    "dfxgb4"
   ]
  },
  {
   "cell_type": "markdown",
   "id": "by9_lk_Rr_-D",
   "metadata": {
    "id": "by9_lk_Rr_-D"
   },
   "source": [
    "### Aggregate and output results"
   ]
  },
  {
   "cell_type": "code",
   "execution_count": null,
   "metadata": {
    "execution": {
     "iopub.execute_input": "2023-04-08T18:23:33.974810Z",
     "iopub.status.busy": "2023-04-08T18:23:33.973998Z",
     "iopub.status.idle": "2023-04-08T18:23:34.081593Z",
     "shell.execute_reply": "2023-04-08T18:23:34.080287Z",
     "shell.execute_reply.started": "2023-04-08T18:23:33.974714Z"
    }
   },
   "outputs": [],
   "source": [
    "#aggregate AUC validation\n",
    "dfxgboost = pd.concat([dfxgb4.iloc[:,2],dfxgb3.iloc[:,2],dfxgb2.iloc[:,2],dfxgb.iloc[:,2]],axis=1)\n",
    "dfxgboost.columns = ['1:15', '1:10', '1:5', '1:1']\n",
    "dfxgboost.index = dfxgb4.iloc[:,0]\n",
    "dfxgboost"
   ]
  },
  {
   "cell_type": "code",
   "execution_count": null,
   "metadata": {
    "execution": {
     "iopub.execute_input": "2023-04-08T18:23:37.292412Z",
     "iopub.status.busy": "2023-04-08T18:23:37.291455Z",
     "iopub.status.idle": "2023-04-08T18:23:37.381456Z",
     "shell.execute_reply": "2023-04-08T18:23:37.380009Z",
     "shell.execute_reply.started": "2023-04-08T18:23:37.292367Z"
    }
   },
   "outputs": [],
   "source": [
    "dfxgboost.to_csv('/kaggle/working/kaggle_xgb_auc.csv', index = True, encoding = 'utf-8-sig') "
   ]
  },
  {
   "cell_type": "code",
   "execution_count": null,
   "metadata": {
    "execution": {
     "iopub.execute_input": "2023-04-08T18:23:39.865676Z",
     "iopub.status.busy": "2023-04-08T18:23:39.864728Z",
     "iopub.status.idle": "2023-04-08T18:23:39.964980Z",
     "shell.execute_reply": "2023-04-08T18:23:39.963852Z",
     "shell.execute_reply.started": "2023-04-08T18:23:39.865628Z"
    }
   },
   "outputs": [],
   "source": [
    "#aggregate gmeans\n",
    "xgb_gmeans = pd.concat([dfxgb4.iloc[:,5],dfxgb3.iloc[:,5],dfxgb2.iloc[:,5],dfxgb.iloc[:,5]],axis=1)\n",
    "xgb_gmeans.columns = ['1:15', '1:10', '1:5', '1:1']\n",
    "xgb_gmeans.index = dfxgb4.iloc[:,0]\n",
    "xgb_gmeans"
   ]
  },
  {
   "cell_type": "code",
   "execution_count": null,
   "metadata": {
    "execution": {
     "iopub.execute_input": "2023-04-08T18:23:43.229320Z",
     "iopub.status.busy": "2023-04-08T18:23:43.228892Z",
     "iopub.status.idle": "2023-04-08T18:23:43.320102Z",
     "shell.execute_reply": "2023-04-08T18:23:43.318629Z",
     "shell.execute_reply.started": "2023-04-08T18:23:43.229281Z"
    }
   },
   "outputs": [],
   "source": [
    "xgb_gmeans.to_csv('/kaggle/working/kaggle_xgb_gmeans.csv', index = True, encoding = 'utf-8-sig') "
   ]
  },
  {
   "cell_type": "code",
   "execution_count": null,
   "metadata": {
    "execution": {
     "iopub.execute_input": "2023-04-08T18:23:45.965626Z",
     "iopub.status.busy": "2023-04-08T18:23:45.964660Z",
     "iopub.status.idle": "2023-04-08T18:23:46.067749Z",
     "shell.execute_reply": "2023-04-08T18:23:46.066750Z",
     "shell.execute_reply.started": "2023-04-08T18:23:45.965584Z"
    }
   },
   "outputs": [],
   "source": [
    "#aggregate fmeasure\n",
    "xgb_fmeasure = pd.concat([dfxgb4.iloc[:,6],dfxgb3.iloc[:,6],dfxgb2.iloc[:,6],dfxgb.iloc[:,6]],axis=1)\n",
    "xgb_fmeasure.columns = ['1:15', '1:10', '1:5', '1:1']\n",
    "xgb_fmeasure.index = dfxgb4.iloc[:,0]\n",
    "xgb_fmeasure"
   ]
  },
  {
   "cell_type": "code",
   "execution_count": null,
   "metadata": {
    "execution": {
     "iopub.execute_input": "2023-04-08T18:23:49.048304Z",
     "iopub.status.busy": "2023-04-08T18:23:49.047490Z",
     "iopub.status.idle": "2023-04-08T18:23:49.138305Z",
     "shell.execute_reply": "2023-04-08T18:23:49.136985Z",
     "shell.execute_reply.started": "2023-04-08T18:23:49.048218Z"
    }
   },
   "outputs": [],
   "source": [
    "xgb_fmeasure.to_csv('/kaggle/working/kaggle_xgb_fmeasure.csv', index = True, encoding = 'utf-8-sig') "
   ]
  },
  {
   "cell_type": "code",
   "execution_count": null,
   "metadata": {
    "execution": {
     "iopub.execute_input": "2023-04-08T18:24:02.266651Z",
     "iopub.status.busy": "2023-04-08T18:24:02.266178Z",
     "iopub.status.idle": "2023-04-08T18:24:02.366785Z",
     "shell.execute_reply": "2023-04-08T18:24:02.365332Z",
     "shell.execute_reply.started": "2023-04-08T18:24:02.266611Z"
    },
    "id": "2085f13f",
    "outputId": "4416bb42-b65a-4a1d-85e3-a0e946eaacd2"
   },
   "outputs": [],
   "source": [
    "#aggregate the evaluation results for four models\n",
    "models = [logit_eva[0], rf_eva[0],xgb_eva[0],nn_eva[0]]\n",
    "AUC_val = [logit_eva[2], rf_eva[2],xgb_eva[2],nn_eva[2]]\n",
    "Gmeans = [logit_eva[5], rf_eva[5],xgb_eva[5],nn_eva[5]]\n",
    "Fmeasure = [logit_eva[6], rf_eva[6],xgb_eva[6],nn_eva[6]]\n",
    "dic ={'Model': models, 'AUC_validation':AUC_val, 'G-means':Gmeans, 'F1-score':Fmeasure}\n",
    "models_eva = pd.DataFrame(dic)\n",
    "models_eva"
   ]
  },
  {
   "cell_type": "code",
   "execution_count": null,
   "metadata": {
    "execution": {
     "iopub.execute_input": "2023-04-08T18:24:04.770782Z",
     "iopub.status.busy": "2023-04-08T18:24:04.769699Z",
     "iopub.status.idle": "2023-04-08T18:24:04.858414Z",
     "shell.execute_reply": "2023-04-08T18:24:04.857252Z",
     "shell.execute_reply.started": "2023-04-08T18:24:04.770728Z"
    },
    "id": "d4512fe0"
   },
   "outputs": [],
   "source": [
    "models_eva.to_csv('/kaggle/working/kaggle_models.csv', index = True, encoding = 'utf-8-sig') "
   ]
  },
  {
   "cell_type": "markdown",
   "id": "xTxGhaGYs8W9",
   "metadata": {
    "id": "xTxGhaGYs8W9"
   },
   "source": [
    "# 6. XAI"
   ]
  },
  {
   "cell_type": "markdown",
   "id": "3b5e4b80",
   "metadata": {},
   "source": [
    "## 6.1 SHAP fearure importance"
   ]
  },
  {
   "cell_type": "markdown",
   "id": "d0e84449",
   "metadata": {},
   "source": [
    "### 6.1.1 Calculate SHAP feature importance"
   ]
  },
  {
   "cell_type": "code",
   "execution_count": 116,
   "id": "d410e230",
   "metadata": {},
   "outputs": [
    {
     "name": "stderr",
     "output_type": "stream",
     "text": [
      " 96%|=================== | 3828/4007 [00:17<00:00]       "
     ]
    },
    {
     "name": "stdout",
     "output_type": "stream",
     "text": [
      "[ 0.00158482  0.00106996  0.00024321 -0.0072286  -0.00231053 -0.01252233\n",
      "  0.00329277 -0.00319203 -0.02978729 -0.00165364 -0.0014676 ]\n",
      "(4007, 11)\n",
      "   feature    xgb\n",
      "0     LOAN  0.006\n",
      "1  MORTDUE  0.005\n",
      "2    VALUE  0.005\n",
      "3      YOJ  0.006\n",
      "4    DEROG  0.007\n"
     ]
    }
   ],
   "source": [
    "instance =xgb_tune.fit(X_train_final, y_train.values.ravel())\n",
    "explainer_xgb = shap.TreeExplainer(xgb_tune, data=X_train_final, \n",
    "                                   feature_perturbation='interventional', model_output='probability')\n",
    "shap_values_xgb = explainer_xgb.shap_values(X_train_final)\n",
    "print(shap_values_xgb.shape)\n",
    "\n",
    "result__ = pd.DataFrame(shap_values_xgb, columns = X_train_final.columns)\n",
    "\n",
    "#for global importance, we average the absolute Shapley values per feature across the data: \n",
    "vals__ = np.abs(result__.values).mean(0).round(3)\n",
    "shap_importance = pd.DataFrame(list(zip(X_train_final.columns, vals__)),\n",
    "                                  columns=['feature','xgb'])\n",
    "print(shap_importance.head())"
   ]
  },
  {
   "cell_type": "code",
   "execution_count": 118,
   "id": "6b0a40e2",
   "metadata": {},
   "outputs": [],
   "source": [
    "def shap_generator(X_data_list, y_data_list,model):\n",
    "    vals_list = []\n",
    "    for X_data, y_data in zip(X_data_list, y_data_list):\n",
    "        instance_xgb = model.fit(X_data, y_data,\n",
    "                                 eval_set=[(X_val_final, y_val)], early_stopping_rounds= 50)\n",
    "        explainer_instance = shap.TreeExplainer(model, data=X_data, \n",
    "                                                feature_perturbation='interventional', model_output='probability')\n",
    "        shap_values_instance = explainer_instance.shap_values(X_data)\n",
    "        result = pd.DataFrame(shap_values_instance, columns = X_data.columns)\n",
    "        vals = np.abs(result.values).mean(0).round(3)\n",
    "        \n",
    "        vals_list.append(vals)\n",
    "    return vals_list"
   ]
  },
  {
   "cell_type": "code",
   "execution_count": 117,
   "id": "e0eb90b8",
   "metadata": {},
   "outputs": [],
   "source": [
    "#extract RUS,IHT resampled data sets\n",
    "#order: rus1,rus5,rus10,rus15,iht1,iht5,iht10,iht15\n",
    "RE_Xlist= [X_data_list1[3],X_data_list2[3],X_data_list3[3], X_data_list4[3],\n",
    "           X_data_list1[4],X_data_list2[4], X_data_list3[4], X_data_list4[4]]\n",
    "RE_ylist =[y_data_list1[3],y_data_list2[3],y_data_list3[3], y_data_list4[3],\n",
    "           y_data_list1[4],y_data_list2[4], y_data_list3[4], y_data_list4[4]]"
   ]
  },
  {
   "cell_type": "code",
   "execution_count": 119,
   "id": "4736e34d",
   "metadata": {},
   "outputs": [
    {
     "name": "stdout",
     "output_type": "stream",
     "text": [
      "[0]\tvalidation_0-auc:0.64009\n",
      "[1]\tvalidation_0-auc:0.74397\n",
      "[2]\tvalidation_0-auc:0.70748\n",
      "[3]\tvalidation_0-auc:0.71456\n",
      "[4]\tvalidation_0-auc:0.72308\n",
      "[5]\tvalidation_0-auc:0.79952\n",
      "[6]\tvalidation_0-auc:0.83417\n",
      "[7]\tvalidation_0-auc:0.83475\n",
      "[8]\tvalidation_0-auc:0.82105\n",
      "[9]\tvalidation_0-auc:0.82810\n",
      "[10]\tvalidation_0-auc:0.84115\n",
      "[11]\tvalidation_0-auc:0.84510\n",
      "[12]\tvalidation_0-auc:0.83480\n",
      "[13]\tvalidation_0-auc:0.84049\n",
      "[14]\tvalidation_0-auc:0.84676\n",
      "[15]\tvalidation_0-auc:0.85173\n",
      "[16]\tvalidation_0-auc:0.85219\n",
      "[17]\tvalidation_0-auc:0.86140\n",
      "[18]\tvalidation_0-auc:0.87107\n",
      "[19]\tvalidation_0-auc:0.87219\n",
      "[20]\tvalidation_0-auc:0.87508\n",
      "[21]\tvalidation_0-auc:0.87401\n",
      "[22]\tvalidation_0-auc:0.87183\n",
      "[23]\tvalidation_0-auc:0.87488\n",
      "[24]\tvalidation_0-auc:0.87762\n",
      "[25]\tvalidation_0-auc:0.88023\n",
      "[26]\tvalidation_0-auc:0.88325\n",
      "[27]\tvalidation_0-auc:0.87919\n",
      "[28]\tvalidation_0-auc:0.88140\n",
      "[29]\tvalidation_0-auc:0.88379\n",
      "[30]\tvalidation_0-auc:0.88437\n",
      "[31]\tvalidation_0-auc:0.88305\n",
      "[32]\tvalidation_0-auc:0.88247\n",
      "[33]\tvalidation_0-auc:0.88267\n",
      "[34]\tvalidation_0-auc:0.88257\n",
      "[35]\tvalidation_0-auc:0.88267\n",
      "[36]\tvalidation_0-auc:0.88236\n",
      "[37]\tvalidation_0-auc:0.88239\n",
      "[38]\tvalidation_0-auc:0.88419\n",
      "[39]\tvalidation_0-auc:0.88422\n",
      "[40]\tvalidation_0-auc:0.88528\n",
      "[41]\tvalidation_0-auc:0.88551\n",
      "[42]\tvalidation_0-auc:0.88267\n",
      "[43]\tvalidation_0-auc:0.88145\n",
      "[44]\tvalidation_0-auc:0.88264\n",
      "[45]\tvalidation_0-auc:0.88325\n",
      "[46]\tvalidation_0-auc:0.88219\n",
      "[47]\tvalidation_0-auc:0.88127\n",
      "[48]\tvalidation_0-auc:0.88076\n",
      "[49]\tvalidation_0-auc:0.88028\n",
      "[50]\tvalidation_0-auc:0.88132\n",
      "[51]\tvalidation_0-auc:0.88117\n",
      "[52]\tvalidation_0-auc:0.88074\n",
      "[53]\tvalidation_0-auc:0.88097\n",
      "[54]\tvalidation_0-auc:0.88241\n",
      "[55]\tvalidation_0-auc:0.88409\n",
      "[56]\tvalidation_0-auc:0.88391\n",
      "[57]\tvalidation_0-auc:0.88320\n",
      "[58]\tvalidation_0-auc:0.88495\n",
      "[59]\tvalidation_0-auc:0.88516\n",
      "[60]\tvalidation_0-auc:0.88386\n",
      "[61]\tvalidation_0-auc:0.88477\n",
      "[62]\tvalidation_0-auc:0.88635\n",
      "[63]\tvalidation_0-auc:0.88749\n",
      "[64]\tvalidation_0-auc:0.88678\n",
      "[65]\tvalidation_0-auc:0.88693\n",
      "[66]\tvalidation_0-auc:0.88592\n",
      "[67]\tvalidation_0-auc:0.88576\n",
      "[68]\tvalidation_0-auc:0.88493\n",
      "[69]\tvalidation_0-auc:0.88485\n",
      "[70]\tvalidation_0-auc:0.88439\n",
      "[71]\tvalidation_0-auc:0.88439\n",
      "[72]\tvalidation_0-auc:0.88371\n",
      "[73]\tvalidation_0-auc:0.88361\n",
      "[74]\tvalidation_0-auc:0.88277\n",
      "[75]\tvalidation_0-auc:0.88170\n",
      "[76]\tvalidation_0-auc:0.88125\n",
      "[77]\tvalidation_0-auc:0.88244\n",
      "[78]\tvalidation_0-auc:0.88214\n",
      "[79]\tvalidation_0-auc:0.88254\n",
      "[80]\tvalidation_0-auc:0.88178\n",
      "[81]\tvalidation_0-auc:0.88186\n",
      "[82]\tvalidation_0-auc:0.88254\n",
      "[83]\tvalidation_0-auc:0.88201\n",
      "[84]\tvalidation_0-auc:0.88153\n",
      "[85]\tvalidation_0-auc:0.88094\n",
      "[86]\tvalidation_0-auc:0.88130\n",
      "[87]\tvalidation_0-auc:0.88102\n",
      "[88]\tvalidation_0-auc:0.88165\n",
      "[89]\tvalidation_0-auc:0.88201\n",
      "[90]\tvalidation_0-auc:0.88203\n",
      "[91]\tvalidation_0-auc:0.88191\n",
      "[92]\tvalidation_0-auc:0.88226\n",
      "[93]\tvalidation_0-auc:0.88287\n",
      "[94]\tvalidation_0-auc:0.88236\n",
      "[95]\tvalidation_0-auc:0.88287\n",
      "[96]\tvalidation_0-auc:0.88211\n",
      "[97]\tvalidation_0-auc:0.88188\n",
      "[98]\tvalidation_0-auc:0.88191\n",
      "[99]\tvalidation_0-auc:0.88175\n",
      "[0]\tvalidation_0-auc:0.69875\n",
      "[1]\tvalidation_0-auc:0.83447\n",
      "[2]\tvalidation_0-auc:0.84451\n",
      "[3]\tvalidation_0-auc:0.85925\n",
      "[4]\tvalidation_0-auc:0.87778\n",
      "[5]\tvalidation_0-auc:0.89715\n",
      "[6]\tvalidation_0-auc:0.89602\n",
      "[7]\tvalidation_0-auc:0.89117\n",
      "[8]\tvalidation_0-auc:0.89922\n",
      "[9]\tvalidation_0-auc:0.89739\n",
      "[10]\tvalidation_0-auc:0.89579\n",
      "[11]\tvalidation_0-auc:0.89578\n",
      "[12]\tvalidation_0-auc:0.89390\n",
      "[13]\tvalidation_0-auc:0.90014\n",
      "[14]\tvalidation_0-auc:0.90656\n",
      "[15]\tvalidation_0-auc:0.90654\n",
      "[16]\tvalidation_0-auc:0.90287\n",
      "[17]\tvalidation_0-auc:0.90297\n",
      "[18]\tvalidation_0-auc:0.90323\n",
      "[19]\tvalidation_0-auc:0.90706\n",
      "[20]\tvalidation_0-auc:0.90528\n",
      "[21]\tvalidation_0-auc:0.90914\n",
      "[22]\tvalidation_0-auc:0.90851\n",
      "[23]\tvalidation_0-auc:0.90975\n",
      "[24]\tvalidation_0-auc:0.91533\n",
      "[25]\tvalidation_0-auc:0.91609\n",
      "[26]\tvalidation_0-auc:0.91698\n",
      "[27]\tvalidation_0-auc:0.91559\n",
      "[28]\tvalidation_0-auc:0.91500\n",
      "[29]\tvalidation_0-auc:0.91328\n",
      "[30]\tvalidation_0-auc:0.91107\n",
      "[31]\tvalidation_0-auc:0.91366\n",
      "[32]\tvalidation_0-auc:0.91635\n",
      "[33]\tvalidation_0-auc:0.91655\n",
      "[34]\tvalidation_0-auc:0.91693\n",
      "[35]\tvalidation_0-auc:0.91729\n",
      "[36]\tvalidation_0-auc:0.92051\n",
      "[37]\tvalidation_0-auc:0.92302\n",
      "[38]\tvalidation_0-auc:0.92366\n",
      "[39]\tvalidation_0-auc:0.92305\n",
      "[40]\tvalidation_0-auc:0.92427\n",
      "[41]\tvalidation_0-auc:0.92658\n",
      "[42]\tvalidation_0-auc:0.92622\n",
      "[43]\tvalidation_0-auc:0.92559\n",
      "[44]\tvalidation_0-auc:0.92366\n",
      "[45]\tvalidation_0-auc:0.92460\n",
      "[46]\tvalidation_0-auc:0.92358\n",
      "[47]\tvalidation_0-auc:0.92249\n",
      "[48]\tvalidation_0-auc:0.92295\n",
      "[49]\tvalidation_0-auc:0.92193\n",
      "[50]\tvalidation_0-auc:0.92041\n",
      "[51]\tvalidation_0-auc:0.92109\n",
      "[52]\tvalidation_0-auc:0.92015\n",
      "[53]\tvalidation_0-auc:0.91975\n",
      "[54]\tvalidation_0-auc:0.91924\n",
      "[55]\tvalidation_0-auc:0.91805\n",
      "[56]\tvalidation_0-auc:0.92165\n",
      "[57]\tvalidation_0-auc:0.92229\n",
      "[58]\tvalidation_0-auc:0.92300\n",
      "[59]\tvalidation_0-auc:0.92317\n",
      "[60]\tvalidation_0-auc:0.92317\n",
      "[61]\tvalidation_0-auc:0.92388\n",
      "[62]\tvalidation_0-auc:0.92490\n",
      "[63]\tvalidation_0-auc:0.92553\n",
      "[64]\tvalidation_0-auc:0.92454\n",
      "[65]\tvalidation_0-auc:0.92465\n",
      "[66]\tvalidation_0-auc:0.92292\n",
      "[67]\tvalidation_0-auc:0.92208\n",
      "[68]\tvalidation_0-auc:0.92211\n",
      "[69]\tvalidation_0-auc:0.92206\n",
      "[70]\tvalidation_0-auc:0.92137\n",
      "[71]\tvalidation_0-auc:0.92229\n",
      "[72]\tvalidation_0-auc:0.92287\n",
      "[73]\tvalidation_0-auc:0.92315\n",
      "[74]\tvalidation_0-auc:0.92206\n",
      "[75]\tvalidation_0-auc:0.92335\n",
      "[76]\tvalidation_0-auc:0.92444\n",
      "[77]\tvalidation_0-auc:0.92338\n",
      "[78]\tvalidation_0-auc:0.92493\n",
      "[79]\tvalidation_0-auc:0.92439\n",
      "[80]\tvalidation_0-auc:0.92388\n",
      "[81]\tvalidation_0-auc:0.92475\n",
      "[82]\tvalidation_0-auc:0.92475\n",
      "[83]\tvalidation_0-auc:0.92543\n",
      "[84]\tvalidation_0-auc:0.92594\n",
      "[85]\tvalidation_0-auc:0.92617\n",
      "[86]\tvalidation_0-auc:0.92706\n",
      "[87]\tvalidation_0-auc:0.92688\n",
      "[88]\tvalidation_0-auc:0.92754\n",
      "[89]\tvalidation_0-auc:0.92756\n",
      "[90]\tvalidation_0-auc:0.92609\n",
      "[91]\tvalidation_0-auc:0.92660\n",
      "[92]\tvalidation_0-auc:0.92729\n",
      "[93]\tvalidation_0-auc:0.92658\n",
      "[94]\tvalidation_0-auc:0.92627\n",
      "[95]\tvalidation_0-auc:0.92729\n",
      "[96]\tvalidation_0-auc:0.92759\n",
      "[97]\tvalidation_0-auc:0.92711\n",
      "[98]\tvalidation_0-auc:0.92751\n",
      "[99]\tvalidation_0-auc:0.92716\n",
      "[0]\tvalidation_0-auc:0.66950\n",
      "[1]\tvalidation_0-auc:0.71647\n",
      "[2]\tvalidation_0-auc:0.88165\n",
      "[3]\tvalidation_0-auc:0.87579\n",
      "[4]\tvalidation_0-auc:0.87321\n",
      "[5]\tvalidation_0-auc:0.87390\n",
      "[6]\tvalidation_0-auc:0.87574\n",
      "[7]\tvalidation_0-auc:0.88963\n",
      "[8]\tvalidation_0-auc:0.89658\n",
      "[9]\tvalidation_0-auc:0.89910\n",
      "[10]\tvalidation_0-auc:0.89968\n",
      "[11]\tvalidation_0-auc:0.89817\n",
      "[12]\tvalidation_0-auc:0.89620\n",
      "[13]\tvalidation_0-auc:0.90139\n",
      "[14]\tvalidation_0-auc:0.90382\n",
      "[15]\tvalidation_0-auc:0.90026\n",
      "[16]\tvalidation_0-auc:0.89645\n",
      "[17]\tvalidation_0-auc:0.89432\n",
      "[18]\tvalidation_0-auc:0.89494\n",
      "[19]\tvalidation_0-auc:0.90358\n",
      "[20]\tvalidation_0-auc:0.90201\n",
      "[21]\tvalidation_0-auc:0.90323\n",
      "[22]\tvalidation_0-auc:0.90272\n",
      "[23]\tvalidation_0-auc:0.90342\n",
      "[24]\tvalidation_0-auc:0.90205\n",
      "[25]\tvalidation_0-auc:0.90246\n",
      "[26]\tvalidation_0-auc:0.91014\n",
      "[27]\tvalidation_0-auc:0.91121\n",
      "[28]\tvalidation_0-auc:0.91292\n",
      "[29]\tvalidation_0-auc:0.91241\n",
      "[30]\tvalidation_0-auc:0.91150\n",
      "[31]\tvalidation_0-auc:0.90977\n",
      "[32]\tvalidation_0-auc:0.91000\n",
      "[33]\tvalidation_0-auc:0.90759\n",
      "[34]\tvalidation_0-auc:0.90774\n",
      "[35]\tvalidation_0-auc:0.90691\n",
      "[36]\tvalidation_0-auc:0.90673\n",
      "[37]\tvalidation_0-auc:0.90901\n",
      "[38]\tvalidation_0-auc:0.90790\n",
      "[39]\tvalidation_0-auc:0.90635\n",
      "[40]\tvalidation_0-auc:0.90817\n",
      "[41]\tvalidation_0-auc:0.90871\n",
      "[42]\tvalidation_0-auc:0.90871\n",
      "[43]\tvalidation_0-auc:0.90899\n",
      "[44]\tvalidation_0-auc:0.90759\n",
      "[45]\tvalidation_0-auc:0.91277\n",
      "[46]\tvalidation_0-auc:0.91421\n",
      "[47]\tvalidation_0-auc:0.91716\n",
      "[48]\tvalidation_0-auc:0.91650\n",
      "[49]\tvalidation_0-auc:0.91729\n",
      "[50]\tvalidation_0-auc:0.91762\n",
      "[51]\tvalidation_0-auc:0.91655\n",
      "[52]\tvalidation_0-auc:0.91724\n",
      "[53]\tvalidation_0-auc:0.91462\n",
      "[54]\tvalidation_0-auc:0.91361\n",
      "[55]\tvalidation_0-auc:0.91175\n",
      "[56]\tvalidation_0-auc:0.91513\n",
      "[57]\tvalidation_0-auc:0.91465\n",
      "[58]\tvalidation_0-auc:0.91571\n",
      "[59]\tvalidation_0-auc:0.91617\n",
      "[60]\tvalidation_0-auc:0.91597\n",
      "[61]\tvalidation_0-auc:0.91673\n",
      "[62]\tvalidation_0-auc:0.91817\n",
      "[63]\tvalidation_0-auc:0.91914\n",
      "[64]\tvalidation_0-auc:0.91779\n",
      "[65]\tvalidation_0-auc:0.91914\n",
      "[66]\tvalidation_0-auc:0.92051\n",
      "[67]\tvalidation_0-auc:0.92061\n",
      "[68]\tvalidation_0-auc:0.91919\n",
      "[69]\tvalidation_0-auc:0.91888\n",
      "[70]\tvalidation_0-auc:0.91911\n",
      "[71]\tvalidation_0-auc:0.91924\n",
      "[72]\tvalidation_0-auc:0.91987\n",
      "[73]\tvalidation_0-auc:0.91937\n",
      "[74]\tvalidation_0-auc:0.91840\n"
     ]
    },
    {
     "name": "stdout",
     "output_type": "stream",
     "text": [
      "[75]\tvalidation_0-auc:0.91787\n",
      "[76]\tvalidation_0-auc:0.91830\n",
      "[77]\tvalidation_0-auc:0.91754\n",
      "[78]\tvalidation_0-auc:0.91840\n",
      "[79]\tvalidation_0-auc:0.91952\n",
      "[80]\tvalidation_0-auc:0.92046\n",
      "[81]\tvalidation_0-auc:0.91962\n",
      "[82]\tvalidation_0-auc:0.91934\n",
      "[83]\tvalidation_0-auc:0.91858\n",
      "[84]\tvalidation_0-auc:0.91939\n",
      "[85]\tvalidation_0-auc:0.92125\n",
      "[86]\tvalidation_0-auc:0.92150\n",
      "[87]\tvalidation_0-auc:0.92163\n",
      "[88]\tvalidation_0-auc:0.92094\n",
      "[89]\tvalidation_0-auc:0.91998\n",
      "[90]\tvalidation_0-auc:0.91927\n",
      "[91]\tvalidation_0-auc:0.91881\n",
      "[92]\tvalidation_0-auc:0.91726\n",
      "[93]\tvalidation_0-auc:0.91762\n",
      "[94]\tvalidation_0-auc:0.91764\n",
      "[95]\tvalidation_0-auc:0.91731\n",
      "[96]\tvalidation_0-auc:0.91815\n",
      "[97]\tvalidation_0-auc:0.91812\n",
      "[98]\tvalidation_0-auc:0.91764\n",
      "[99]\tvalidation_0-auc:0.91767\n",
      "[0]\tvalidation_0-auc:0.70054\n",
      "[1]\tvalidation_0-auc:0.76809\n",
      "[2]\tvalidation_0-auc:0.74771\n",
      "[3]\tvalidation_0-auc:0.74845\n",
      "[4]\tvalidation_0-auc:0.84891\n",
      "[5]\tvalidation_0-auc:0.87268\n",
      "[6]\tvalidation_0-auc:0.87828\n",
      "[7]\tvalidation_0-auc:0.89093\n",
      "[8]\tvalidation_0-auc:0.89350\n",
      "[9]\tvalidation_0-auc:0.89845\n",
      "[10]\tvalidation_0-auc:0.89967\n",
      "[11]\tvalidation_0-auc:0.89617\n",
      "[12]\tvalidation_0-auc:0.89509\n",
      "[13]\tvalidation_0-auc:0.89326\n",
      "[14]\tvalidation_0-auc:0.89215\n",
      "[15]\tvalidation_0-auc:0.89180\n",
      "[16]\tvalidation_0-auc:0.89246\n",
      "[17]\tvalidation_0-auc:0.89480\n",
      "[18]\tvalidation_0-auc:0.89951\n",
      "[19]\tvalidation_0-auc:0.89757\n",
      "[20]\tvalidation_0-auc:0.89774\n",
      "[21]\tvalidation_0-auc:0.89924\n",
      "[22]\tvalidation_0-auc:0.89939\n",
      "[23]\tvalidation_0-auc:0.89856\n",
      "[24]\tvalidation_0-auc:0.90149\n",
      "[25]\tvalidation_0-auc:0.90540\n",
      "[26]\tvalidation_0-auc:0.90543\n",
      "[27]\tvalidation_0-auc:0.90607\n",
      "[28]\tvalidation_0-auc:0.90589\n",
      "[29]\tvalidation_0-auc:0.90477\n",
      "[30]\tvalidation_0-auc:0.90531\n",
      "[31]\tvalidation_0-auc:0.90413\n",
      "[32]\tvalidation_0-auc:0.90331\n",
      "[33]\tvalidation_0-auc:0.90307\n",
      "[34]\tvalidation_0-auc:0.90295\n",
      "[35]\tvalidation_0-auc:0.89982\n",
      "[36]\tvalidation_0-auc:0.89950\n",
      "[37]\tvalidation_0-auc:0.89856\n",
      "[38]\tvalidation_0-auc:0.89812\n",
      "[39]\tvalidation_0-auc:0.90155\n",
      "[40]\tvalidation_0-auc:0.90246\n",
      "[41]\tvalidation_0-auc:0.90455\n",
      "[42]\tvalidation_0-auc:0.90345\n",
      "[43]\tvalidation_0-auc:0.90414\n",
      "[44]\tvalidation_0-auc:0.90762\n",
      "[45]\tvalidation_0-auc:0.90858\n",
      "[46]\tvalidation_0-auc:0.90906\n",
      "[47]\tvalidation_0-auc:0.91026\n",
      "[48]\tvalidation_0-auc:0.91307\n",
      "[49]\tvalidation_0-auc:0.91409\n",
      "[50]\tvalidation_0-auc:0.91759\n",
      "[51]\tvalidation_0-auc:0.91822\n",
      "[52]\tvalidation_0-auc:0.92046\n",
      "[53]\tvalidation_0-auc:0.91998\n",
      "[54]\tvalidation_0-auc:0.91990\n",
      "[55]\tvalidation_0-auc:0.92008\n",
      "[56]\tvalidation_0-auc:0.92000\n",
      "[57]\tvalidation_0-auc:0.91901\n",
      "[58]\tvalidation_0-auc:0.91863\n",
      "[59]\tvalidation_0-auc:0.91625\n",
      "[60]\tvalidation_0-auc:0.91490\n",
      "[61]\tvalidation_0-auc:0.91396\n",
      "[62]\tvalidation_0-auc:0.91325\n",
      "[63]\tvalidation_0-auc:0.91482\n",
      "[64]\tvalidation_0-auc:0.91290\n",
      "[65]\tvalidation_0-auc:0.91160\n",
      "[66]\tvalidation_0-auc:0.90993\n",
      "[67]\tvalidation_0-auc:0.90932\n",
      "[68]\tvalidation_0-auc:0.91097\n",
      "[69]\tvalidation_0-auc:0.91028\n",
      "[70]\tvalidation_0-auc:0.91026\n",
      "[71]\tvalidation_0-auc:0.91094\n",
      "[72]\tvalidation_0-auc:0.91099\n",
      "[73]\tvalidation_0-auc:0.90980\n",
      "[74]\tvalidation_0-auc:0.91170\n",
      "[75]\tvalidation_0-auc:0.91168\n",
      "[76]\tvalidation_0-auc:0.91274\n",
      "[77]\tvalidation_0-auc:0.91381\n",
      "[78]\tvalidation_0-auc:0.91452\n",
      "[79]\tvalidation_0-auc:0.91391\n",
      "[80]\tvalidation_0-auc:0.91358\n",
      "[81]\tvalidation_0-auc:0.91358\n",
      "[82]\tvalidation_0-auc:0.91432\n",
      "[83]\tvalidation_0-auc:0.91378\n",
      "[84]\tvalidation_0-auc:0.91523\n",
      "[85]\tvalidation_0-auc:0.91434\n",
      "[86]\tvalidation_0-auc:0.91518\n",
      "[87]\tvalidation_0-auc:0.91734\n",
      "[88]\tvalidation_0-auc:0.91777\n",
      "[89]\tvalidation_0-auc:0.91683\n",
      "[90]\tvalidation_0-auc:0.91617\n",
      "[91]\tvalidation_0-auc:0.91452\n",
      "[92]\tvalidation_0-auc:0.91536\n",
      "[93]\tvalidation_0-auc:0.91592\n",
      "[94]\tvalidation_0-auc:0.91734\n",
      "[95]\tvalidation_0-auc:0.91647\n",
      "[96]\tvalidation_0-auc:0.91688\n",
      "[97]\tvalidation_0-auc:0.91787\n",
      "[98]\tvalidation_0-auc:0.91830\n",
      "[99]\tvalidation_0-auc:0.91848\n",
      "[0]\tvalidation_0-auc:0.64045\n",
      "[1]\tvalidation_0-auc:0.64342\n",
      "[2]\tvalidation_0-auc:0.60776\n",
      "[3]\tvalidation_0-auc:0.57888\n",
      "[4]\tvalidation_0-auc:0.55075\n",
      "[5]\tvalidation_0-auc:0.57932\n",
      "[6]\tvalidation_0-auc:0.58577\n",
      "[7]\tvalidation_0-auc:0.60276\n",
      "[8]\tvalidation_0-auc:0.59034\n",
      "[9]\tvalidation_0-auc:0.60506\n",
      "[10]\tvalidation_0-auc:0.60884\n",
      "[11]\tvalidation_0-auc:0.61639\n",
      "[12]\tvalidation_0-auc:0.60599\n",
      "[13]\tvalidation_0-auc:0.61446\n",
      "[14]\tvalidation_0-auc:0.62106\n",
      "[15]\tvalidation_0-auc:0.61835\n",
      "[16]\tvalidation_0-auc:0.62203\n",
      "[17]\tvalidation_0-auc:0.62454\n",
      "[18]\tvalidation_0-auc:0.62340\n",
      "[19]\tvalidation_0-auc:0.62591\n",
      "[20]\tvalidation_0-auc:0.63762\n",
      "[21]\tvalidation_0-auc:0.64836\n",
      "[22]\tvalidation_0-auc:0.64097\n",
      "[23]\tvalidation_0-auc:0.63635\n",
      "[24]\tvalidation_0-auc:0.63719\n",
      "[25]\tvalidation_0-auc:0.64044\n",
      "[26]\tvalidation_0-auc:0.64369\n",
      "[27]\tvalidation_0-auc:0.64554\n",
      "[28]\tvalidation_0-auc:0.64965\n",
      "[29]\tvalidation_0-auc:0.64932\n",
      "[30]\tvalidation_0-auc:0.65630\n",
      "[31]\tvalidation_0-auc:0.65610\n",
      "[32]\tvalidation_0-auc:0.65141\n",
      "[33]\tvalidation_0-auc:0.65125\n",
      "[34]\tvalidation_0-auc:0.64993\n",
      "[35]\tvalidation_0-auc:0.64909\n",
      "[36]\tvalidation_0-auc:0.65257\n",
      "[37]\tvalidation_0-auc:0.65102\n",
      "[38]\tvalidation_0-auc:0.64998\n",
      "[39]\tvalidation_0-auc:0.64978\n",
      "[40]\tvalidation_0-auc:0.65415\n",
      "[41]\tvalidation_0-auc:0.65141\n",
      "[42]\tvalidation_0-auc:0.64950\n",
      "[43]\tvalidation_0-auc:0.64709\n",
      "[44]\tvalidation_0-auc:0.64338\n",
      "[45]\tvalidation_0-auc:0.64450\n",
      "[46]\tvalidation_0-auc:0.64432\n",
      "[47]\tvalidation_0-auc:0.64694\n",
      "[48]\tvalidation_0-auc:0.64468\n",
      "[49]\tvalidation_0-auc:0.64478\n",
      "[50]\tvalidation_0-auc:0.64541\n",
      "[51]\tvalidation_0-auc:0.64765\n",
      "[52]\tvalidation_0-auc:0.64897\n",
      "[53]\tvalidation_0-auc:0.65250\n",
      "[54]\tvalidation_0-auc:0.65605\n",
      "[55]\tvalidation_0-auc:0.65864\n",
      "[56]\tvalidation_0-auc:0.65816\n",
      "[57]\tvalidation_0-auc:0.66100\n",
      "[58]\tvalidation_0-auc:0.66336\n",
      "[59]\tvalidation_0-auc:0.66356\n",
      "[60]\tvalidation_0-auc:0.66502\n",
      "[61]\tvalidation_0-auc:0.66595\n",
      "[62]\tvalidation_0-auc:0.66612\n",
      "[63]\tvalidation_0-auc:0.66765\n",
      "[64]\tvalidation_0-auc:0.66498\n",
      "[65]\tvalidation_0-auc:0.66734\n",
      "[66]\tvalidation_0-auc:0.66986\n",
      "[67]\tvalidation_0-auc:0.66945\n",
      "[68]\tvalidation_0-auc:0.67016\n",
      "[69]\tvalidation_0-auc:0.66950\n",
      "[70]\tvalidation_0-auc:0.66874\n",
      "[71]\tvalidation_0-auc:0.66914\n",
      "[72]\tvalidation_0-auc:0.66861\n",
      "[73]\tvalidation_0-auc:0.67014\n",
      "[74]\tvalidation_0-auc:0.67252\n",
      "[75]\tvalidation_0-auc:0.67196\n",
      "[76]\tvalidation_0-auc:0.67059\n",
      "[77]\tvalidation_0-auc:0.66937\n",
      "[78]\tvalidation_0-auc:0.66943\n",
      "[79]\tvalidation_0-auc:0.67186\n",
      "[80]\tvalidation_0-auc:0.67178\n",
      "[81]\tvalidation_0-auc:0.66948\n",
      "[82]\tvalidation_0-auc:0.66988\n",
      "[83]\tvalidation_0-auc:0.67003\n",
      "[84]\tvalidation_0-auc:0.67034\n",
      "[85]\tvalidation_0-auc:0.66877\n",
      "[86]\tvalidation_0-auc:0.66940\n",
      "[87]\tvalidation_0-auc:0.66935\n",
      "[88]\tvalidation_0-auc:0.67031\n",
      "[89]\tvalidation_0-auc:0.67171\n",
      "[90]\tvalidation_0-auc:0.67171\n",
      "[91]\tvalidation_0-auc:0.67278\n",
      "[92]\tvalidation_0-auc:0.67080\n",
      "[93]\tvalidation_0-auc:0.66909\n",
      "[94]\tvalidation_0-auc:0.66838\n",
      "[95]\tvalidation_0-auc:0.66737\n",
      "[96]\tvalidation_0-auc:0.67003\n",
      "[97]\tvalidation_0-auc:0.67107\n",
      "[98]\tvalidation_0-auc:0.67156\n",
      "[99]\tvalidation_0-auc:0.67300\n",
      "[0]\tvalidation_0-auc:0.66703\n",
      "[1]\tvalidation_0-auc:0.76032\n",
      "[2]\tvalidation_0-auc:0.73805\n",
      "[3]\tvalidation_0-auc:0.76122\n",
      "[4]\tvalidation_0-auc:0.76256\n",
      "[5]\tvalidation_0-auc:0.77668\n",
      "[6]\tvalidation_0-auc:0.77760\n",
      "[7]\tvalidation_0-auc:0.76183\n",
      "[8]\tvalidation_0-auc:0.77145\n",
      "[9]\tvalidation_0-auc:0.77889\n",
      "[10]\tvalidation_0-auc:0.77752\n",
      "[11]\tvalidation_0-auc:0.78545\n",
      "[12]\tvalidation_0-auc:0.78405\n",
      "[13]\tvalidation_0-auc:0.77606\n",
      "[14]\tvalidation_0-auc:0.78032\n",
      "[15]\tvalidation_0-auc:0.77650\n",
      "[16]\tvalidation_0-auc:0.77215\n",
      "[17]\tvalidation_0-auc:0.77761\n",
      "[18]\tvalidation_0-auc:0.77608\n",
      "[19]\tvalidation_0-auc:0.77088\n",
      "[20]\tvalidation_0-auc:0.77603\n",
      "[21]\tvalidation_0-auc:0.77329\n",
      "[22]\tvalidation_0-auc:0.77850\n",
      "[23]\tvalidation_0-auc:0.77837\n",
      "[24]\tvalidation_0-auc:0.78286\n",
      "[25]\tvalidation_0-auc:0.78289\n",
      "[26]\tvalidation_0-auc:0.78451\n",
      "[27]\tvalidation_0-auc:0.78238\n",
      "[28]\tvalidation_0-auc:0.78921\n",
      "[29]\tvalidation_0-auc:0.78809\n",
      "[30]\tvalidation_0-auc:0.78522\n",
      "[31]\tvalidation_0-auc:0.78818\n",
      "[32]\tvalidation_0-auc:0.79016\n",
      "[33]\tvalidation_0-auc:0.78831\n",
      "[34]\tvalidation_0-auc:0.79331\n",
      "[35]\tvalidation_0-auc:0.79163\n",
      "[36]\tvalidation_0-auc:0.79318\n",
      "[37]\tvalidation_0-auc:0.79363\n",
      "[38]\tvalidation_0-auc:0.79257\n",
      "[39]\tvalidation_0-auc:0.79366\n",
      "[40]\tvalidation_0-auc:0.79615\n",
      "[41]\tvalidation_0-auc:0.79650\n",
      "[42]\tvalidation_0-auc:0.79566\n",
      "[43]\tvalidation_0-auc:0.79534\n",
      "[44]\tvalidation_0-auc:0.79219\n",
      "[45]\tvalidation_0-auc:0.79221\n",
      "[46]\tvalidation_0-auc:0.78899\n",
      "[47]\tvalidation_0-auc:0.78787\n",
      "[48]\tvalidation_0-auc:0.78846\n",
      "[49]\tvalidation_0-auc:0.78965\n"
     ]
    },
    {
     "name": "stdout",
     "output_type": "stream",
     "text": [
      "[50]\tvalidation_0-auc:0.78861\n",
      "[51]\tvalidation_0-auc:0.78676\n",
      "[52]\tvalidation_0-auc:0.78851\n",
      "[53]\tvalidation_0-auc:0.78952\n",
      "[54]\tvalidation_0-auc:0.79018\n",
      "[55]\tvalidation_0-auc:0.78909\n",
      "[56]\tvalidation_0-auc:0.78825\n",
      "[57]\tvalidation_0-auc:0.78790\n",
      "[58]\tvalidation_0-auc:0.78714\n",
      "[59]\tvalidation_0-auc:0.78881\n",
      "[60]\tvalidation_0-auc:0.78924\n",
      "[61]\tvalidation_0-auc:0.78909\n",
      "[62]\tvalidation_0-auc:0.78785\n",
      "[63]\tvalidation_0-auc:0.78688\n",
      "[64]\tvalidation_0-auc:0.78531\n",
      "[65]\tvalidation_0-auc:0.78749\n",
      "[66]\tvalidation_0-auc:0.78671\n",
      "[67]\tvalidation_0-auc:0.78886\n",
      "[68]\tvalidation_0-auc:0.78907\n",
      "[69]\tvalidation_0-auc:0.78897\n",
      "[70]\tvalidation_0-auc:0.79087\n",
      "[71]\tvalidation_0-auc:0.78975\n",
      "[72]\tvalidation_0-auc:0.78833\n",
      "[73]\tvalidation_0-auc:0.78874\n",
      "[74]\tvalidation_0-auc:0.78990\n",
      "[75]\tvalidation_0-auc:0.79069\n",
      "[76]\tvalidation_0-auc:0.79064\n",
      "[77]\tvalidation_0-auc:0.79077\n",
      "[78]\tvalidation_0-auc:0.79102\n",
      "[79]\tvalidation_0-auc:0.79016\n",
      "[80]\tvalidation_0-auc:0.78983\n",
      "[81]\tvalidation_0-auc:0.79087\n",
      "[82]\tvalidation_0-auc:0.79165\n",
      "[83]\tvalidation_0-auc:0.79219\n",
      "[84]\tvalidation_0-auc:0.79115\n",
      "[85]\tvalidation_0-auc:0.79107\n",
      "[86]\tvalidation_0-auc:0.79016\n",
      "[87]\tvalidation_0-auc:0.79031\n",
      "[88]\tvalidation_0-auc:0.79186\n",
      "[89]\tvalidation_0-auc:0.79135\n",
      "[90]\tvalidation_0-auc:0.79039\n",
      "[0]\tvalidation_0-auc:0.71247\n",
      "[1]\tvalidation_0-auc:0.74123\n",
      "[2]\tvalidation_0-auc:0.85169\n",
      "[3]\tvalidation_0-auc:0.82568\n",
      "[4]\tvalidation_0-auc:0.80646\n",
      "[5]\tvalidation_0-auc:0.80504\n",
      "[6]\tvalidation_0-auc:0.79976\n",
      "[7]\tvalidation_0-auc:0.81239\n",
      "[8]\tvalidation_0-auc:0.82933\n",
      "[9]\tvalidation_0-auc:0.84272\n",
      "[10]\tvalidation_0-auc:0.85420\n",
      "[11]\tvalidation_0-auc:0.85910\n",
      "[12]\tvalidation_0-auc:0.85424\n",
      "[13]\tvalidation_0-auc:0.84721\n",
      "[14]\tvalidation_0-auc:0.84413\n",
      "[15]\tvalidation_0-auc:0.85141\n",
      "[16]\tvalidation_0-auc:0.85403\n",
      "[17]\tvalidation_0-auc:0.84742\n",
      "[18]\tvalidation_0-auc:0.84663\n",
      "[19]\tvalidation_0-auc:0.84716\n",
      "[20]\tvalidation_0-auc:0.84459\n",
      "[21]\tvalidation_0-auc:0.85047\n",
      "[22]\tvalidation_0-auc:0.85882\n",
      "[23]\tvalidation_0-auc:0.85621\n",
      "[24]\tvalidation_0-auc:0.85428\n",
      "[25]\tvalidation_0-auc:0.85189\n",
      "[26]\tvalidation_0-auc:0.84981\n",
      "[27]\tvalidation_0-auc:0.84872\n",
      "[28]\tvalidation_0-auc:0.85076\n",
      "[29]\tvalidation_0-auc:0.85630\n",
      "[30]\tvalidation_0-auc:0.85899\n",
      "[31]\tvalidation_0-auc:0.85904\n",
      "[32]\tvalidation_0-auc:0.86224\n",
      "[33]\tvalidation_0-auc:0.85952\n",
      "[34]\tvalidation_0-auc:0.86176\n",
      "[35]\tvalidation_0-auc:0.86208\n",
      "[36]\tvalidation_0-auc:0.86056\n",
      "[37]\tvalidation_0-auc:0.86087\n",
      "[38]\tvalidation_0-auc:0.86297\n",
      "[39]\tvalidation_0-auc:0.86130\n",
      "[40]\tvalidation_0-auc:0.85901\n",
      "[41]\tvalidation_0-auc:0.85904\n",
      "[42]\tvalidation_0-auc:0.86132\n",
      "[43]\tvalidation_0-auc:0.86071\n",
      "[44]\tvalidation_0-auc:0.85983\n",
      "[45]\tvalidation_0-auc:0.86089\n",
      "[46]\tvalidation_0-auc:0.86120\n",
      "[47]\tvalidation_0-auc:0.85998\n",
      "[48]\tvalidation_0-auc:0.86254\n",
      "[49]\tvalidation_0-auc:0.86310\n",
      "[50]\tvalidation_0-auc:0.86140\n",
      "[51]\tvalidation_0-auc:0.85962\n",
      "[52]\tvalidation_0-auc:0.85881\n",
      "[53]\tvalidation_0-auc:0.85747\n",
      "[54]\tvalidation_0-auc:0.85678\n",
      "[55]\tvalidation_0-auc:0.85701\n",
      "[56]\tvalidation_0-auc:0.85521\n",
      "[57]\tvalidation_0-auc:0.85465\n",
      "[58]\tvalidation_0-auc:0.85208\n",
      "[59]\tvalidation_0-auc:0.85396\n",
      "[60]\tvalidation_0-auc:0.85549\n",
      "[61]\tvalidation_0-auc:0.85774\n",
      "[62]\tvalidation_0-auc:0.85774\n",
      "[63]\tvalidation_0-auc:0.86008\n",
      "[64]\tvalidation_0-auc:0.86323\n",
      "[65]\tvalidation_0-auc:0.86384\n",
      "[66]\tvalidation_0-auc:0.86564\n",
      "[67]\tvalidation_0-auc:0.86630\n",
      "[68]\tvalidation_0-auc:0.86759\n",
      "[69]\tvalidation_0-auc:0.86830\n",
      "[70]\tvalidation_0-auc:0.86889\n",
      "[71]\tvalidation_0-auc:0.86937\n",
      "[72]\tvalidation_0-auc:0.86810\n",
      "[73]\tvalidation_0-auc:0.86686\n",
      "[74]\tvalidation_0-auc:0.86683\n",
      "[75]\tvalidation_0-auc:0.86772\n",
      "[76]\tvalidation_0-auc:0.86876\n",
      "[77]\tvalidation_0-auc:0.86937\n",
      "[78]\tvalidation_0-auc:0.86764\n",
      "[79]\tvalidation_0-auc:0.86945\n",
      "[80]\tvalidation_0-auc:0.86759\n",
      "[81]\tvalidation_0-auc:0.86630\n",
      "[82]\tvalidation_0-auc:0.86660\n",
      "[83]\tvalidation_0-auc:0.86561\n",
      "[84]\tvalidation_0-auc:0.86594\n",
      "[85]\tvalidation_0-auc:0.86792\n",
      "[86]\tvalidation_0-auc:0.86833\n",
      "[87]\tvalidation_0-auc:0.86851\n",
      "[88]\tvalidation_0-auc:0.86807\n",
      "[89]\tvalidation_0-auc:0.86721\n",
      "[90]\tvalidation_0-auc:0.86673\n",
      "[91]\tvalidation_0-auc:0.86676\n",
      "[92]\tvalidation_0-auc:0.86665\n",
      "[93]\tvalidation_0-auc:0.86655\n",
      "[94]\tvalidation_0-auc:0.86604\n",
      "[95]\tvalidation_0-auc:0.86505\n",
      "[96]\tvalidation_0-auc:0.86526\n",
      "[97]\tvalidation_0-auc:0.86511\n",
      "[98]\tvalidation_0-auc:0.86536\n",
      "[99]\tvalidation_0-auc:0.86650\n",
      "[0]\tvalidation_0-auc:0.69420\n",
      "[1]\tvalidation_0-auc:0.71241\n",
      "[2]\tvalidation_0-auc:0.77320\n",
      "[3]\tvalidation_0-auc:0.78514\n",
      "[4]\tvalidation_0-auc:0.83794\n",
      "[5]\tvalidation_0-auc:0.85474\n",
      "[6]\tvalidation_0-auc:0.85645\n",
      "[7]\tvalidation_0-auc:0.86721\n",
      "[8]\tvalidation_0-auc:0.87433\n",
      "[9]\tvalidation_0-auc:0.87771\n",
      "[10]\tvalidation_0-auc:0.87385\n",
      "[11]\tvalidation_0-auc:0.87493\n",
      "[12]\tvalidation_0-auc:0.87694\n",
      "[13]\tvalidation_0-auc:0.87698\n",
      "[14]\tvalidation_0-auc:0.88036\n",
      "[15]\tvalidation_0-auc:0.87923\n",
      "[16]\tvalidation_0-auc:0.87974\n",
      "[17]\tvalidation_0-auc:0.88106\n",
      "[18]\tvalidation_0-auc:0.88286\n",
      "[19]\tvalidation_0-auc:0.87995\n",
      "[20]\tvalidation_0-auc:0.88429\n",
      "[21]\tvalidation_0-auc:0.88441\n",
      "[22]\tvalidation_0-auc:0.88413\n",
      "[23]\tvalidation_0-auc:0.88198\n",
      "[24]\tvalidation_0-auc:0.88726\n",
      "[25]\tvalidation_0-auc:0.88484\n",
      "[26]\tvalidation_0-auc:0.88358\n",
      "[27]\tvalidation_0-auc:0.88526\n",
      "[28]\tvalidation_0-auc:0.88391\n",
      "[29]\tvalidation_0-auc:0.88142\n",
      "[30]\tvalidation_0-auc:0.88351\n",
      "[31]\tvalidation_0-auc:0.88533\n",
      "[32]\tvalidation_0-auc:0.88703\n",
      "[33]\tvalidation_0-auc:0.88800\n",
      "[34]\tvalidation_0-auc:0.88947\n",
      "[35]\tvalidation_0-auc:0.88777\n",
      "[36]\tvalidation_0-auc:0.88731\n",
      "[37]\tvalidation_0-auc:0.88480\n",
      "[38]\tvalidation_0-auc:0.88642\n",
      "[39]\tvalidation_0-auc:0.88622\n",
      "[40]\tvalidation_0-auc:0.88810\n",
      "[41]\tvalidation_0-auc:0.88967\n",
      "[42]\tvalidation_0-auc:0.89084\n",
      "[43]\tvalidation_0-auc:0.89203\n",
      "[44]\tvalidation_0-auc:0.89424\n",
      "[45]\tvalidation_0-auc:0.89904\n",
      "[46]\tvalidation_0-auc:0.89962\n",
      "[47]\tvalidation_0-auc:0.89886\n",
      "[48]\tvalidation_0-auc:0.90076\n",
      "[49]\tvalidation_0-auc:0.90206\n",
      "[50]\tvalidation_0-auc:0.90290\n",
      "[51]\tvalidation_0-auc:0.90307\n",
      "[52]\tvalidation_0-auc:0.90401\n",
      "[53]\tvalidation_0-auc:0.90513\n",
      "[54]\tvalidation_0-auc:0.90592\n",
      "[55]\tvalidation_0-auc:0.90653\n",
      "[56]\tvalidation_0-auc:0.90488\n",
      "[57]\tvalidation_0-auc:0.90556\n",
      "[58]\tvalidation_0-auc:0.90518\n",
      "[59]\tvalidation_0-auc:0.90317\n",
      "[60]\tvalidation_0-auc:0.90416\n",
      "[61]\tvalidation_0-auc:0.90348\n",
      "[62]\tvalidation_0-auc:0.90439\n",
      "[63]\tvalidation_0-auc:0.90523\n",
      "[64]\tvalidation_0-auc:0.90482\n",
      "[65]\tvalidation_0-auc:0.90513\n",
      "[66]\tvalidation_0-auc:0.90391\n",
      "[67]\tvalidation_0-auc:0.90300\n",
      "[68]\tvalidation_0-auc:0.90328\n",
      "[69]\tvalidation_0-auc:0.90510\n",
      "[70]\tvalidation_0-auc:0.90455\n",
      "[71]\tvalidation_0-auc:0.90165\n",
      "[72]\tvalidation_0-auc:0.90213\n",
      "[73]\tvalidation_0-auc:0.90122\n",
      "[74]\tvalidation_0-auc:0.90094\n",
      "[75]\tvalidation_0-auc:0.90013\n",
      "[76]\tvalidation_0-auc:0.90097\n",
      "[77]\tvalidation_0-auc:0.90241\n",
      "[78]\tvalidation_0-auc:0.90330\n",
      "[79]\tvalidation_0-auc:0.90259\n",
      "[80]\tvalidation_0-auc:0.90145\n",
      "[81]\tvalidation_0-auc:0.90224\n",
      "[82]\tvalidation_0-auc:0.90348\n",
      "[83]\tvalidation_0-auc:0.90406\n",
      "[84]\tvalidation_0-auc:0.90480\n",
      "[85]\tvalidation_0-auc:0.90523\n",
      "[86]\tvalidation_0-auc:0.90642\n",
      "[87]\tvalidation_0-auc:0.90693\n",
      "[88]\tvalidation_0-auc:0.90683\n",
      "[89]\tvalidation_0-auc:0.90546\n",
      "[90]\tvalidation_0-auc:0.90500\n",
      "[91]\tvalidation_0-auc:0.90493\n",
      "[92]\tvalidation_0-auc:0.90444\n",
      "[93]\tvalidation_0-auc:0.90485\n",
      "[94]\tvalidation_0-auc:0.90541\n",
      "[95]\tvalidation_0-auc:0.90488\n",
      "[96]\tvalidation_0-auc:0.90594\n",
      "[97]\tvalidation_0-auc:0.90574\n",
      "[98]\tvalidation_0-auc:0.90670\n",
      "[99]\tvalidation_0-auc:0.90713\n"
     ]
    },
    {
     "name": "stderr",
     "output_type": "stream",
     "text": [
      " 99%|===================| 3115/3150 [00:13<00:00]        "
     ]
    }
   ],
   "source": [
    "shap_list = shap_generator(RE_Xlist, RE_ylist,xgb_tune)"
   ]
  },
  {
   "cell_type": "code",
   "execution_count": 153,
   "id": "dd66e973",
   "metadata": {},
   "outputs": [
    {
     "data": {
      "text/html": [
       "<div>\n",
       "<style scoped>\n",
       "    .dataframe tbody tr th:only-of-type {\n",
       "        vertical-align: middle;\n",
       "    }\n",
       "\n",
       "    .dataframe tbody tr th {\n",
       "        vertical-align: top;\n",
       "    }\n",
       "\n",
       "    .dataframe thead th {\n",
       "        text-align: right;\n",
       "    }\n",
       "</style>\n",
       "<table border=\"1\" class=\"dataframe\">\n",
       "  <thead>\n",
       "    <tr style=\"text-align: right;\">\n",
       "      <th></th>\n",
       "      <th>feature</th>\n",
       "      <th>xgb</th>\n",
       "      <th>rus1</th>\n",
       "      <th>rus5</th>\n",
       "      <th>rus10</th>\n",
       "      <th>rus15</th>\n",
       "      <th>iht1</th>\n",
       "      <th>iht5</th>\n",
       "      <th>iht10</th>\n",
       "      <th>iht15</th>\n",
       "    </tr>\n",
       "  </thead>\n",
       "  <tbody>\n",
       "    <tr>\n",
       "      <th>0</th>\n",
       "      <td>LOAN</td>\n",
       "      <td>0.006</td>\n",
       "      <td>0.040</td>\n",
       "      <td>0.014</td>\n",
       "      <td>0.013</td>\n",
       "      <td>0.007</td>\n",
       "      <td>0.053</td>\n",
       "      <td>0.012</td>\n",
       "      <td>0.012</td>\n",
       "      <td>0.008</td>\n",
       "    </tr>\n",
       "    <tr>\n",
       "      <th>1</th>\n",
       "      <td>MORTDUE</td>\n",
       "      <td>0.005</td>\n",
       "      <td>0.024</td>\n",
       "      <td>0.017</td>\n",
       "      <td>0.011</td>\n",
       "      <td>0.005</td>\n",
       "      <td>0.055</td>\n",
       "      <td>0.017</td>\n",
       "      <td>0.015</td>\n",
       "      <td>0.007</td>\n",
       "    </tr>\n",
       "    <tr>\n",
       "      <th>2</th>\n",
       "      <td>VALUE</td>\n",
       "      <td>0.005</td>\n",
       "      <td>0.025</td>\n",
       "      <td>0.015</td>\n",
       "      <td>0.012</td>\n",
       "      <td>0.004</td>\n",
       "      <td>0.057</td>\n",
       "      <td>0.013</td>\n",
       "      <td>0.014</td>\n",
       "      <td>0.005</td>\n",
       "    </tr>\n",
       "    <tr>\n",
       "      <th>3</th>\n",
       "      <td>YOJ</td>\n",
       "      <td>0.006</td>\n",
       "      <td>0.034</td>\n",
       "      <td>0.019</td>\n",
       "      <td>0.009</td>\n",
       "      <td>0.003</td>\n",
       "      <td>0.027</td>\n",
       "      <td>0.012</td>\n",
       "      <td>0.008</td>\n",
       "      <td>0.005</td>\n",
       "    </tr>\n",
       "    <tr>\n",
       "      <th>4</th>\n",
       "      <td>DEROG</td>\n",
       "      <td>0.007</td>\n",
       "      <td>0.014</td>\n",
       "      <td>0.010</td>\n",
       "      <td>0.008</td>\n",
       "      <td>0.007</td>\n",
       "      <td>0.033</td>\n",
       "      <td>0.013</td>\n",
       "      <td>0.014</td>\n",
       "      <td>0.011</td>\n",
       "    </tr>\n",
       "    <tr>\n",
       "      <th>5</th>\n",
       "      <td>DELINQ</td>\n",
       "      <td>0.018</td>\n",
       "      <td>0.067</td>\n",
       "      <td>0.035</td>\n",
       "      <td>0.021</td>\n",
       "      <td>0.014</td>\n",
       "      <td>0.087</td>\n",
       "      <td>0.047</td>\n",
       "      <td>0.025</td>\n",
       "      <td>0.020</td>\n",
       "    </tr>\n",
       "    <tr>\n",
       "      <th>6</th>\n",
       "      <td>CLAGE</td>\n",
       "      <td>0.011</td>\n",
       "      <td>0.045</td>\n",
       "      <td>0.024</td>\n",
       "      <td>0.021</td>\n",
       "      <td>0.013</td>\n",
       "      <td>0.022</td>\n",
       "      <td>0.012</td>\n",
       "      <td>0.013</td>\n",
       "      <td>0.012</td>\n",
       "    </tr>\n",
       "    <tr>\n",
       "      <th>7</th>\n",
       "      <td>NINQ</td>\n",
       "      <td>0.005</td>\n",
       "      <td>0.010</td>\n",
       "      <td>0.011</td>\n",
       "      <td>0.007</td>\n",
       "      <td>0.002</td>\n",
       "      <td>0.051</td>\n",
       "      <td>0.020</td>\n",
       "      <td>0.012</td>\n",
       "      <td>0.004</td>\n",
       "    </tr>\n",
       "    <tr>\n",
       "      <th>8</th>\n",
       "      <td>DEBTINC</td>\n",
       "      <td>0.038</td>\n",
       "      <td>0.145</td>\n",
       "      <td>0.095</td>\n",
       "      <td>0.066</td>\n",
       "      <td>0.035</td>\n",
       "      <td>0.084</td>\n",
       "      <td>0.051</td>\n",
       "      <td>0.051</td>\n",
       "      <td>0.036</td>\n",
       "    </tr>\n",
       "    <tr>\n",
       "      <th>9</th>\n",
       "      <td>REASON</td>\n",
       "      <td>0.003</td>\n",
       "      <td>0.006</td>\n",
       "      <td>0.006</td>\n",
       "      <td>0.006</td>\n",
       "      <td>0.003</td>\n",
       "      <td>0.014</td>\n",
       "      <td>0.003</td>\n",
       "      <td>0.003</td>\n",
       "      <td>0.003</td>\n",
       "    </tr>\n",
       "    <tr>\n",
       "      <th>10</th>\n",
       "      <td>JOB</td>\n",
       "      <td>0.004</td>\n",
       "      <td>0.021</td>\n",
       "      <td>0.009</td>\n",
       "      <td>0.007</td>\n",
       "      <td>0.003</td>\n",
       "      <td>0.009</td>\n",
       "      <td>0.006</td>\n",
       "      <td>0.007</td>\n",
       "      <td>0.005</td>\n",
       "    </tr>\n",
       "  </tbody>\n",
       "</table>\n",
       "</div>"
      ],
      "text/plain": [
       "    feature    xgb   rus1   rus5  rus10  rus15   iht1   iht5  iht10  iht15\n",
       "0      LOAN  0.006  0.040  0.014  0.013  0.007  0.053  0.012  0.012  0.008\n",
       "1   MORTDUE  0.005  0.024  0.017  0.011  0.005  0.055  0.017  0.015  0.007\n",
       "2     VALUE  0.005  0.025  0.015  0.012  0.004  0.057  0.013  0.014  0.005\n",
       "3       YOJ  0.006  0.034  0.019  0.009  0.003  0.027  0.012  0.008  0.005\n",
       "4     DEROG  0.007  0.014  0.010  0.008  0.007  0.033  0.013  0.014  0.011\n",
       "5    DELINQ  0.018  0.067  0.035  0.021  0.014  0.087  0.047  0.025  0.020\n",
       "6     CLAGE  0.011  0.045  0.024  0.021  0.013  0.022  0.012  0.013  0.012\n",
       "7      NINQ  0.005  0.010  0.011  0.007  0.002  0.051  0.020  0.012  0.004\n",
       "8   DEBTINC  0.038  0.145  0.095  0.066  0.035  0.084  0.051  0.051  0.036\n",
       "9    REASON  0.003  0.006  0.006  0.006  0.003  0.014  0.003  0.003  0.003\n",
       "10      JOB  0.004  0.021  0.009  0.007  0.003  0.009  0.006  0.007  0.005"
      ]
     },
     "execution_count": 153,
     "metadata": {},
     "output_type": "execute_result"
    }
   ],
   "source": [
    "#rus1,rus5,rus10,rus15,iht1,iht5,iht10,iht15\n",
    "shap_importance['rus1'] = shap_list[0]\n",
    "shap_importance['rus5'] = shap_list[1]\n",
    "shap_importance['rus10'] = shap_list[2]\n",
    "shap_importance['rus15'] = shap_list[3]\n",
    "shap_importance['iht1'] = shap_list[4]\n",
    "shap_importance['iht5'] = shap_list[5]\n",
    "shap_importance['iht10'] = shap_list[6]\n",
    "shap_importance['iht15'] = shap_list[7]\n",
    "\n",
    "shap_importance"
   ]
  },
  {
   "cell_type": "code",
   "execution_count": 154,
   "id": "234589fc",
   "metadata": {},
   "outputs": [],
   "source": [
    "shap_importance.to_csv('/kaggle/working/shap_importance.csv', index = True, encoding = 'utf-8-sig') "
   ]
  },
  {
   "cell_type": "code",
   "execution_count": null,
   "id": "253453c2",
   "metadata": {},
   "outputs": [],
   "source": []
  },
  {
   "cell_type": "markdown",
   "id": "53df1b2e",
   "metadata": {},
   "source": [
    "### 6.1.2  SHAP rank correlation"
   ]
  },
  {
   "cell_type": "code",
   "execution_count": 125,
   "id": "57e651ba",
   "metadata": {},
   "outputs": [
    {
     "name": "stdout",
     "output_type": "stream",
     "text": [
      "         xgb   rus1   rus5  rus10  rus15   iht1   iht5  iht10  iht15\n",
      "xgb    1.000  0.814  0.805  0.831  0.849  0.538  0.595  0.709  0.914\n",
      "rus1   0.814  1.000  0.900  0.954  0.795  0.564  0.428  0.607  0.817\n",
      "rus5   0.805  0.900  1.000  0.890  0.690  0.645  0.630  0.721  0.734\n",
      "rus10  0.831  0.954  0.890  1.000  0.873  0.671  0.536  0.750  0.862\n",
      "rus15  0.849  0.795  0.690  0.873  1.000  0.561  0.467  0.767  0.961\n",
      "iht1   0.538  0.564  0.645  0.671  0.561  1.000  0.855  0.854  0.532\n",
      "iht5   0.595  0.428  0.630  0.536  0.467  0.855  1.000  0.868  0.538\n",
      "iht10  0.709  0.607  0.721  0.750  0.767  0.854  0.868  1.000  0.779\n",
      "iht15  0.914  0.817  0.734  0.862  0.961  0.532  0.538  0.779  1.000\n"
     ]
    }
   ],
   "source": [
    "rank_shap = shap_importance.corr(method = 'spearman').round(3)\n",
    "print(rank_shap)"
   ]
  },
  {
   "cell_type": "code",
   "execution_count": 155,
   "id": "0fbcb5ca",
   "metadata": {},
   "outputs": [],
   "source": [
    "rank_shap.to_csv('/kaggle/working/rank_shap.csv', index = True, encoding = 'utf-8-sig') "
   ]
  },
  {
   "cell_type": "code",
   "execution_count": 128,
   "id": "9eb1c4df",
   "metadata": {},
   "outputs": [
    {
     "data": {
      "image/png": "[encoded data removed]",
      "text/plain": [
       "<Figure size 864x864 with 2 Axes>"
      ]
     },
     "metadata": {
      "needs_background": "light"
     },
     "output_type": "display_data"
    }
   ],
   "source": [
    "f,ax = plt.subplots(figsize=(12, 12))\n",
    "snsfilter = sns.heatmap(shap_importance.corr(method = 'spearman')[(shap_importance.corr(method = 'spearman') <= 0.692)],\n",
    "            annot=True);"
   ]
  },
  {
   "cell_type": "code",
   "execution_count": null,
   "id": "d3c59914",
   "metadata": {},
   "outputs": [],
   "source": []
  },
  {
   "cell_type": "markdown",
   "id": "d6945c3d",
   "metadata": {},
   "source": [
    "### 6.1.3  SHAP feature importance visualisation"
   ]
  },
  {
   "cell_type": "code",
   "execution_count": 129,
   "id": "f63e77a4",
   "metadata": {},
   "outputs": [
    {
     "data": {
      "text/html": [
       "<div>\n",
       "<style scoped>\n",
       "    .dataframe tbody tr th:only-of-type {\n",
       "        vertical-align: middle;\n",
       "    }\n",
       "\n",
       "    .dataframe tbody tr th {\n",
       "        vertical-align: top;\n",
       "    }\n",
       "\n",
       "    .dataframe thead th {\n",
       "        text-align: right;\n",
       "    }\n",
       "</style>\n",
       "<table border=\"1\" class=\"dataframe\">\n",
       "  <thead>\n",
       "    <tr style=\"text-align: right;\">\n",
       "      <th></th>\n",
       "      <th>feature</th>\n",
       "      <th>xgb</th>\n",
       "      <th>rus1</th>\n",
       "      <th>rus5</th>\n",
       "      <th>rus10</th>\n",
       "      <th>rus15</th>\n",
       "      <th>iht1</th>\n",
       "      <th>iht5</th>\n",
       "      <th>iht10</th>\n",
       "      <th>iht15</th>\n",
       "    </tr>\n",
       "  </thead>\n",
       "  <tbody>\n",
       "    <tr>\n",
       "      <th>8</th>\n",
       "      <td>DEBTINC</td>\n",
       "      <td>0.038</td>\n",
       "      <td>0.145</td>\n",
       "      <td>0.095</td>\n",
       "      <td>0.066</td>\n",
       "      <td>0.035</td>\n",
       "      <td>0.084</td>\n",
       "      <td>0.051</td>\n",
       "      <td>0.051</td>\n",
       "      <td>0.036</td>\n",
       "    </tr>\n",
       "    <tr>\n",
       "      <th>5</th>\n",
       "      <td>DELINQ</td>\n",
       "      <td>0.018</td>\n",
       "      <td>0.067</td>\n",
       "      <td>0.035</td>\n",
       "      <td>0.021</td>\n",
       "      <td>0.014</td>\n",
       "      <td>0.087</td>\n",
       "      <td>0.047</td>\n",
       "      <td>0.025</td>\n",
       "      <td>0.020</td>\n",
       "    </tr>\n",
       "    <tr>\n",
       "      <th>6</th>\n",
       "      <td>CLAGE</td>\n",
       "      <td>0.011</td>\n",
       "      <td>0.045</td>\n",
       "      <td>0.024</td>\n",
       "      <td>0.021</td>\n",
       "      <td>0.013</td>\n",
       "      <td>0.022</td>\n",
       "      <td>0.012</td>\n",
       "      <td>0.013</td>\n",
       "      <td>0.012</td>\n",
       "    </tr>\n",
       "    <tr>\n",
       "      <th>4</th>\n",
       "      <td>DEROG</td>\n",
       "      <td>0.007</td>\n",
       "      <td>0.014</td>\n",
       "      <td>0.010</td>\n",
       "      <td>0.008</td>\n",
       "      <td>0.007</td>\n",
       "      <td>0.033</td>\n",
       "      <td>0.013</td>\n",
       "      <td>0.014</td>\n",
       "      <td>0.011</td>\n",
       "    </tr>\n",
       "    <tr>\n",
       "      <th>0</th>\n",
       "      <td>LOAN</td>\n",
       "      <td>0.006</td>\n",
       "      <td>0.040</td>\n",
       "      <td>0.014</td>\n",
       "      <td>0.013</td>\n",
       "      <td>0.007</td>\n",
       "      <td>0.053</td>\n",
       "      <td>0.012</td>\n",
       "      <td>0.012</td>\n",
       "      <td>0.008</td>\n",
       "    </tr>\n",
       "    <tr>\n",
       "      <th>3</th>\n",
       "      <td>YOJ</td>\n",
       "      <td>0.006</td>\n",
       "      <td>0.034</td>\n",
       "      <td>0.019</td>\n",
       "      <td>0.009</td>\n",
       "      <td>0.003</td>\n",
       "      <td>0.027</td>\n",
       "      <td>0.012</td>\n",
       "      <td>0.008</td>\n",
       "      <td>0.005</td>\n",
       "    </tr>\n",
       "    <tr>\n",
       "      <th>1</th>\n",
       "      <td>MORTDUE</td>\n",
       "      <td>0.005</td>\n",
       "      <td>0.024</td>\n",
       "      <td>0.017</td>\n",
       "      <td>0.011</td>\n",
       "      <td>0.005</td>\n",
       "      <td>0.055</td>\n",
       "      <td>0.017</td>\n",
       "      <td>0.015</td>\n",
       "      <td>0.007</td>\n",
       "    </tr>\n",
       "    <tr>\n",
       "      <th>2</th>\n",
       "      <td>VALUE</td>\n",
       "      <td>0.005</td>\n",
       "      <td>0.025</td>\n",
       "      <td>0.015</td>\n",
       "      <td>0.012</td>\n",
       "      <td>0.004</td>\n",
       "      <td>0.057</td>\n",
       "      <td>0.013</td>\n",
       "      <td>0.014</td>\n",
       "      <td>0.005</td>\n",
       "    </tr>\n",
       "    <tr>\n",
       "      <th>7</th>\n",
       "      <td>NINQ</td>\n",
       "      <td>0.005</td>\n",
       "      <td>0.010</td>\n",
       "      <td>0.011</td>\n",
       "      <td>0.007</td>\n",
       "      <td>0.002</td>\n",
       "      <td>0.051</td>\n",
       "      <td>0.020</td>\n",
       "      <td>0.012</td>\n",
       "      <td>0.004</td>\n",
       "    </tr>\n",
       "    <tr>\n",
       "      <th>10</th>\n",
       "      <td>JOB</td>\n",
       "      <td>0.004</td>\n",
       "      <td>0.021</td>\n",
       "      <td>0.009</td>\n",
       "      <td>0.007</td>\n",
       "      <td>0.003</td>\n",
       "      <td>0.009</td>\n",
       "      <td>0.006</td>\n",
       "      <td>0.007</td>\n",
       "      <td>0.005</td>\n",
       "    </tr>\n",
       "  </tbody>\n",
       "</table>\n",
       "</div>"
      ],
      "text/plain": [
       "    feature    xgb   rus1   rus5  rus10  rus15   iht1   iht5  iht10  iht15\n",
       "8   DEBTINC  0.038  0.145  0.095  0.066  0.035  0.084  0.051  0.051  0.036\n",
       "5    DELINQ  0.018  0.067  0.035  0.021  0.014  0.087  0.047  0.025  0.020\n",
       "6     CLAGE  0.011  0.045  0.024  0.021  0.013  0.022  0.012  0.013  0.012\n",
       "4     DEROG  0.007  0.014  0.010  0.008  0.007  0.033  0.013  0.014  0.011\n",
       "0      LOAN  0.006  0.040  0.014  0.013  0.007  0.053  0.012  0.012  0.008\n",
       "3       YOJ  0.006  0.034  0.019  0.009  0.003  0.027  0.012  0.008  0.005\n",
       "1   MORTDUE  0.005  0.024  0.017  0.011  0.005  0.055  0.017  0.015  0.007\n",
       "2     VALUE  0.005  0.025  0.015  0.012  0.004  0.057  0.013  0.014  0.005\n",
       "7      NINQ  0.005  0.010  0.011  0.007  0.002  0.051  0.020  0.012  0.004\n",
       "10      JOB  0.004  0.021  0.009  0.007  0.003  0.009  0.006  0.007  0.005"
      ]
     },
     "execution_count": 129,
     "metadata": {},
     "output_type": "execute_result"
    }
   ],
   "source": [
    "#select top 10 features for original xgb\n",
    "shap_top10 = shap_importance.sort_values(['xgb'], ascending=[False])\n",
    "shap_top10 = shap_top10.head(10)\n",
    "shap_top10"
   ]
  },
  {
   "cell_type": "code",
   "execution_count": 130,
   "id": "3ceaf84f",
   "metadata": {},
   "outputs": [
    {
     "data": {
      "image/png": "[encoded data removed]",
      "text/plain": [
       "<Figure size 1080x432 with 1 Axes>"
      ]
     },
     "metadata": {
      "needs_background": "light"
     },
     "output_type": "display_data"
    }
   ],
   "source": [
    "#1.aggeragate by approaches\n",
    "#rus under different IR\n",
    "x = shap_top10['feature'].tolist()\n",
    "xgb_base =shap_top10['xgb'].tolist()\n",
    "rus_1 =shap_top10['rus1'].tolist()\n",
    "rus_5 =shap_top10['rus5'].tolist()\n",
    "rus_10 =shap_top10['rus10'].tolist()\n",
    "rus_15 =shap_top10['rus15'].tolist()\n",
    "\n",
    "#plot\n",
    "plt.rcParams['figure.figsize'] = (15 , 6)\n",
    "\n",
    "plt.plot(x, xgb_base, label ='xgb')\n",
    "plt.plot(x, rus_1, '-.', label ='RUS_1')\n",
    "plt.plot(x, rus_5, '-.', label ='RUS_5')\n",
    "plt.plot(x, rus_10, '-.', label ='RUS_10')\n",
    "plt.plot(x, rus_15, '-.', label ='RUS_15')\n",
    "\n",
    "plt.xlabel(\"feature\")\n",
    "plt.ylabel(\"SHAP value\")\n",
    "plt.legend()\n",
    "plt.title('RUS Shap value plot under various IR')\n",
    "plt.show()"
   ]
  },
  {
   "cell_type": "code",
   "execution_count": 131,
   "id": "ad2439de",
   "metadata": {},
   "outputs": [
    {
     "data": {
      "image/png": "[encoded data removed]",
      "text/plain": [
       "<Figure size 1080x432 with 1 Axes>"
      ]
     },
     "metadata": {
      "needs_background": "light"
     },
     "output_type": "display_data"
    }
   ],
   "source": [
    "#iht under different IR\n",
    "x = shap_top10['feature'].tolist()\n",
    "xgb_base =shap_top10['xgb'].tolist()\n",
    "iht_1 =shap_top10['iht1'].tolist()\n",
    "iht_5 =shap_top10['iht5'].tolist()\n",
    "iht_10 =shap_top10['iht10'].tolist()\n",
    "iht_15 =shap_top10['iht15'].tolist()\n",
    "\n",
    "#plot\n",
    "plt.rcParams['figure.figsize'] = (15 , 6)\n",
    "\n",
    "plt.plot(x, xgb_base, label ='xgb')\n",
    "plt.plot(x, iht_1, '-.', label ='IHT_1')\n",
    "plt.plot(x, iht_5, '-.', label ='IHT_5')\n",
    "plt.plot(x, iht_10, '-.', label ='IHT_10')\n",
    "plt.plot(x, iht_15, '-.', label ='IHT_15')\n",
    "\n",
    "plt.xlabel(\"feature\")\n",
    "plt.ylabel(\"SHAP value\")\n",
    "plt.legend()\n",
    "plt.title('IHT Shap value plot under various IR')\n",
    "plt.show()"
   ]
  },
  {
   "cell_type": "code",
   "execution_count": 132,
   "id": "dc5dd4d2",
   "metadata": {},
   "outputs": [
    {
     "data": {
      "image/png": "[encoded data removed]",
      "text/plain": [
       "<Figure size 1080x432 with 1 Axes>"
      ]
     },
     "metadata": {
      "needs_background": "light"
     },
     "output_type": "display_data"
    }
   ],
   "source": [
    "#aggeragate by ratio\n",
    "#IR=1 under various approaches\n",
    "x = shap_top10['feature'].tolist()\n",
    "xgb_base =shap_top10['xgb'].tolist()\n",
    "\n",
    "RUS_1 =shap_top10['rus1'].tolist()\n",
    "IHT_1 =shap_top10['iht1'].tolist()\n",
    "\n",
    "#plot\n",
    "plt.rcParams['figure.figsize'] = (15 , 6)\n",
    "\n",
    "plt.plot(x, xgb_base, label ='xgb')\n",
    "plt.plot(x, RUS_1, '-.', label ='RUS_1')\n",
    "plt.plot(x, IHT_1, '-.', label ='IHT_1')\n",
    "\n",
    "\n",
    "plt.xlabel(\"feature\")\n",
    "plt.ylabel(\"SHAP value\")\n",
    "plt.legend()\n",
    "plt.title('SHAP value plot under IR = 1 using resampling approaches ')\n",
    "plt.show()"
   ]
  },
  {
   "cell_type": "code",
   "execution_count": 133,
   "id": "313f6369",
   "metadata": {},
   "outputs": [
    {
     "data": {
      "image/png": "[encoded data removed]",
      "text/plain": [
       "<Figure size 1080x432 with 1 Axes>"
      ]
     },
     "metadata": {
      "needs_background": "light"
     },
     "output_type": "display_data"
    }
   ],
   "source": [
    "#IR=5 under various approaches\n",
    "x = shap_top10['feature'].tolist()\n",
    "xgb_base =shap_top10['xgb'].tolist()\n",
    "\n",
    "RUS_5 =shap_top10['rus5'].tolist()\n",
    "IHT_5 =shap_top10['iht5'].tolist()\n",
    "\n",
    "#plot\n",
    "plt.rcParams['figure.figsize'] = (15 , 6)\n",
    "\n",
    "plt.plot(x, xgb_base, label ='xgb')\n",
    "plt.plot(x, RUS_5, '-.', label ='RUS_5')\n",
    "plt.plot(x, IHT_5, '-.', label ='IHT_5')\n",
    "\n",
    "\n",
    "plt.xlabel(\"feature\")\n",
    "plt.ylabel(\"SHAP value\")\n",
    "plt.legend()\n",
    "plt.title('SHAP value plot under IR = 5 using resampling approaches ')\n",
    "plt.show()"
   ]
  },
  {
   "cell_type": "code",
   "execution_count": 134,
   "id": "26f65669",
   "metadata": {},
   "outputs": [
    {
     "data": {
      "image/png": "[encoded data removed]",
      "text/plain": [
       "<Figure size 1080x432 with 1 Axes>"
      ]
     },
     "metadata": {
      "needs_background": "light"
     },
     "output_type": "display_data"
    }
   ],
   "source": [
    "#IR=10 under various approaches\n",
    "x = shap_top10['feature'].tolist()\n",
    "xgb_base =shap_top10['xgb'].tolist()\n",
    "\n",
    "RUS_10 =shap_top10['rus10'].tolist()\n",
    "IHT_10 =shap_top10['iht10'].tolist()\n",
    "\n",
    "#plot\n",
    "plt.rcParams['figure.figsize'] = (15 , 6)\n",
    "\n",
    "plt.plot(x, xgb_base, label ='xgb')\n",
    "plt.plot(x, RUS_10, '-.', label ='RUS_10')\n",
    "plt.plot(x, IHT_10, '-.', label ='IHT_10')\n",
    "\n",
    "\n",
    "plt.xlabel(\"feature\")\n",
    "plt.ylabel(\"SHAP value\")\n",
    "plt.legend()\n",
    "plt.title('SHAP value plot under IR = 10 using resampling approaches ')\n",
    "plt.show()"
   ]
  },
  {
   "cell_type": "code",
   "execution_count": 135,
   "id": "dd6fa755",
   "metadata": {},
   "outputs": [
    {
     "data": {
      "image/png": "[encoded data removed]",
      "text/plain": [
       "<Figure size 1080x432 with 1 Axes>"
      ]
     },
     "metadata": {
      "needs_background": "light"
     },
     "output_type": "display_data"
    }
   ],
   "source": [
    "#IR=15 under various approaches\n",
    "x = shap_top10['feature'].tolist()\n",
    "xgb_base =shap_top10['xgb'].tolist()\n",
    "\n",
    "RUS_15 =shap_top10['rus15'].tolist()\n",
    "IHT_15 =shap_top10['iht15'].tolist()\n",
    "\n",
    "#plot\n",
    "plt.rcParams['figure.figsize'] = (15 , 6)\n",
    "\n",
    "plt.plot(x, xgb_base, label ='xgb')\n",
    "plt.plot(x, RUS_15, '-.', label ='RUS_15')\n",
    "plt.plot(x, IHT_15, '-.', label ='IHT_15')\n",
    "\n",
    "\n",
    "plt.xlabel(\"feature\")\n",
    "plt.ylabel(\"SHAP value\")\n",
    "plt.legend()\n",
    "plt.title('SHAP value plot under IR = 15 using resampling approaches ')\n",
    "plt.show()"
   ]
  },
  {
   "cell_type": "code",
   "execution_count": null,
   "id": "07705036",
   "metadata": {
    "id": "07705036"
   },
   "outputs": [],
   "source": []
  },
  {
   "cell_type": "markdown",
   "id": "1fb0ba17",
   "metadata": {
    "id": "1fb0ba17"
   },
   "source": [
    "## 6.2 PFI"
   ]
  },
  {
   "cell_type": "markdown",
   "id": "52c1b265",
   "metadata": {},
   "source": [
    "### 6.2.1 Calculate PFI"
   ]
  },
  {
   "cell_type": "code",
   "execution_count": 136,
   "id": "df15fe55",
   "metadata": {},
   "outputs": [
    {
     "data": {
      "text/html": [
       "<div>\n",
       "<style scoped>\n",
       "    .dataframe tbody tr th:only-of-type {\n",
       "        vertical-align: middle;\n",
       "    }\n",
       "\n",
       "    .dataframe tbody tr th {\n",
       "        vertical-align: top;\n",
       "    }\n",
       "\n",
       "    .dataframe thead th {\n",
       "        text-align: right;\n",
       "    }\n",
       "</style>\n",
       "<table border=\"1\" class=\"dataframe\">\n",
       "  <thead>\n",
       "    <tr style=\"text-align: right;\">\n",
       "      <th></th>\n",
       "      <th>feature</th>\n",
       "      <th>xgb</th>\n",
       "    </tr>\n",
       "  </thead>\n",
       "  <tbody>\n",
       "    <tr>\n",
       "      <th>0</th>\n",
       "      <td>LOAN</td>\n",
       "      <td>0.008</td>\n",
       "    </tr>\n",
       "    <tr>\n",
       "      <th>1</th>\n",
       "      <td>MORTDUE</td>\n",
       "      <td>0.007</td>\n",
       "    </tr>\n",
       "    <tr>\n",
       "      <th>2</th>\n",
       "      <td>VALUE</td>\n",
       "      <td>0.007</td>\n",
       "    </tr>\n",
       "    <tr>\n",
       "      <th>3</th>\n",
       "      <td>YOJ</td>\n",
       "      <td>0.008</td>\n",
       "    </tr>\n",
       "    <tr>\n",
       "      <th>4</th>\n",
       "      <td>DEROG</td>\n",
       "      <td>0.002</td>\n",
       "    </tr>\n",
       "  </tbody>\n",
       "</table>\n",
       "</div>"
      ],
      "text/plain": [
       "   feature    xgb\n",
       "0     LOAN  0.008\n",
       "1  MORTDUE  0.007\n",
       "2    VALUE  0.007\n",
       "3      YOJ  0.008\n",
       "4    DEROG  0.002"
      ]
     },
     "execution_count": 136,
     "metadata": {},
     "output_type": "execute_result"
    }
   ],
   "source": [
    "instance =xgb_tune.fit(X_train_final, y_train.values.ravel())\n",
    "pfi_xgb = permutation_importance(xgb_tune, X_train_final, y_train, scoring='roc_auc', n_repeats=5, random_state=1)\n",
    "pfi_importance = pd.concat([pd.DataFrame(X_train_final.columns),pd.DataFrame(pfi_xgb.importances_mean.round(3))],axis = 1)\n",
    "pfi_importance = pfi_importance.set_axis(['feature','xgb'], axis='columns')\n",
    "pfi_importance.head()"
   ]
  },
  {
   "cell_type": "code",
   "execution_count": 137,
   "id": "4426987b",
   "metadata": {},
   "outputs": [],
   "source": [
    "def pfi_generator(X_data_list, y_data_list, model):\n",
    "    pfi_list = []\n",
    "    for X_data, y_data in zip(X_data_list, y_data_list):\n",
    "        instance_xgb = model.fit(X_data, y_data,eval_set=[(X_val_final, y_val)], early_stopping_rounds= 50)\n",
    "        pfi_xgb = permutation_importance(model, X_data, y_data, scoring='roc_auc', n_repeats=5, random_state=1)\n",
    "        pfi_value = pfi_xgb.importances_mean.round(3) \n",
    "        pfi_list.append(pfi_value)\n",
    "    return pfi_list"
   ]
  },
  {
   "cell_type": "code",
   "execution_count": 138,
   "id": "411213ed",
   "metadata": {},
   "outputs": [
    {
     "name": "stdout",
     "output_type": "stream",
     "text": [
      "[0]\tvalidation_0-auc:0.64009\n",
      "[1]\tvalidation_0-auc:0.74397\n",
      "[2]\tvalidation_0-auc:0.70748\n",
      "[3]\tvalidation_0-auc:0.71456\n",
      "[4]\tvalidation_0-auc:0.72308\n",
      "[5]\tvalidation_0-auc:0.79952\n",
      "[6]\tvalidation_0-auc:0.83417\n",
      "[7]\tvalidation_0-auc:0.83475\n",
      "[8]\tvalidation_0-auc:0.82105\n",
      "[9]\tvalidation_0-auc:0.82810\n",
      "[10]\tvalidation_0-auc:0.84115\n",
      "[11]\tvalidation_0-auc:0.84510\n",
      "[12]\tvalidation_0-auc:0.83480\n",
      "[13]\tvalidation_0-auc:0.84049\n",
      "[14]\tvalidation_0-auc:0.84676\n",
      "[15]\tvalidation_0-auc:0.85173\n",
      "[16]\tvalidation_0-auc:0.85219\n",
      "[17]\tvalidation_0-auc:0.86140\n",
      "[18]\tvalidation_0-auc:0.87107\n",
      "[19]\tvalidation_0-auc:0.87219\n",
      "[20]\tvalidation_0-auc:0.87508\n",
      "[21]\tvalidation_0-auc:0.87401\n",
      "[22]\tvalidation_0-auc:0.87183\n",
      "[23]\tvalidation_0-auc:0.87488\n",
      "[24]\tvalidation_0-auc:0.87762\n",
      "[25]\tvalidation_0-auc:0.88023\n",
      "[26]\tvalidation_0-auc:0.88325\n",
      "[27]\tvalidation_0-auc:0.87919\n",
      "[28]\tvalidation_0-auc:0.88140\n",
      "[29]\tvalidation_0-auc:0.88379\n",
      "[30]\tvalidation_0-auc:0.88437\n",
      "[31]\tvalidation_0-auc:0.88305\n",
      "[32]\tvalidation_0-auc:0.88247\n",
      "[33]\tvalidation_0-auc:0.88267\n",
      "[34]\tvalidation_0-auc:0.88257\n",
      "[35]\tvalidation_0-auc:0.88267\n",
      "[36]\tvalidation_0-auc:0.88236\n",
      "[37]\tvalidation_0-auc:0.88239\n",
      "[38]\tvalidation_0-auc:0.88419\n",
      "[39]\tvalidation_0-auc:0.88422\n",
      "[40]\tvalidation_0-auc:0.88528\n",
      "[41]\tvalidation_0-auc:0.88551\n",
      "[42]\tvalidation_0-auc:0.88267\n",
      "[43]\tvalidation_0-auc:0.88145\n",
      "[44]\tvalidation_0-auc:0.88264\n",
      "[45]\tvalidation_0-auc:0.88325\n",
      "[46]\tvalidation_0-auc:0.88219\n",
      "[47]\tvalidation_0-auc:0.88127\n",
      "[48]\tvalidation_0-auc:0.88076\n",
      "[49]\tvalidation_0-auc:0.88028\n",
      "[50]\tvalidation_0-auc:0.88132\n",
      "[51]\tvalidation_0-auc:0.88117\n",
      "[52]\tvalidation_0-auc:0.88074\n",
      "[53]\tvalidation_0-auc:0.88097\n",
      "[54]\tvalidation_0-auc:0.88241\n",
      "[55]\tvalidation_0-auc:0.88409\n",
      "[56]\tvalidation_0-auc:0.88391\n",
      "[57]\tvalidation_0-auc:0.88320\n",
      "[58]\tvalidation_0-auc:0.88495\n",
      "[59]\tvalidation_0-auc:0.88516\n",
      "[60]\tvalidation_0-auc:0.88386\n",
      "[61]\tvalidation_0-auc:0.88477\n",
      "[62]\tvalidation_0-auc:0.88635\n",
      "[63]\tvalidation_0-auc:0.88749\n",
      "[64]\tvalidation_0-auc:0.88678\n",
      "[65]\tvalidation_0-auc:0.88693\n",
      "[66]\tvalidation_0-auc:0.88592\n",
      "[67]\tvalidation_0-auc:0.88576\n",
      "[68]\tvalidation_0-auc:0.88493\n",
      "[69]\tvalidation_0-auc:0.88485\n",
      "[70]\tvalidation_0-auc:0.88439\n",
      "[71]\tvalidation_0-auc:0.88439\n",
      "[72]\tvalidation_0-auc:0.88371\n",
      "[73]\tvalidation_0-auc:0.88361\n",
      "[74]\tvalidation_0-auc:0.88277\n",
      "[75]\tvalidation_0-auc:0.88170\n",
      "[76]\tvalidation_0-auc:0.88125\n",
      "[77]\tvalidation_0-auc:0.88244\n",
      "[78]\tvalidation_0-auc:0.88214\n",
      "[79]\tvalidation_0-auc:0.88254\n",
      "[80]\tvalidation_0-auc:0.88178\n",
      "[81]\tvalidation_0-auc:0.88186\n",
      "[82]\tvalidation_0-auc:0.88254\n",
      "[83]\tvalidation_0-auc:0.88201\n",
      "[84]\tvalidation_0-auc:0.88153\n",
      "[85]\tvalidation_0-auc:0.88094\n",
      "[86]\tvalidation_0-auc:0.88130\n",
      "[87]\tvalidation_0-auc:0.88102\n",
      "[88]\tvalidation_0-auc:0.88165\n",
      "[89]\tvalidation_0-auc:0.88201\n",
      "[90]\tvalidation_0-auc:0.88203\n",
      "[91]\tvalidation_0-auc:0.88191\n",
      "[92]\tvalidation_0-auc:0.88226\n",
      "[93]\tvalidation_0-auc:0.88287\n",
      "[94]\tvalidation_0-auc:0.88236\n",
      "[95]\tvalidation_0-auc:0.88287\n",
      "[96]\tvalidation_0-auc:0.88211\n",
      "[97]\tvalidation_0-auc:0.88188\n",
      "[98]\tvalidation_0-auc:0.88191\n",
      "[99]\tvalidation_0-auc:0.88175\n",
      "[0]\tvalidation_0-auc:0.69875\n",
      "[1]\tvalidation_0-auc:0.83447\n",
      "[2]\tvalidation_0-auc:0.84451\n",
      "[3]\tvalidation_0-auc:0.85925\n",
      "[4]\tvalidation_0-auc:0.87778\n",
      "[5]\tvalidation_0-auc:0.89715\n",
      "[6]\tvalidation_0-auc:0.89602\n",
      "[7]\tvalidation_0-auc:0.89117\n",
      "[8]\tvalidation_0-auc:0.89922\n",
      "[9]\tvalidation_0-auc:0.89739\n",
      "[10]\tvalidation_0-auc:0.89579\n",
      "[11]\tvalidation_0-auc:0.89578\n",
      "[12]\tvalidation_0-auc:0.89390\n",
      "[13]\tvalidation_0-auc:0.90014\n",
      "[14]\tvalidation_0-auc:0.90656\n",
      "[15]\tvalidation_0-auc:0.90654\n",
      "[16]\tvalidation_0-auc:0.90287\n",
      "[17]\tvalidation_0-auc:0.90297\n",
      "[18]\tvalidation_0-auc:0.90323\n",
      "[19]\tvalidation_0-auc:0.90706\n",
      "[20]\tvalidation_0-auc:0.90528\n",
      "[21]\tvalidation_0-auc:0.90914\n",
      "[22]\tvalidation_0-auc:0.90851\n",
      "[23]\tvalidation_0-auc:0.90975\n",
      "[24]\tvalidation_0-auc:0.91533\n",
      "[25]\tvalidation_0-auc:0.91609\n",
      "[26]\tvalidation_0-auc:0.91698\n",
      "[27]\tvalidation_0-auc:0.91559\n",
      "[28]\tvalidation_0-auc:0.91500\n",
      "[29]\tvalidation_0-auc:0.91328\n",
      "[30]\tvalidation_0-auc:0.91107\n",
      "[31]\tvalidation_0-auc:0.91366\n",
      "[32]\tvalidation_0-auc:0.91635\n",
      "[33]\tvalidation_0-auc:0.91655\n",
      "[34]\tvalidation_0-auc:0.91693\n",
      "[35]\tvalidation_0-auc:0.91729\n",
      "[36]\tvalidation_0-auc:0.92051\n",
      "[37]\tvalidation_0-auc:0.92302\n",
      "[38]\tvalidation_0-auc:0.92366\n",
      "[39]\tvalidation_0-auc:0.92305\n",
      "[40]\tvalidation_0-auc:0.92427\n",
      "[41]\tvalidation_0-auc:0.92658\n",
      "[42]\tvalidation_0-auc:0.92622\n",
      "[43]\tvalidation_0-auc:0.92559\n",
      "[44]\tvalidation_0-auc:0.92366\n",
      "[45]\tvalidation_0-auc:0.92460\n",
      "[46]\tvalidation_0-auc:0.92358\n",
      "[47]\tvalidation_0-auc:0.92249\n",
      "[48]\tvalidation_0-auc:0.92295\n",
      "[49]\tvalidation_0-auc:0.92193\n",
      "[50]\tvalidation_0-auc:0.92041\n",
      "[51]\tvalidation_0-auc:0.92109\n",
      "[52]\tvalidation_0-auc:0.92015\n",
      "[53]\tvalidation_0-auc:0.91975\n",
      "[54]\tvalidation_0-auc:0.91924\n",
      "[55]\tvalidation_0-auc:0.91805\n",
      "[56]\tvalidation_0-auc:0.92165\n",
      "[57]\tvalidation_0-auc:0.92229\n",
      "[58]\tvalidation_0-auc:0.92300\n",
      "[59]\tvalidation_0-auc:0.92317\n",
      "[60]\tvalidation_0-auc:0.92317\n",
      "[61]\tvalidation_0-auc:0.92388\n",
      "[62]\tvalidation_0-auc:0.92490\n",
      "[63]\tvalidation_0-auc:0.92553\n",
      "[64]\tvalidation_0-auc:0.92454\n",
      "[65]\tvalidation_0-auc:0.92465\n",
      "[66]\tvalidation_0-auc:0.92292\n",
      "[67]\tvalidation_0-auc:0.92208\n",
      "[68]\tvalidation_0-auc:0.92211\n",
      "[69]\tvalidation_0-auc:0.92206\n",
      "[70]\tvalidation_0-auc:0.92137\n",
      "[71]\tvalidation_0-auc:0.92229\n",
      "[72]\tvalidation_0-auc:0.92287\n",
      "[73]\tvalidation_0-auc:0.92315\n",
      "[74]\tvalidation_0-auc:0.92206\n",
      "[75]\tvalidation_0-auc:0.92335\n",
      "[76]\tvalidation_0-auc:0.92444\n",
      "[77]\tvalidation_0-auc:0.92338\n",
      "[78]\tvalidation_0-auc:0.92493\n",
      "[79]\tvalidation_0-auc:0.92439\n",
      "[80]\tvalidation_0-auc:0.92388\n",
      "[81]\tvalidation_0-auc:0.92475\n",
      "[82]\tvalidation_0-auc:0.92475\n",
      "[83]\tvalidation_0-auc:0.92543\n",
      "[84]\tvalidation_0-auc:0.92594\n",
      "[85]\tvalidation_0-auc:0.92617\n",
      "[86]\tvalidation_0-auc:0.92706\n",
      "[87]\tvalidation_0-auc:0.92688\n",
      "[88]\tvalidation_0-auc:0.92754\n",
      "[89]\tvalidation_0-auc:0.92756\n",
      "[90]\tvalidation_0-auc:0.92609\n",
      "[91]\tvalidation_0-auc:0.92660\n",
      "[92]\tvalidation_0-auc:0.92729\n",
      "[93]\tvalidation_0-auc:0.92658\n",
      "[94]\tvalidation_0-auc:0.92627\n",
      "[95]\tvalidation_0-auc:0.92729\n",
      "[96]\tvalidation_0-auc:0.92759\n",
      "[97]\tvalidation_0-auc:0.92711\n",
      "[98]\tvalidation_0-auc:0.92751\n",
      "[99]\tvalidation_0-auc:0.92716\n",
      "[0]\tvalidation_0-auc:0.66950\n",
      "[1]\tvalidation_0-auc:0.71647\n",
      "[2]\tvalidation_0-auc:0.88165\n",
      "[3]\tvalidation_0-auc:0.87579\n",
      "[4]\tvalidation_0-auc:0.87321\n",
      "[5]\tvalidation_0-auc:0.87390\n",
      "[6]\tvalidation_0-auc:0.87574\n",
      "[7]\tvalidation_0-auc:0.88963\n",
      "[8]\tvalidation_0-auc:0.89658\n",
      "[9]\tvalidation_0-auc:0.89910\n",
      "[10]\tvalidation_0-auc:0.89968\n",
      "[11]\tvalidation_0-auc:0.89817\n",
      "[12]\tvalidation_0-auc:0.89620\n",
      "[13]\tvalidation_0-auc:0.90139\n",
      "[14]\tvalidation_0-auc:0.90382\n",
      "[15]\tvalidation_0-auc:0.90026\n",
      "[16]\tvalidation_0-auc:0.89645\n",
      "[17]\tvalidation_0-auc:0.89432\n",
      "[18]\tvalidation_0-auc:0.89494\n",
      "[19]\tvalidation_0-auc:0.90358\n",
      "[20]\tvalidation_0-auc:0.90201\n",
      "[21]\tvalidation_0-auc:0.90323\n",
      "[22]\tvalidation_0-auc:0.90272\n",
      "[23]\tvalidation_0-auc:0.90342\n",
      "[24]\tvalidation_0-auc:0.90205\n",
      "[25]\tvalidation_0-auc:0.90246\n",
      "[26]\tvalidation_0-auc:0.91014\n",
      "[27]\tvalidation_0-auc:0.91121\n",
      "[28]\tvalidation_0-auc:0.91292\n",
      "[29]\tvalidation_0-auc:0.91241\n",
      "[30]\tvalidation_0-auc:0.91150\n",
      "[31]\tvalidation_0-auc:0.90977\n",
      "[32]\tvalidation_0-auc:0.91000\n",
      "[33]\tvalidation_0-auc:0.90759\n",
      "[34]\tvalidation_0-auc:0.90774\n",
      "[35]\tvalidation_0-auc:0.90691\n",
      "[36]\tvalidation_0-auc:0.90673\n",
      "[37]\tvalidation_0-auc:0.90901\n",
      "[38]\tvalidation_0-auc:0.90790\n",
      "[39]\tvalidation_0-auc:0.90635\n",
      "[40]\tvalidation_0-auc:0.90817\n",
      "[41]\tvalidation_0-auc:0.90871\n",
      "[42]\tvalidation_0-auc:0.90871\n",
      "[43]\tvalidation_0-auc:0.90899\n",
      "[44]\tvalidation_0-auc:0.90759\n",
      "[45]\tvalidation_0-auc:0.91277\n",
      "[46]\tvalidation_0-auc:0.91421\n",
      "[47]\tvalidation_0-auc:0.91716\n",
      "[48]\tvalidation_0-auc:0.91650\n",
      "[49]\tvalidation_0-auc:0.91729\n",
      "[50]\tvalidation_0-auc:0.91762\n",
      "[51]\tvalidation_0-auc:0.91655\n",
      "[52]\tvalidation_0-auc:0.91724\n",
      "[53]\tvalidation_0-auc:0.91462\n",
      "[54]\tvalidation_0-auc:0.91361\n",
      "[55]\tvalidation_0-auc:0.91175\n",
      "[56]\tvalidation_0-auc:0.91513\n",
      "[57]\tvalidation_0-auc:0.91465\n",
      "[58]\tvalidation_0-auc:0.91571\n",
      "[59]\tvalidation_0-auc:0.91617\n",
      "[60]\tvalidation_0-auc:0.91597\n",
      "[61]\tvalidation_0-auc:0.91673\n",
      "[62]\tvalidation_0-auc:0.91817\n",
      "[63]\tvalidation_0-auc:0.91914\n",
      "[64]\tvalidation_0-auc:0.91779\n",
      "[65]\tvalidation_0-auc:0.91914\n",
      "[66]\tvalidation_0-auc:0.92051\n",
      "[67]\tvalidation_0-auc:0.92061\n",
      "[68]\tvalidation_0-auc:0.91919\n",
      "[69]\tvalidation_0-auc:0.91888\n",
      "[70]\tvalidation_0-auc:0.91911\n",
      "[71]\tvalidation_0-auc:0.91924\n",
      "[72]\tvalidation_0-auc:0.91987\n",
      "[73]\tvalidation_0-auc:0.91937\n",
      "[74]\tvalidation_0-auc:0.91840\n"
     ]
    },
    {
     "name": "stdout",
     "output_type": "stream",
     "text": [
      "[75]\tvalidation_0-auc:0.91787\n",
      "[76]\tvalidation_0-auc:0.91830\n",
      "[77]\tvalidation_0-auc:0.91754\n",
      "[78]\tvalidation_0-auc:0.91840\n",
      "[79]\tvalidation_0-auc:0.91952\n",
      "[80]\tvalidation_0-auc:0.92046\n",
      "[81]\tvalidation_0-auc:0.91962\n",
      "[82]\tvalidation_0-auc:0.91934\n",
      "[83]\tvalidation_0-auc:0.91858\n",
      "[84]\tvalidation_0-auc:0.91939\n",
      "[85]\tvalidation_0-auc:0.92125\n",
      "[86]\tvalidation_0-auc:0.92150\n",
      "[87]\tvalidation_0-auc:0.92163\n",
      "[88]\tvalidation_0-auc:0.92094\n",
      "[89]\tvalidation_0-auc:0.91998\n",
      "[90]\tvalidation_0-auc:0.91927\n",
      "[91]\tvalidation_0-auc:0.91881\n",
      "[92]\tvalidation_0-auc:0.91726\n",
      "[93]\tvalidation_0-auc:0.91762\n",
      "[94]\tvalidation_0-auc:0.91764\n",
      "[95]\tvalidation_0-auc:0.91731\n",
      "[96]\tvalidation_0-auc:0.91815\n",
      "[97]\tvalidation_0-auc:0.91812\n",
      "[98]\tvalidation_0-auc:0.91764\n",
      "[99]\tvalidation_0-auc:0.91767\n",
      "[0]\tvalidation_0-auc:0.70054\n",
      "[1]\tvalidation_0-auc:0.76809\n",
      "[2]\tvalidation_0-auc:0.74771\n",
      "[3]\tvalidation_0-auc:0.74845\n",
      "[4]\tvalidation_0-auc:0.84891\n",
      "[5]\tvalidation_0-auc:0.87268\n",
      "[6]\tvalidation_0-auc:0.87828\n",
      "[7]\tvalidation_0-auc:0.89093\n",
      "[8]\tvalidation_0-auc:0.89350\n",
      "[9]\tvalidation_0-auc:0.89845\n",
      "[10]\tvalidation_0-auc:0.89967\n",
      "[11]\tvalidation_0-auc:0.89617\n",
      "[12]\tvalidation_0-auc:0.89509\n",
      "[13]\tvalidation_0-auc:0.89326\n",
      "[14]\tvalidation_0-auc:0.89215\n",
      "[15]\tvalidation_0-auc:0.89180\n",
      "[16]\tvalidation_0-auc:0.89246\n",
      "[17]\tvalidation_0-auc:0.89480\n",
      "[18]\tvalidation_0-auc:0.89951\n",
      "[19]\tvalidation_0-auc:0.89757\n",
      "[20]\tvalidation_0-auc:0.89774\n",
      "[21]\tvalidation_0-auc:0.89924\n",
      "[22]\tvalidation_0-auc:0.89939\n",
      "[23]\tvalidation_0-auc:0.89856\n",
      "[24]\tvalidation_0-auc:0.90149\n",
      "[25]\tvalidation_0-auc:0.90540\n",
      "[26]\tvalidation_0-auc:0.90543\n",
      "[27]\tvalidation_0-auc:0.90607\n",
      "[28]\tvalidation_0-auc:0.90589\n",
      "[29]\tvalidation_0-auc:0.90477\n",
      "[30]\tvalidation_0-auc:0.90531\n",
      "[31]\tvalidation_0-auc:0.90413\n",
      "[32]\tvalidation_0-auc:0.90331\n",
      "[33]\tvalidation_0-auc:0.90307\n",
      "[34]\tvalidation_0-auc:0.90295\n",
      "[35]\tvalidation_0-auc:0.89982\n",
      "[36]\tvalidation_0-auc:0.89950\n",
      "[37]\tvalidation_0-auc:0.89856\n",
      "[38]\tvalidation_0-auc:0.89812\n",
      "[39]\tvalidation_0-auc:0.90155\n",
      "[40]\tvalidation_0-auc:0.90246\n",
      "[41]\tvalidation_0-auc:0.90455\n",
      "[42]\tvalidation_0-auc:0.90345\n",
      "[43]\tvalidation_0-auc:0.90414\n",
      "[44]\tvalidation_0-auc:0.90762\n",
      "[45]\tvalidation_0-auc:0.90858\n",
      "[46]\tvalidation_0-auc:0.90906\n",
      "[47]\tvalidation_0-auc:0.91026\n",
      "[48]\tvalidation_0-auc:0.91307\n",
      "[49]\tvalidation_0-auc:0.91409\n",
      "[50]\tvalidation_0-auc:0.91759\n",
      "[51]\tvalidation_0-auc:0.91822\n",
      "[52]\tvalidation_0-auc:0.92046\n",
      "[53]\tvalidation_0-auc:0.91998\n",
      "[54]\tvalidation_0-auc:0.91990\n",
      "[55]\tvalidation_0-auc:0.92008\n",
      "[56]\tvalidation_0-auc:0.92000\n",
      "[57]\tvalidation_0-auc:0.91901\n",
      "[58]\tvalidation_0-auc:0.91863\n",
      "[59]\tvalidation_0-auc:0.91625\n",
      "[60]\tvalidation_0-auc:0.91490\n",
      "[61]\tvalidation_0-auc:0.91396\n",
      "[62]\tvalidation_0-auc:0.91325\n",
      "[63]\tvalidation_0-auc:0.91482\n",
      "[64]\tvalidation_0-auc:0.91290\n",
      "[65]\tvalidation_0-auc:0.91160\n",
      "[66]\tvalidation_0-auc:0.90993\n",
      "[67]\tvalidation_0-auc:0.90932\n",
      "[68]\tvalidation_0-auc:0.91097\n",
      "[69]\tvalidation_0-auc:0.91028\n",
      "[70]\tvalidation_0-auc:0.91026\n",
      "[71]\tvalidation_0-auc:0.91094\n",
      "[72]\tvalidation_0-auc:0.91099\n",
      "[73]\tvalidation_0-auc:0.90980\n",
      "[74]\tvalidation_0-auc:0.91170\n",
      "[75]\tvalidation_0-auc:0.91168\n",
      "[76]\tvalidation_0-auc:0.91274\n",
      "[77]\tvalidation_0-auc:0.91381\n",
      "[78]\tvalidation_0-auc:0.91452\n",
      "[79]\tvalidation_0-auc:0.91391\n",
      "[80]\tvalidation_0-auc:0.91358\n",
      "[81]\tvalidation_0-auc:0.91358\n",
      "[82]\tvalidation_0-auc:0.91432\n",
      "[83]\tvalidation_0-auc:0.91378\n",
      "[84]\tvalidation_0-auc:0.91523\n",
      "[85]\tvalidation_0-auc:0.91434\n",
      "[86]\tvalidation_0-auc:0.91518\n",
      "[87]\tvalidation_0-auc:0.91734\n",
      "[88]\tvalidation_0-auc:0.91777\n",
      "[89]\tvalidation_0-auc:0.91683\n",
      "[90]\tvalidation_0-auc:0.91617\n",
      "[91]\tvalidation_0-auc:0.91452\n",
      "[92]\tvalidation_0-auc:0.91536\n",
      "[93]\tvalidation_0-auc:0.91592\n",
      "[94]\tvalidation_0-auc:0.91734\n",
      "[95]\tvalidation_0-auc:0.91647\n",
      "[96]\tvalidation_0-auc:0.91688\n",
      "[97]\tvalidation_0-auc:0.91787\n",
      "[98]\tvalidation_0-auc:0.91830\n",
      "[99]\tvalidation_0-auc:0.91848\n",
      "[0]\tvalidation_0-auc:0.64045\n",
      "[1]\tvalidation_0-auc:0.64342\n",
      "[2]\tvalidation_0-auc:0.60776\n",
      "[3]\tvalidation_0-auc:0.57888\n",
      "[4]\tvalidation_0-auc:0.55075\n",
      "[5]\tvalidation_0-auc:0.57932\n",
      "[6]\tvalidation_0-auc:0.58577\n",
      "[7]\tvalidation_0-auc:0.60276\n",
      "[8]\tvalidation_0-auc:0.59034\n",
      "[9]\tvalidation_0-auc:0.60506\n",
      "[10]\tvalidation_0-auc:0.60884\n",
      "[11]\tvalidation_0-auc:0.61639\n",
      "[12]\tvalidation_0-auc:0.60599\n",
      "[13]\tvalidation_0-auc:0.61446\n",
      "[14]\tvalidation_0-auc:0.62106\n",
      "[15]\tvalidation_0-auc:0.61835\n",
      "[16]\tvalidation_0-auc:0.62203\n",
      "[17]\tvalidation_0-auc:0.62454\n",
      "[18]\tvalidation_0-auc:0.62340\n",
      "[19]\tvalidation_0-auc:0.62591\n",
      "[20]\tvalidation_0-auc:0.63762\n",
      "[21]\tvalidation_0-auc:0.64836\n",
      "[22]\tvalidation_0-auc:0.64097\n",
      "[23]\tvalidation_0-auc:0.63635\n",
      "[24]\tvalidation_0-auc:0.63719\n",
      "[25]\tvalidation_0-auc:0.64044\n",
      "[26]\tvalidation_0-auc:0.64369\n",
      "[27]\tvalidation_0-auc:0.64554\n",
      "[28]\tvalidation_0-auc:0.64965\n",
      "[29]\tvalidation_0-auc:0.64932\n",
      "[30]\tvalidation_0-auc:0.65630\n",
      "[31]\tvalidation_0-auc:0.65610\n",
      "[32]\tvalidation_0-auc:0.65141\n",
      "[33]\tvalidation_0-auc:0.65125\n",
      "[34]\tvalidation_0-auc:0.64993\n",
      "[35]\tvalidation_0-auc:0.64909\n",
      "[36]\tvalidation_0-auc:0.65257\n",
      "[37]\tvalidation_0-auc:0.65102\n",
      "[38]\tvalidation_0-auc:0.64998\n",
      "[39]\tvalidation_0-auc:0.64978\n",
      "[40]\tvalidation_0-auc:0.65415\n",
      "[41]\tvalidation_0-auc:0.65141\n",
      "[42]\tvalidation_0-auc:0.64950\n",
      "[43]\tvalidation_0-auc:0.64709\n",
      "[44]\tvalidation_0-auc:0.64338\n",
      "[45]\tvalidation_0-auc:0.64450\n",
      "[46]\tvalidation_0-auc:0.64432\n",
      "[47]\tvalidation_0-auc:0.64694\n",
      "[48]\tvalidation_0-auc:0.64468\n",
      "[49]\tvalidation_0-auc:0.64478\n",
      "[50]\tvalidation_0-auc:0.64541\n",
      "[51]\tvalidation_0-auc:0.64765\n",
      "[52]\tvalidation_0-auc:0.64897\n",
      "[53]\tvalidation_0-auc:0.65250\n",
      "[54]\tvalidation_0-auc:0.65605\n",
      "[55]\tvalidation_0-auc:0.65864\n",
      "[56]\tvalidation_0-auc:0.65816\n",
      "[57]\tvalidation_0-auc:0.66100\n",
      "[58]\tvalidation_0-auc:0.66336\n",
      "[59]\tvalidation_0-auc:0.66356\n",
      "[60]\tvalidation_0-auc:0.66502\n",
      "[61]\tvalidation_0-auc:0.66595\n",
      "[62]\tvalidation_0-auc:0.66612\n",
      "[63]\tvalidation_0-auc:0.66765\n",
      "[64]\tvalidation_0-auc:0.66498\n",
      "[65]\tvalidation_0-auc:0.66734\n",
      "[66]\tvalidation_0-auc:0.66986\n",
      "[67]\tvalidation_0-auc:0.66945\n",
      "[68]\tvalidation_0-auc:0.67016\n",
      "[69]\tvalidation_0-auc:0.66950\n",
      "[70]\tvalidation_0-auc:0.66874\n",
      "[71]\tvalidation_0-auc:0.66914\n",
      "[72]\tvalidation_0-auc:0.66861\n",
      "[73]\tvalidation_0-auc:0.67014\n",
      "[74]\tvalidation_0-auc:0.67252\n",
      "[75]\tvalidation_0-auc:0.67196\n",
      "[76]\tvalidation_0-auc:0.67059\n",
      "[77]\tvalidation_0-auc:0.66937\n",
      "[78]\tvalidation_0-auc:0.66943\n",
      "[79]\tvalidation_0-auc:0.67186\n",
      "[80]\tvalidation_0-auc:0.67178\n",
      "[81]\tvalidation_0-auc:0.66948\n",
      "[82]\tvalidation_0-auc:0.66988\n",
      "[83]\tvalidation_0-auc:0.67003\n",
      "[84]\tvalidation_0-auc:0.67034\n",
      "[85]\tvalidation_0-auc:0.66877\n",
      "[86]\tvalidation_0-auc:0.66940\n",
      "[87]\tvalidation_0-auc:0.66935\n",
      "[88]\tvalidation_0-auc:0.67031\n",
      "[89]\tvalidation_0-auc:0.67171\n",
      "[90]\tvalidation_0-auc:0.67171\n",
      "[91]\tvalidation_0-auc:0.67278\n",
      "[92]\tvalidation_0-auc:0.67080\n",
      "[93]\tvalidation_0-auc:0.66909\n",
      "[94]\tvalidation_0-auc:0.66838\n",
      "[95]\tvalidation_0-auc:0.66737\n",
      "[96]\tvalidation_0-auc:0.67003\n",
      "[97]\tvalidation_0-auc:0.67107\n",
      "[98]\tvalidation_0-auc:0.67156\n",
      "[99]\tvalidation_0-auc:0.67300\n",
      "[0]\tvalidation_0-auc:0.66703\n",
      "[1]\tvalidation_0-auc:0.76032\n",
      "[2]\tvalidation_0-auc:0.73805\n",
      "[3]\tvalidation_0-auc:0.76122\n",
      "[4]\tvalidation_0-auc:0.76256\n",
      "[5]\tvalidation_0-auc:0.77668\n",
      "[6]\tvalidation_0-auc:0.77760\n",
      "[7]\tvalidation_0-auc:0.76183\n",
      "[8]\tvalidation_0-auc:0.77145\n",
      "[9]\tvalidation_0-auc:0.77889\n",
      "[10]\tvalidation_0-auc:0.77752\n",
      "[11]\tvalidation_0-auc:0.78545\n",
      "[12]\tvalidation_0-auc:0.78405\n",
      "[13]\tvalidation_0-auc:0.77606\n",
      "[14]\tvalidation_0-auc:0.78032\n",
      "[15]\tvalidation_0-auc:0.77650\n",
      "[16]\tvalidation_0-auc:0.77215\n",
      "[17]\tvalidation_0-auc:0.77761\n",
      "[18]\tvalidation_0-auc:0.77608\n",
      "[19]\tvalidation_0-auc:0.77088\n",
      "[20]\tvalidation_0-auc:0.77603\n",
      "[21]\tvalidation_0-auc:0.77329\n",
      "[22]\tvalidation_0-auc:0.77850\n",
      "[23]\tvalidation_0-auc:0.77837\n",
      "[24]\tvalidation_0-auc:0.78286\n",
      "[25]\tvalidation_0-auc:0.78289\n",
      "[26]\tvalidation_0-auc:0.78451\n",
      "[27]\tvalidation_0-auc:0.78238\n",
      "[28]\tvalidation_0-auc:0.78921\n",
      "[29]\tvalidation_0-auc:0.78809\n",
      "[30]\tvalidation_0-auc:0.78522\n",
      "[31]\tvalidation_0-auc:0.78818\n",
      "[32]\tvalidation_0-auc:0.79016\n",
      "[33]\tvalidation_0-auc:0.78831\n",
      "[34]\tvalidation_0-auc:0.79331\n",
      "[35]\tvalidation_0-auc:0.79163\n",
      "[36]\tvalidation_0-auc:0.79318\n",
      "[37]\tvalidation_0-auc:0.79363\n",
      "[38]\tvalidation_0-auc:0.79257\n",
      "[39]\tvalidation_0-auc:0.79366\n",
      "[40]\tvalidation_0-auc:0.79615\n",
      "[41]\tvalidation_0-auc:0.79650\n",
      "[42]\tvalidation_0-auc:0.79566\n",
      "[43]\tvalidation_0-auc:0.79534\n",
      "[44]\tvalidation_0-auc:0.79219\n",
      "[45]\tvalidation_0-auc:0.79221\n",
      "[46]\tvalidation_0-auc:0.78899\n",
      "[47]\tvalidation_0-auc:0.78787\n",
      "[48]\tvalidation_0-auc:0.78846\n",
      "[49]\tvalidation_0-auc:0.78965\n"
     ]
    },
    {
     "name": "stdout",
     "output_type": "stream",
     "text": [
      "[50]\tvalidation_0-auc:0.78861\n",
      "[51]\tvalidation_0-auc:0.78676\n",
      "[52]\tvalidation_0-auc:0.78851\n",
      "[53]\tvalidation_0-auc:0.78952\n",
      "[54]\tvalidation_0-auc:0.79018\n",
      "[55]\tvalidation_0-auc:0.78909\n",
      "[56]\tvalidation_0-auc:0.78825\n",
      "[57]\tvalidation_0-auc:0.78790\n",
      "[58]\tvalidation_0-auc:0.78714\n",
      "[59]\tvalidation_0-auc:0.78881\n",
      "[60]\tvalidation_0-auc:0.78924\n",
      "[61]\tvalidation_0-auc:0.78909\n",
      "[62]\tvalidation_0-auc:0.78785\n",
      "[63]\tvalidation_0-auc:0.78688\n",
      "[64]\tvalidation_0-auc:0.78531\n",
      "[65]\tvalidation_0-auc:0.78749\n",
      "[66]\tvalidation_0-auc:0.78671\n",
      "[67]\tvalidation_0-auc:0.78886\n",
      "[68]\tvalidation_0-auc:0.78907\n",
      "[69]\tvalidation_0-auc:0.78897\n",
      "[70]\tvalidation_0-auc:0.79087\n",
      "[71]\tvalidation_0-auc:0.78975\n",
      "[72]\tvalidation_0-auc:0.78833\n",
      "[73]\tvalidation_0-auc:0.78874\n",
      "[74]\tvalidation_0-auc:0.78990\n",
      "[75]\tvalidation_0-auc:0.79069\n",
      "[76]\tvalidation_0-auc:0.79064\n",
      "[77]\tvalidation_0-auc:0.79077\n",
      "[78]\tvalidation_0-auc:0.79102\n",
      "[79]\tvalidation_0-auc:0.79016\n",
      "[80]\tvalidation_0-auc:0.78983\n",
      "[81]\tvalidation_0-auc:0.79087\n",
      "[82]\tvalidation_0-auc:0.79165\n",
      "[83]\tvalidation_0-auc:0.79219\n",
      "[84]\tvalidation_0-auc:0.79115\n",
      "[85]\tvalidation_0-auc:0.79107\n",
      "[86]\tvalidation_0-auc:0.79016\n",
      "[87]\tvalidation_0-auc:0.79031\n",
      "[88]\tvalidation_0-auc:0.79186\n",
      "[89]\tvalidation_0-auc:0.79135\n",
      "[90]\tvalidation_0-auc:0.79039\n",
      "[0]\tvalidation_0-auc:0.71247\n",
      "[1]\tvalidation_0-auc:0.74123\n",
      "[2]\tvalidation_0-auc:0.85169\n",
      "[3]\tvalidation_0-auc:0.82568\n",
      "[4]\tvalidation_0-auc:0.80646\n",
      "[5]\tvalidation_0-auc:0.80504\n",
      "[6]\tvalidation_0-auc:0.79976\n",
      "[7]\tvalidation_0-auc:0.81239\n",
      "[8]\tvalidation_0-auc:0.82933\n",
      "[9]\tvalidation_0-auc:0.84272\n",
      "[10]\tvalidation_0-auc:0.85420\n",
      "[11]\tvalidation_0-auc:0.85910\n",
      "[12]\tvalidation_0-auc:0.85424\n",
      "[13]\tvalidation_0-auc:0.84721\n",
      "[14]\tvalidation_0-auc:0.84413\n",
      "[15]\tvalidation_0-auc:0.85141\n",
      "[16]\tvalidation_0-auc:0.85403\n",
      "[17]\tvalidation_0-auc:0.84742\n",
      "[18]\tvalidation_0-auc:0.84663\n",
      "[19]\tvalidation_0-auc:0.84716\n",
      "[20]\tvalidation_0-auc:0.84459\n",
      "[21]\tvalidation_0-auc:0.85047\n",
      "[22]\tvalidation_0-auc:0.85882\n",
      "[23]\tvalidation_0-auc:0.85621\n",
      "[24]\tvalidation_0-auc:0.85428\n",
      "[25]\tvalidation_0-auc:0.85189\n",
      "[26]\tvalidation_0-auc:0.84981\n",
      "[27]\tvalidation_0-auc:0.84872\n",
      "[28]\tvalidation_0-auc:0.85076\n",
      "[29]\tvalidation_0-auc:0.85630\n",
      "[30]\tvalidation_0-auc:0.85899\n",
      "[31]\tvalidation_0-auc:0.85904\n",
      "[32]\tvalidation_0-auc:0.86224\n",
      "[33]\tvalidation_0-auc:0.85952\n",
      "[34]\tvalidation_0-auc:0.86176\n",
      "[35]\tvalidation_0-auc:0.86208\n",
      "[36]\tvalidation_0-auc:0.86056\n",
      "[37]\tvalidation_0-auc:0.86087\n",
      "[38]\tvalidation_0-auc:0.86297\n",
      "[39]\tvalidation_0-auc:0.86130\n",
      "[40]\tvalidation_0-auc:0.85901\n",
      "[41]\tvalidation_0-auc:0.85904\n",
      "[42]\tvalidation_0-auc:0.86132\n",
      "[43]\tvalidation_0-auc:0.86071\n",
      "[44]\tvalidation_0-auc:0.85983\n",
      "[45]\tvalidation_0-auc:0.86089\n",
      "[46]\tvalidation_0-auc:0.86120\n",
      "[47]\tvalidation_0-auc:0.85998\n",
      "[48]\tvalidation_0-auc:0.86254\n",
      "[49]\tvalidation_0-auc:0.86310\n",
      "[50]\tvalidation_0-auc:0.86140\n",
      "[51]\tvalidation_0-auc:0.85962\n",
      "[52]\tvalidation_0-auc:0.85881\n",
      "[53]\tvalidation_0-auc:0.85747\n",
      "[54]\tvalidation_0-auc:0.85678\n",
      "[55]\tvalidation_0-auc:0.85701\n",
      "[56]\tvalidation_0-auc:0.85521\n",
      "[57]\tvalidation_0-auc:0.85465\n",
      "[58]\tvalidation_0-auc:0.85208\n",
      "[59]\tvalidation_0-auc:0.85396\n",
      "[60]\tvalidation_0-auc:0.85549\n",
      "[61]\tvalidation_0-auc:0.85774\n",
      "[62]\tvalidation_0-auc:0.85774\n",
      "[63]\tvalidation_0-auc:0.86008\n",
      "[64]\tvalidation_0-auc:0.86323\n",
      "[65]\tvalidation_0-auc:0.86384\n",
      "[66]\tvalidation_0-auc:0.86564\n",
      "[67]\tvalidation_0-auc:0.86630\n",
      "[68]\tvalidation_0-auc:0.86759\n",
      "[69]\tvalidation_0-auc:0.86830\n",
      "[70]\tvalidation_0-auc:0.86889\n",
      "[71]\tvalidation_0-auc:0.86937\n",
      "[72]\tvalidation_0-auc:0.86810\n",
      "[73]\tvalidation_0-auc:0.86686\n",
      "[74]\tvalidation_0-auc:0.86683\n",
      "[75]\tvalidation_0-auc:0.86772\n",
      "[76]\tvalidation_0-auc:0.86876\n",
      "[77]\tvalidation_0-auc:0.86937\n",
      "[78]\tvalidation_0-auc:0.86764\n",
      "[79]\tvalidation_0-auc:0.86945\n",
      "[80]\tvalidation_0-auc:0.86759\n",
      "[81]\tvalidation_0-auc:0.86630\n",
      "[82]\tvalidation_0-auc:0.86660\n",
      "[83]\tvalidation_0-auc:0.86561\n",
      "[84]\tvalidation_0-auc:0.86594\n",
      "[85]\tvalidation_0-auc:0.86792\n",
      "[86]\tvalidation_0-auc:0.86833\n",
      "[87]\tvalidation_0-auc:0.86851\n",
      "[88]\tvalidation_0-auc:0.86807\n",
      "[89]\tvalidation_0-auc:0.86721\n",
      "[90]\tvalidation_0-auc:0.86673\n",
      "[91]\tvalidation_0-auc:0.86676\n",
      "[92]\tvalidation_0-auc:0.86665\n",
      "[93]\tvalidation_0-auc:0.86655\n",
      "[94]\tvalidation_0-auc:0.86604\n",
      "[95]\tvalidation_0-auc:0.86505\n",
      "[96]\tvalidation_0-auc:0.86526\n",
      "[97]\tvalidation_0-auc:0.86511\n",
      "[98]\tvalidation_0-auc:0.86536\n",
      "[99]\tvalidation_0-auc:0.86650\n",
      "[0]\tvalidation_0-auc:0.69420\n",
      "[1]\tvalidation_0-auc:0.71241\n",
      "[2]\tvalidation_0-auc:0.77320\n",
      "[3]\tvalidation_0-auc:0.78514\n",
      "[4]\tvalidation_0-auc:0.83794\n",
      "[5]\tvalidation_0-auc:0.85474\n",
      "[6]\tvalidation_0-auc:0.85645\n",
      "[7]\tvalidation_0-auc:0.86721\n",
      "[8]\tvalidation_0-auc:0.87433\n",
      "[9]\tvalidation_0-auc:0.87771\n",
      "[10]\tvalidation_0-auc:0.87385\n",
      "[11]\tvalidation_0-auc:0.87493\n",
      "[12]\tvalidation_0-auc:0.87694\n",
      "[13]\tvalidation_0-auc:0.87698\n",
      "[14]\tvalidation_0-auc:0.88036\n",
      "[15]\tvalidation_0-auc:0.87923\n",
      "[16]\tvalidation_0-auc:0.87974\n",
      "[17]\tvalidation_0-auc:0.88106\n",
      "[18]\tvalidation_0-auc:0.88286\n",
      "[19]\tvalidation_0-auc:0.87995\n",
      "[20]\tvalidation_0-auc:0.88429\n",
      "[21]\tvalidation_0-auc:0.88441\n",
      "[22]\tvalidation_0-auc:0.88413\n",
      "[23]\tvalidation_0-auc:0.88198\n",
      "[24]\tvalidation_0-auc:0.88726\n",
      "[25]\tvalidation_0-auc:0.88484\n",
      "[26]\tvalidation_0-auc:0.88358\n",
      "[27]\tvalidation_0-auc:0.88526\n",
      "[28]\tvalidation_0-auc:0.88391\n",
      "[29]\tvalidation_0-auc:0.88142\n",
      "[30]\tvalidation_0-auc:0.88351\n",
      "[31]\tvalidation_0-auc:0.88533\n",
      "[32]\tvalidation_0-auc:0.88703\n",
      "[33]\tvalidation_0-auc:0.88800\n",
      "[34]\tvalidation_0-auc:0.88947\n",
      "[35]\tvalidation_0-auc:0.88777\n",
      "[36]\tvalidation_0-auc:0.88731\n",
      "[37]\tvalidation_0-auc:0.88480\n",
      "[38]\tvalidation_0-auc:0.88642\n",
      "[39]\tvalidation_0-auc:0.88622\n",
      "[40]\tvalidation_0-auc:0.88810\n",
      "[41]\tvalidation_0-auc:0.88967\n",
      "[42]\tvalidation_0-auc:0.89084\n",
      "[43]\tvalidation_0-auc:0.89203\n",
      "[44]\tvalidation_0-auc:0.89424\n",
      "[45]\tvalidation_0-auc:0.89904\n",
      "[46]\tvalidation_0-auc:0.89962\n",
      "[47]\tvalidation_0-auc:0.89886\n",
      "[48]\tvalidation_0-auc:0.90076\n",
      "[49]\tvalidation_0-auc:0.90206\n",
      "[50]\tvalidation_0-auc:0.90290\n",
      "[51]\tvalidation_0-auc:0.90307\n",
      "[52]\tvalidation_0-auc:0.90401\n",
      "[53]\tvalidation_0-auc:0.90513\n",
      "[54]\tvalidation_0-auc:0.90592\n",
      "[55]\tvalidation_0-auc:0.90653\n",
      "[56]\tvalidation_0-auc:0.90488\n",
      "[57]\tvalidation_0-auc:0.90556\n",
      "[58]\tvalidation_0-auc:0.90518\n",
      "[59]\tvalidation_0-auc:0.90317\n",
      "[60]\tvalidation_0-auc:0.90416\n",
      "[61]\tvalidation_0-auc:0.90348\n",
      "[62]\tvalidation_0-auc:0.90439\n",
      "[63]\tvalidation_0-auc:0.90523\n",
      "[64]\tvalidation_0-auc:0.90482\n",
      "[65]\tvalidation_0-auc:0.90513\n",
      "[66]\tvalidation_0-auc:0.90391\n",
      "[67]\tvalidation_0-auc:0.90300\n",
      "[68]\tvalidation_0-auc:0.90328\n",
      "[69]\tvalidation_0-auc:0.90510\n",
      "[70]\tvalidation_0-auc:0.90455\n",
      "[71]\tvalidation_0-auc:0.90165\n",
      "[72]\tvalidation_0-auc:0.90213\n",
      "[73]\tvalidation_0-auc:0.90122\n",
      "[74]\tvalidation_0-auc:0.90094\n",
      "[75]\tvalidation_0-auc:0.90013\n",
      "[76]\tvalidation_0-auc:0.90097\n",
      "[77]\tvalidation_0-auc:0.90241\n",
      "[78]\tvalidation_0-auc:0.90330\n",
      "[79]\tvalidation_0-auc:0.90259\n",
      "[80]\tvalidation_0-auc:0.90145\n",
      "[81]\tvalidation_0-auc:0.90224\n",
      "[82]\tvalidation_0-auc:0.90348\n",
      "[83]\tvalidation_0-auc:0.90406\n",
      "[84]\tvalidation_0-auc:0.90480\n",
      "[85]\tvalidation_0-auc:0.90523\n",
      "[86]\tvalidation_0-auc:0.90642\n",
      "[87]\tvalidation_0-auc:0.90693\n",
      "[88]\tvalidation_0-auc:0.90683\n",
      "[89]\tvalidation_0-auc:0.90546\n",
      "[90]\tvalidation_0-auc:0.90500\n",
      "[91]\tvalidation_0-auc:0.90493\n",
      "[92]\tvalidation_0-auc:0.90444\n",
      "[93]\tvalidation_0-auc:0.90485\n",
      "[94]\tvalidation_0-auc:0.90541\n",
      "[95]\tvalidation_0-auc:0.90488\n",
      "[96]\tvalidation_0-auc:0.90594\n",
      "[97]\tvalidation_0-auc:0.90574\n",
      "[98]\tvalidation_0-auc:0.90670\n",
      "[99]\tvalidation_0-auc:0.90713\n"
     ]
    }
   ],
   "source": [
    "pfi_list = pfi_generator(RE_Xlist, RE_ylist,xgb_tune)"
   ]
  },
  {
   "cell_type": "code",
   "execution_count": 157,
   "id": "cba7192d",
   "metadata": {},
   "outputs": [
    {
     "data": {
      "text/html": [
       "<div>\n",
       "<style scoped>\n",
       "    .dataframe tbody tr th:only-of-type {\n",
       "        vertical-align: middle;\n",
       "    }\n",
       "\n",
       "    .dataframe tbody tr th {\n",
       "        vertical-align: top;\n",
       "    }\n",
       "\n",
       "    .dataframe thead th {\n",
       "        text-align: right;\n",
       "    }\n",
       "</style>\n",
       "<table border=\"1\" class=\"dataframe\">\n",
       "  <thead>\n",
       "    <tr style=\"text-align: right;\">\n",
       "      <th></th>\n",
       "      <th>feature</th>\n",
       "      <th>xgb</th>\n",
       "      <th>rus1</th>\n",
       "      <th>rus5</th>\n",
       "      <th>rus10</th>\n",
       "      <th>rus15</th>\n",
       "      <th>iht1</th>\n",
       "      <th>iht5</th>\n",
       "      <th>iht10</th>\n",
       "      <th>iht15</th>\n",
       "    </tr>\n",
       "  </thead>\n",
       "  <tbody>\n",
       "    <tr>\n",
       "      <th>0</th>\n",
       "      <td>LOAN</td>\n",
       "      <td>0.008</td>\n",
       "      <td>0.010</td>\n",
       "      <td>0.005</td>\n",
       "      <td>0.008</td>\n",
       "      <td>0.012</td>\n",
       "      <td>0.011</td>\n",
       "      <td>0.004</td>\n",
       "      <td>0.005</td>\n",
       "      <td>0.011</td>\n",
       "    </tr>\n",
       "    <tr>\n",
       "      <th>1</th>\n",
       "      <td>MORTDUE</td>\n",
       "      <td>0.007</td>\n",
       "      <td>0.006</td>\n",
       "      <td>0.011</td>\n",
       "      <td>0.009</td>\n",
       "      <td>0.015</td>\n",
       "      <td>0.009</td>\n",
       "      <td>0.012</td>\n",
       "      <td>0.007</td>\n",
       "      <td>0.007</td>\n",
       "    </tr>\n",
       "    <tr>\n",
       "      <th>2</th>\n",
       "      <td>VALUE</td>\n",
       "      <td>0.007</td>\n",
       "      <td>0.007</td>\n",
       "      <td>0.007</td>\n",
       "      <td>0.007</td>\n",
       "      <td>0.007</td>\n",
       "      <td>0.011</td>\n",
       "      <td>0.005</td>\n",
       "      <td>0.007</td>\n",
       "      <td>0.004</td>\n",
       "    </tr>\n",
       "    <tr>\n",
       "      <th>3</th>\n",
       "      <td>YOJ</td>\n",
       "      <td>0.008</td>\n",
       "      <td>0.012</td>\n",
       "      <td>0.010</td>\n",
       "      <td>0.007</td>\n",
       "      <td>0.009</td>\n",
       "      <td>0.004</td>\n",
       "      <td>0.008</td>\n",
       "      <td>0.006</td>\n",
       "      <td>0.007</td>\n",
       "    </tr>\n",
       "    <tr>\n",
       "      <th>4</th>\n",
       "      <td>DEROG</td>\n",
       "      <td>0.002</td>\n",
       "      <td>0.001</td>\n",
       "      <td>0.001</td>\n",
       "      <td>0.002</td>\n",
       "      <td>0.002</td>\n",
       "      <td>0.004</td>\n",
       "      <td>0.009</td>\n",
       "      <td>0.006</td>\n",
       "      <td>0.002</td>\n",
       "    </tr>\n",
       "    <tr>\n",
       "      <th>5</th>\n",
       "      <td>DELINQ</td>\n",
       "      <td>0.009</td>\n",
       "      <td>0.021</td>\n",
       "      <td>0.010</td>\n",
       "      <td>0.010</td>\n",
       "      <td>0.021</td>\n",
       "      <td>0.035</td>\n",
       "      <td>0.030</td>\n",
       "      <td>0.015</td>\n",
       "      <td>0.015</td>\n",
       "    </tr>\n",
       "    <tr>\n",
       "      <th>6</th>\n",
       "      <td>CLAGE</td>\n",
       "      <td>0.015</td>\n",
       "      <td>0.013</td>\n",
       "      <td>0.009</td>\n",
       "      <td>0.021</td>\n",
       "      <td>0.033</td>\n",
       "      <td>0.002</td>\n",
       "      <td>0.008</td>\n",
       "      <td>0.012</td>\n",
       "      <td>0.018</td>\n",
       "    </tr>\n",
       "    <tr>\n",
       "      <th>7</th>\n",
       "      <td>NINQ</td>\n",
       "      <td>0.002</td>\n",
       "      <td>0.001</td>\n",
       "      <td>0.002</td>\n",
       "      <td>0.003</td>\n",
       "      <td>0.002</td>\n",
       "      <td>0.013</td>\n",
       "      <td>0.012</td>\n",
       "      <td>0.005</td>\n",
       "      <td>0.002</td>\n",
       "    </tr>\n",
       "    <tr>\n",
       "      <th>8</th>\n",
       "      <td>DEBTINC</td>\n",
       "      <td>0.050</td>\n",
       "      <td>0.084</td>\n",
       "      <td>0.101</td>\n",
       "      <td>0.085</td>\n",
       "      <td>0.071</td>\n",
       "      <td>0.021</td>\n",
       "      <td>0.045</td>\n",
       "      <td>0.058</td>\n",
       "      <td>0.040</td>\n",
       "    </tr>\n",
       "    <tr>\n",
       "      <th>9</th>\n",
       "      <td>REASON</td>\n",
       "      <td>0.001</td>\n",
       "      <td>0.001</td>\n",
       "      <td>0.000</td>\n",
       "      <td>0.001</td>\n",
       "      <td>0.002</td>\n",
       "      <td>0.000</td>\n",
       "      <td>0.001</td>\n",
       "      <td>0.001</td>\n",
       "      <td>0.001</td>\n",
       "    </tr>\n",
       "    <tr>\n",
       "      <th>10</th>\n",
       "      <td>JOB</td>\n",
       "      <td>0.005</td>\n",
       "      <td>0.005</td>\n",
       "      <td>0.002</td>\n",
       "      <td>0.005</td>\n",
       "      <td>0.005</td>\n",
       "      <td>0.000</td>\n",
       "      <td>0.003</td>\n",
       "      <td>0.005</td>\n",
       "      <td>0.004</td>\n",
       "    </tr>\n",
       "  </tbody>\n",
       "</table>\n",
       "</div>"
      ],
      "text/plain": [
       "    feature    xgb   rus1   rus5  rus10  rus15   iht1   iht5  iht10  iht15\n",
       "0      LOAN  0.008  0.010  0.005  0.008  0.012  0.011  0.004  0.005  0.011\n",
       "1   MORTDUE  0.007  0.006  0.011  0.009  0.015  0.009  0.012  0.007  0.007\n",
       "2     VALUE  0.007  0.007  0.007  0.007  0.007  0.011  0.005  0.007  0.004\n",
       "3       YOJ  0.008  0.012  0.010  0.007  0.009  0.004  0.008  0.006  0.007\n",
       "4     DEROG  0.002  0.001  0.001  0.002  0.002  0.004  0.009  0.006  0.002\n",
       "5    DELINQ  0.009  0.021  0.010  0.010  0.021  0.035  0.030  0.015  0.015\n",
       "6     CLAGE  0.015  0.013  0.009  0.021  0.033  0.002  0.008  0.012  0.018\n",
       "7      NINQ  0.002  0.001  0.002  0.003  0.002  0.013  0.012  0.005  0.002\n",
       "8   DEBTINC  0.050  0.084  0.101  0.085  0.071  0.021  0.045  0.058  0.040\n",
       "9    REASON  0.001  0.001  0.000  0.001  0.002  0.000  0.001  0.001  0.001\n",
       "10      JOB  0.005  0.005  0.002  0.005  0.005  0.000  0.003  0.005  0.004"
      ]
     },
     "execution_count": 157,
     "metadata": {},
     "output_type": "execute_result"
    }
   ],
   "source": [
    "#rus1,rus5,rus10,rus15,iht1,iht5,iht10,iht15\n",
    "pfi_importance['rus1'] = pfi_list[0]\n",
    "pfi_importance['rus5'] = pfi_list[1]\n",
    "pfi_importance['rus10'] = pfi_list[2]\n",
    "pfi_importance['rus15'] = pfi_list[3]\n",
    "pfi_importance['iht1'] = pfi_list[4]\n",
    "pfi_importance['iht5'] = pfi_list[5]\n",
    "pfi_importance['iht10'] = pfi_list[6]\n",
    "pfi_importance['iht15'] = pfi_list[7]\n",
    "\n",
    "pfi_importance"
   ]
  },
  {
   "cell_type": "code",
   "execution_count": 156,
   "id": "7a351e89",
   "metadata": {},
   "outputs": [],
   "source": [
    "pfi_importance.to_csv('/kaggle/working/pfi_importance.csv', index = True, encoding = 'utf-8-sig') "
   ]
  },
  {
   "cell_type": "markdown",
   "id": "WAQ4_mXYsVRp",
   "metadata": {
    "id": "WAQ4_mXYsVRp"
   },
   "source": [
    "### 6.2.2 PFI rank correlation"
   ]
  },
  {
   "cell_type": "code",
   "execution_count": 142,
   "id": "74b42a4f",
   "metadata": {},
   "outputs": [
    {
     "name": "stdout",
     "output_type": "stream",
     "text": [
      "         xgb   rus1   rus5  rus10  rus15   iht1   iht5  iht10  iht15\n",
      "xgb    1.000  0.979  0.823  0.950  0.952  0.447  0.462  0.794  0.984\n",
      "rus1   0.979  1.000  0.820  0.910  0.926  0.467  0.433  0.786  0.947\n",
      "rus5   0.823  0.820  1.000  0.876  0.871  0.520  0.651  0.813  0.821\n",
      "rus10  0.950  0.910  0.876  1.000  0.989  0.486  0.547  0.836  0.972\n",
      "rus15  0.952  0.926  0.871  0.989  1.000  0.406  0.488  0.814  0.975\n",
      "iht1   0.447  0.467  0.520  0.486  0.406  1.000  0.747  0.531  0.433\n",
      "iht5   0.462  0.433  0.651  0.547  0.488  0.747  1.000  0.727  0.476\n",
      "iht10  0.794  0.786  0.813  0.836  0.814  0.531  0.727  1.000  0.770\n",
      "iht15  0.984  0.947  0.821  0.972  0.975  0.433  0.476  0.770  1.000\n"
     ]
    }
   ],
   "source": [
    "rank_pfi = pfi_importance.corr(method = 'spearman').round(3)\n",
    "print(rank_pfi)"
   ]
  },
  {
   "cell_type": "code",
   "execution_count": 158,
   "id": "1d1a8413",
   "metadata": {},
   "outputs": [],
   "source": [
    "rank_pfi.to_csv('/kaggle/working/rank_pfi.csv', index = True, encoding = 'utf-8-sig') "
   ]
  },
  {
   "cell_type": "code",
   "execution_count": 145,
   "id": "985e055f",
   "metadata": {},
   "outputs": [
    {
     "data": {
      "image/png": "[encoded data removed]",
      "text/plain": [
       "<Figure size 864x864 with 2 Axes>"
      ]
     },
     "metadata": {
      "needs_background": "light"
     },
     "output_type": "display_data"
    }
   ],
   "source": [
    "f,ax = plt.subplots(figsize=(12, 12))\n",
    "snsfilter = sns.heatmap(pfi_importance.corr(method = 'spearman')[(pfi_importance.corr(method = 'spearman') <= 0.695)],\n",
    "            annot=True);\n"
   ]
  },
  {
   "cell_type": "code",
   "execution_count": null,
   "id": "3a783e0e",
   "metadata": {},
   "outputs": [],
   "source": []
  },
  {
   "cell_type": "markdown",
   "id": "405a4fde",
   "metadata": {},
   "source": [
    "### 6.2.3 PFI feature importance visualisation"
   ]
  },
  {
   "cell_type": "code",
   "execution_count": 146,
   "id": "eaca8ec6",
   "metadata": {},
   "outputs": [
    {
     "data": {
      "text/html": [
       "<div>\n",
       "<style scoped>\n",
       "    .dataframe tbody tr th:only-of-type {\n",
       "        vertical-align: middle;\n",
       "    }\n",
       "\n",
       "    .dataframe tbody tr th {\n",
       "        vertical-align: top;\n",
       "    }\n",
       "\n",
       "    .dataframe thead th {\n",
       "        text-align: right;\n",
       "    }\n",
       "</style>\n",
       "<table border=\"1\" class=\"dataframe\">\n",
       "  <thead>\n",
       "    <tr style=\"text-align: right;\">\n",
       "      <th></th>\n",
       "      <th>feature</th>\n",
       "      <th>xgb</th>\n",
       "      <th>rus1</th>\n",
       "      <th>rus5</th>\n",
       "      <th>rus10</th>\n",
       "      <th>rus15</th>\n",
       "      <th>iht1</th>\n",
       "      <th>iht5</th>\n",
       "      <th>iht10</th>\n",
       "      <th>iht15</th>\n",
       "    </tr>\n",
       "  </thead>\n",
       "  <tbody>\n",
       "    <tr>\n",
       "      <th>8</th>\n",
       "      <td>DEBTINC</td>\n",
       "      <td>0.050</td>\n",
       "      <td>0.084</td>\n",
       "      <td>0.101</td>\n",
       "      <td>0.085</td>\n",
       "      <td>0.071</td>\n",
       "      <td>0.021</td>\n",
       "      <td>0.045</td>\n",
       "      <td>0.058</td>\n",
       "      <td>0.040</td>\n",
       "    </tr>\n",
       "    <tr>\n",
       "      <th>6</th>\n",
       "      <td>CLAGE</td>\n",
       "      <td>0.015</td>\n",
       "      <td>0.013</td>\n",
       "      <td>0.009</td>\n",
       "      <td>0.021</td>\n",
       "      <td>0.033</td>\n",
       "      <td>0.002</td>\n",
       "      <td>0.008</td>\n",
       "      <td>0.012</td>\n",
       "      <td>0.018</td>\n",
       "    </tr>\n",
       "    <tr>\n",
       "      <th>5</th>\n",
       "      <td>DELINQ</td>\n",
       "      <td>0.009</td>\n",
       "      <td>0.021</td>\n",
       "      <td>0.010</td>\n",
       "      <td>0.010</td>\n",
       "      <td>0.021</td>\n",
       "      <td>0.035</td>\n",
       "      <td>0.030</td>\n",
       "      <td>0.015</td>\n",
       "      <td>0.015</td>\n",
       "    </tr>\n",
       "    <tr>\n",
       "      <th>0</th>\n",
       "      <td>LOAN</td>\n",
       "      <td>0.008</td>\n",
       "      <td>0.010</td>\n",
       "      <td>0.005</td>\n",
       "      <td>0.008</td>\n",
       "      <td>0.012</td>\n",
       "      <td>0.011</td>\n",
       "      <td>0.004</td>\n",
       "      <td>0.005</td>\n",
       "      <td>0.011</td>\n",
       "    </tr>\n",
       "    <tr>\n",
       "      <th>3</th>\n",
       "      <td>YOJ</td>\n",
       "      <td>0.008</td>\n",
       "      <td>0.012</td>\n",
       "      <td>0.010</td>\n",
       "      <td>0.007</td>\n",
       "      <td>0.009</td>\n",
       "      <td>0.004</td>\n",
       "      <td>0.008</td>\n",
       "      <td>0.006</td>\n",
       "      <td>0.007</td>\n",
       "    </tr>\n",
       "    <tr>\n",
       "      <th>1</th>\n",
       "      <td>MORTDUE</td>\n",
       "      <td>0.007</td>\n",
       "      <td>0.006</td>\n",
       "      <td>0.011</td>\n",
       "      <td>0.009</td>\n",
       "      <td>0.015</td>\n",
       "      <td>0.009</td>\n",
       "      <td>0.012</td>\n",
       "      <td>0.007</td>\n",
       "      <td>0.007</td>\n",
       "    </tr>\n",
       "    <tr>\n",
       "      <th>2</th>\n",
       "      <td>VALUE</td>\n",
       "      <td>0.007</td>\n",
       "      <td>0.007</td>\n",
       "      <td>0.007</td>\n",
       "      <td>0.007</td>\n",
       "      <td>0.007</td>\n",
       "      <td>0.011</td>\n",
       "      <td>0.005</td>\n",
       "      <td>0.007</td>\n",
       "      <td>0.004</td>\n",
       "    </tr>\n",
       "    <tr>\n",
       "      <th>10</th>\n",
       "      <td>JOB</td>\n",
       "      <td>0.005</td>\n",
       "      <td>0.005</td>\n",
       "      <td>0.002</td>\n",
       "      <td>0.005</td>\n",
       "      <td>0.005</td>\n",
       "      <td>0.000</td>\n",
       "      <td>0.003</td>\n",
       "      <td>0.005</td>\n",
       "      <td>0.004</td>\n",
       "    </tr>\n",
       "    <tr>\n",
       "      <th>4</th>\n",
       "      <td>DEROG</td>\n",
       "      <td>0.002</td>\n",
       "      <td>0.001</td>\n",
       "      <td>0.001</td>\n",
       "      <td>0.002</td>\n",
       "      <td>0.002</td>\n",
       "      <td>0.004</td>\n",
       "      <td>0.009</td>\n",
       "      <td>0.006</td>\n",
       "      <td>0.002</td>\n",
       "    </tr>\n",
       "    <tr>\n",
       "      <th>7</th>\n",
       "      <td>NINQ</td>\n",
       "      <td>0.002</td>\n",
       "      <td>0.001</td>\n",
       "      <td>0.002</td>\n",
       "      <td>0.003</td>\n",
       "      <td>0.002</td>\n",
       "      <td>0.013</td>\n",
       "      <td>0.012</td>\n",
       "      <td>0.005</td>\n",
       "      <td>0.002</td>\n",
       "    </tr>\n",
       "  </tbody>\n",
       "</table>\n",
       "</div>"
      ],
      "text/plain": [
       "    feature    xgb   rus1   rus5  rus10  rus15   iht1   iht5  iht10  iht15\n",
       "8   DEBTINC  0.050  0.084  0.101  0.085  0.071  0.021  0.045  0.058  0.040\n",
       "6     CLAGE  0.015  0.013  0.009  0.021  0.033  0.002  0.008  0.012  0.018\n",
       "5    DELINQ  0.009  0.021  0.010  0.010  0.021  0.035  0.030  0.015  0.015\n",
       "0      LOAN  0.008  0.010  0.005  0.008  0.012  0.011  0.004  0.005  0.011\n",
       "3       YOJ  0.008  0.012  0.010  0.007  0.009  0.004  0.008  0.006  0.007\n",
       "1   MORTDUE  0.007  0.006  0.011  0.009  0.015  0.009  0.012  0.007  0.007\n",
       "2     VALUE  0.007  0.007  0.007  0.007  0.007  0.011  0.005  0.007  0.004\n",
       "10      JOB  0.005  0.005  0.002  0.005  0.005  0.000  0.003  0.005  0.004\n",
       "4     DEROG  0.002  0.001  0.001  0.002  0.002  0.004  0.009  0.006  0.002\n",
       "7      NINQ  0.002  0.001  0.002  0.003  0.002  0.013  0.012  0.005  0.002"
      ]
     },
     "execution_count": 146,
     "metadata": {},
     "output_type": "execute_result"
    }
   ],
   "source": [
    "#select top 10 features for original xgb\n",
    "pfi_top10 = pfi_importance.sort_values(['xgb'], ascending=[False])\n",
    "pfi_top10 = pfi_top10.head(10)\n",
    "pfi_top10"
   ]
  },
  {
   "cell_type": "code",
   "execution_count": 147,
   "id": "d38dc231",
   "metadata": {},
   "outputs": [
    {
     "data": {
      "image/png": "[encoded data removed]",
      "text/plain": [
       "<Figure size 1080x432 with 1 Axes>"
      ]
     },
     "metadata": {
      "needs_background": "light"
     },
     "output_type": "display_data"
    }
   ],
   "source": [
    "#1.aggeragate by approaches\n",
    "#rus under different IR\n",
    "x = pfi_top10['feature'].tolist()\n",
    "xgb_base =pfi_top10['xgb'].tolist()\n",
    "rus_1 =pfi_top10['rus1'].tolist()\n",
    "rus_5 =pfi_top10['rus5'].tolist()\n",
    "rus_10 =pfi_top10['rus10'].tolist()\n",
    "rus_15 =pfi_top10['rus15'].tolist()\n",
    "\n",
    "#plot\n",
    "plt.rcParams['figure.figsize'] = (15 , 6)\n",
    "\n",
    "plt.plot(x, xgb_base, label ='xgb')\n",
    "plt.plot(x, rus_1, '-.', label ='RUS_1')\n",
    "plt.plot(x, rus_5, '-.', label ='RUS_5')\n",
    "plt.plot(x, rus_10, '-.', label ='RUS_10')\n",
    "plt.plot(x, rus_15, '-.', label ='RUS_15')\n",
    "\n",
    "plt.xlabel(\"feature\")\n",
    "plt.ylabel(\"PFI value\")\n",
    "plt.legend()\n",
    "plt.title('RUS PFI value plot under various IR')\n",
    "plt.show()"
   ]
  },
  {
   "cell_type": "code",
   "execution_count": 148,
   "id": "8766c654",
   "metadata": {},
   "outputs": [
    {
     "data": {
      "image/png": "[encoded data removed]",
      "text/plain": [
       "<Figure size 1080x432 with 1 Axes>"
      ]
     },
     "metadata": {
      "needs_background": "light"
     },
     "output_type": "display_data"
    }
   ],
   "source": [
    "#iht under different IR\n",
    "x = pfi_top10['feature'].tolist()\n",
    "xgb_base =pfi_top10['xgb'].tolist()\n",
    "iht_1 =pfi_top10['iht1'].tolist()\n",
    "iht_5 =pfi_top10['iht5'].tolist()\n",
    "iht_10 =pfi_top10['iht10'].tolist()\n",
    "iht_15 =pfi_top10['iht15'].tolist()\n",
    "\n",
    "#plot\n",
    "plt.rcParams['figure.figsize'] = (15 , 6)\n",
    "\n",
    "plt.plot(x, xgb_base, label ='xgb')\n",
    "plt.plot(x, iht_1, '-.', label ='IHT_1')\n",
    "plt.plot(x, iht_5, '-.', label ='IHT_5')\n",
    "plt.plot(x, iht_10, '-.', label ='IHT_10')\n",
    "plt.plot(x, iht_15, '-.', label ='IHT_15')\n",
    "\n",
    "plt.xlabel(\"feature\")\n",
    "plt.ylabel(\"PFI value\")\n",
    "plt.legend()\n",
    "plt.title('IHT PFI value plot under various IR')\n",
    "plt.show()\n"
   ]
  },
  {
   "cell_type": "code",
   "execution_count": 149,
   "id": "929d559a",
   "metadata": {},
   "outputs": [
    {
     "data": {
      "image/png": "[encoded data removed]",
      "text/plain": [
       "<Figure size 1080x432 with 1 Axes>"
      ]
     },
     "metadata": {
      "needs_background": "light"
     },
     "output_type": "display_data"
    }
   ],
   "source": [
    "#aggeragate by ratio\n",
    "#IR=1 under various approaches\n",
    "x = pfi_top10['feature'].tolist()\n",
    "xgb_base =pfi_top10['xgb'].tolist()\n",
    "\n",
    "RUS_1 =pfi_top10['rus1'].tolist()\n",
    "IHT_1 =pfi_top10['iht1'].tolist()\n",
    "\n",
    "#plot\n",
    "plt.rcParams['figure.figsize'] = (15 , 6)\n",
    "\n",
    "plt.plot(x, xgb_base, label ='xgb')\n",
    "plt.plot(x, RUS_1, '-.', label ='RUS_1')\n",
    "plt.plot(x, IHT_1, '-.', label ='IHT_1')\n",
    "\n",
    "\n",
    "plt.xlabel(\"feature\")\n",
    "plt.ylabel(\"PFI value\")\n",
    "plt.legend()\n",
    "plt.title('PFI value plot under IR = 1 using resampling approaches ')\n",
    "plt.show()\n"
   ]
  },
  {
   "cell_type": "code",
   "execution_count": 150,
   "id": "7ae805da",
   "metadata": {},
   "outputs": [
    {
     "data": {
      "image/png": "[encoded data removed]",
      "text/plain": [
       "<Figure size 1080x432 with 1 Axes>"
      ]
     },
     "metadata": {
      "needs_background": "light"
     },
     "output_type": "display_data"
    }
   ],
   "source": [
    "#IR=5 under various approaches\n",
    "x = pfi_top10['feature'].tolist()\n",
    "xgb_base =pfi_top10['xgb'].tolist()\n",
    "\n",
    "RUS_5 =pfi_top10['rus5'].tolist()\n",
    "IHT_5 =pfi_top10['iht5'].tolist()\n",
    "\n",
    "#plot\n",
    "plt.rcParams['figure.figsize'] = (15 , 6)\n",
    "\n",
    "plt.plot(x, xgb_base, label ='xgb')\n",
    "plt.plot(x, RUS_5, '-.', label ='RUS_5')\n",
    "plt.plot(x, IHT_5, '-.', label ='IHT_5')\n",
    "\n",
    "\n",
    "plt.xlabel(\"feature\")\n",
    "plt.ylabel(\"PFI value\")\n",
    "plt.legend()\n",
    "plt.title('PFI value plot under IR = 5 using resampling approaches ')\n",
    "plt.show()\n"
   ]
  },
  {
   "cell_type": "code",
   "execution_count": 151,
   "id": "6a9eeb58",
   "metadata": {},
   "outputs": [
    {
     "data": {
      "image/png": "[encoded data removed]",
      "text/plain": [
       "<Figure size 1080x432 with 1 Axes>"
      ]
     },
     "metadata": {
      "needs_background": "light"
     },
     "output_type": "display_data"
    }
   ],
   "source": [
    "#IR=10 under various approaches\n",
    "x = pfi_top10['feature'].tolist()\n",
    "xgb_base =pfi_top10['xgb'].tolist()\n",
    "\n",
    "RUS_10 =pfi_top10['rus10'].tolist()\n",
    "IHT_10 =pfi_top10['iht10'].tolist()\n",
    "\n",
    "#plot\n",
    "plt.rcParams['figure.figsize'] = (15 , 6)\n",
    "\n",
    "plt.plot(x, xgb_base, label ='xgb')\n",
    "plt.plot(x, RUS_10, '-.', label ='RUS_10')\n",
    "plt.plot(x, IHT_10, '-.', label ='IHT_10')\n",
    "\n",
    "\n",
    "plt.xlabel(\"feature\")\n",
    "plt.ylabel(\"PFI value\")\n",
    "plt.legend()\n",
    "plt.title('PFI value plot under IR = 10 using resampling approaches ')\n",
    "plt.show()\n"
   ]
  },
  {
   "cell_type": "code",
   "execution_count": 152,
   "id": "8f93e554",
   "metadata": {},
   "outputs": [
    {
     "data": {
      "image/png": "[encoded data removed]",
      "text/plain": [
       "<Figure size 1080x432 with 1 Axes>"
      ]
     },
     "metadata": {
      "needs_background": "light"
     },
     "output_type": "display_data"
    }
   ],
   "source": [
    "#IR=15 under various approaches\n",
    "x = pfi_top10['feature'].tolist()\n",
    "xgb_base =pfi_top10['xgb'].tolist()\n",
    "\n",
    "RUS_15 =pfi_top10['rus15'].tolist()\n",
    "IHT_15 =pfi_top10['iht15'].tolist()\n",
    "\n",
    "#plot\n",
    "plt.rcParams['figure.figsize'] = (15 , 6)\n",
    "\n",
    "plt.plot(x, xgb_base, label ='xgb')\n",
    "plt.plot(x, RUS_15, '-.', label ='RUS_15')\n",
    "plt.plot(x, IHT_15, '-.', label ='IHT_15')\n",
    "\n",
    "\n",
    "plt.xlabel(\"feature\")\n",
    "plt.ylabel(\"PFI value\")\n",
    "plt.legend()\n",
    "plt.title('PFI value plot under IR = 15 using resampling approaches ')\n",
    "plt.show()\n"
   ]
  }
 ],
 "metadata": {
  "kernelspec": {
   "display_name": "Python 3 (ipykernel)",
   "language": "python",
   "name": "python3"
  },
  "language_info": {
   "codemirror_mode": {
    "name": "ipython",
    "version": 3
   },
   "file_extension": ".py",
   "mimetype": "text/x-python",
   "name": "python",
   "nbconvert_exporter": "python",
   "pygments_lexer": "ipython3",
   "version": "3.9.7"
  }
 },
 "nbformat": 4,
 "nbformat_minor": 4
}
