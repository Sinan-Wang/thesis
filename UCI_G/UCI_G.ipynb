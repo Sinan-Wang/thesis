{
 "cells": [
  {
   "cell_type": "markdown",
   "id": "a1edef95",
   "metadata": {
    "id": "-lpu1-uj5hJP"
   },
   "source": [
    "# Master thesis - Imbalanced learning and model interpretation in credit scoring"
   ]
  },
  {
   "cell_type": "markdown",
   "id": "Tdnh-6wW5hGU",
   "metadata": {
    "id": "Tdnh-6wW5hGU"
   },
   "source": [
    "620146 Sinan Wang"
   ]
  },
  {
   "cell_type": "markdown",
   "id": "01fab40f",
   "metadata": {
    "id": "Rdo4R5b25hE-"
   },
   "source": [
    "# Table of Contents\n",
    "\n",
    "    1. Load Data and artificial dataset construction\n",
    "       1.1 Load data\n",
    "       1.2 IR inspection\n",
    "       1.3 Artificial dataset Construction\n",
    "    2. Data clean and EDA\n",
    "       2.1 Numerical feature clean and EDA\n",
    "       2.2 Categorical features clean and EDA\n",
    "    3. Splitting data and Feature Engineering\n",
    "       3.1 Split data\n",
    "       3.2 Feature engineer\n",
    "           3.2.1 Standardise numerical variables\n",
    "           3.2.2 Target encoding categorical variables\n",
    "    4. Obtain resampling data\n",
    "    5. Model training\n",
    "       5.1 Random forest\n",
    "       5.2 Neural network\n",
    "       5.3 Logit\n",
    "           5.3.1 Logit training\n",
    "           5.3.2 Apply resampling methods on Logit\n",
    "       5.4 XGBoost\n",
    "           5.4.1 XGBoost training\n",
    "           5.4.2 Apply resampling methods on XGBoost\n",
    "    6. XAI\n",
    "       6.1 Calculate rank correlation threshold with boostrap\n",
    "           6.1.1 SHAP threshold\n",
    "           6.1.2 PFI threshold\n",
    "       6.2 SHAP fearure importance\n",
    "           6.2.1 Calculate SHAP feature importance\n",
    "           6.2.2 SHAP rank correlation\n",
    "           6.2.3 SHAP feature importance visualisation\n",
    "       6.3 PFI\n",
    "           6.3.1 Calculate PFI\n",
    "           6.3.2 PFI rank correlation\n",
    "           6.3.3 PFI feature importance visualisation"
   ]
  },
  {
   "cell_type": "code",
   "execution_count": 1,
   "id": "7b914dc6-81a5-42bf-a4f6-b3e92963bf96",
   "metadata": {},
   "outputs": [],
   "source": [
    "from numba.core.errors import NumbaDeprecationWarning\n",
    "import warnings\n",
    "\n",
    "warnings.simplefilter('ignore', category=NumbaDeprecationWarning)"
   ]
  },
  {
   "cell_type": "code",
   "execution_count": 2,
   "id": "0397afa7",
   "metadata": {
    "id": "0397afa7"
   },
   "outputs": [],
   "source": [
    "# Inspecting dataport libraires\n",
    "import numpy as np\n",
    "import pandas as pd\n",
    "import matplotlib.pyplot as plt\n",
    "import seaborn as sns\n",
    "from category_encoders.target_encoder import TargetEncoder\n",
    "from sklearn.model_selection import train_test_split\n",
    "from sklearn.preprocessing import StandardScaler\n",
    "from sklearn.metrics import f1_score, roc_auc_score\n",
    "from imblearn.metrics import geometric_mean_score\n",
    "from sklearn.model_selection import GridSearchCV\n",
    "from sklearn.linear_model import LogisticRegressionCV\n",
    "from sklearn.ensemble import RandomForestClassifier\n",
    "from sklearn.inspection import permutation_importance\n",
    "from xgboost import XGBClassifier\n",
    "import shap\n",
    "from imblearn.over_sampling import RandomOverSampler\n",
    "from collections import Counter\n",
    "from imblearn.under_sampling import InstanceHardnessThreshold\n",
    "from imblearn.over_sampling import SMOTE\n",
    "from imblearn.over_sampling import BorderlineSMOTE\n",
    "from imblearn.under_sampling import RandomUnderSampler\n",
    "from imblearn.combine import SMOTEENN\n",
    "from imblearn.combine import SMOTETomek\n",
    "from imblearn.under_sampling import NearMiss\n",
    "from imblearn.pipeline import make_pipeline\n",
    "from sklearn import metrics\n",
    "from sklearn.linear_model import LogisticRegressionCV\n",
    "import xgboost as xgb\n",
    "from tensorflow import keras\n",
    "from tensorflow.keras import Input,layers\n",
    "from tensorflow.keras.models import Model\n",
    "from keras.callbacks import EarlyStopping\n",
    "from numpy.random import seed\n",
    "seed(1)\n",
    "import tensorflow\n",
    "tensorflow.random.set_seed(1)\n",
    "\n",
    "\n",
    "%load_ext autoreload\n",
    "%autoreload 2"
   ]
  },
  {
   "cell_type": "markdown",
   "id": "pdlG4UAArnQK",
   "metadata": {
    "id": "pdlG4UAArnQK"
   },
   "source": [
    "# 1. Load Data and artificial dataset construction"
   ]
  },
  {
   "cell_type": "markdown",
   "id": "6cfbf8ce",
   "metadata": {},
   "source": [
    "## 1.1 Load data"
   ]
  },
  {
   "cell_type": "code",
   "execution_count": 3,
   "id": "f6915c71",
   "metadata": {
    "id": "f6915c71"
   },
   "outputs": [
    {
     "name": "stdout",
     "output_type": "stream",
     "text": [
      "(1000, 21)\n",
      "<class 'pandas.core.frame.DataFrame'>\n",
      "RangeIndex: 1000 entries, 0 to 999\n",
      "Data columns (total 21 columns):\n",
      " #   Column                 Non-Null Count  Dtype \n",
      "---  ------                 --------------  ----- \n",
      " 0   existingchecking       1000 non-null   object\n",
      " 1   duration               1000 non-null   int64 \n",
      " 2   credithistory          1000 non-null   object\n",
      " 3   purpose                1000 non-null   object\n",
      " 4   creditamount           1000 non-null   int64 \n",
      " 5   savings                1000 non-null   object\n",
      " 6   employmentsince        1000 non-null   object\n",
      " 7   installmentrate        1000 non-null   int64 \n",
      " 8   statussex              1000 non-null   object\n",
      " 9   otherdebtors           1000 non-null   object\n",
      " 10  residencesince         1000 non-null   int64 \n",
      " 11  property               1000 non-null   object\n",
      " 12  age                    1000 non-null   int64 \n",
      " 13  otherinstallmentplans  1000 non-null   object\n",
      " 14  housing                1000 non-null   object\n",
      " 15  existingcredits        1000 non-null   int64 \n",
      " 16  job                    1000 non-null   object\n",
      " 17  peopleliable           1000 non-null   int64 \n",
      " 18  telephone              1000 non-null   object\n",
      " 19  foreignworker          1000 non-null   object\n",
      " 20  target                 1000 non-null   int64 \n",
      "dtypes: int64(8), object(13)\n",
      "memory usage: 164.2+ KB\n",
      "None\n"
     ]
    }
   ],
   "source": [
    "#read df\n",
    "ucig_ori= pd.read_csv(\"../data/german.data\", \n",
    "                     sep=' ',header=None)\n",
    "\n",
    "#change column names\n",
    "ucig_ori.columns = ['existingchecking', 'duration', 'credithistory', 'purpose', 'creditamount', \n",
    "         'savings', 'employmentsince', 'installmentrate', 'statussex', 'otherdebtors', \n",
    "         'residencesince', 'property', 'age', 'otherinstallmentplans', 'housing', \n",
    "         'existingcredits', 'job', 'peopleliable', 'telephone', 'foreignworker', \n",
    "         'target']\n",
    "\n",
    "print(ucig_ori.shape)\n",
    "print(ucig_ori.info())"
   ]
  },
  {
   "cell_type": "markdown",
   "id": "5c0c411e",
   "metadata": {},
   "source": [
    "## 1.2 IR inspection"
   ]
  },
  {
   "cell_type": "code",
   "execution_count": 4,
   "id": "f62460a5",
   "metadata": {
    "id": "f62460a5",
    "outputId": "ca98a2a2-d519-4ed6-d250-ef6965d2df70"
   },
   "outputs": [
    {
     "data": {
      "text/plain": [
       "0    700\n",
       "1    300\n",
       "Name: target, dtype: int64"
      ]
     },
     "execution_count": 4,
     "metadata": {},
     "output_type": "execute_result"
    }
   ],
   "source": [
    "ucig_ori.target.replace([1,2], [0,1], inplace=True)\n",
    "ucig_ori.target.value_counts()"
   ]
  },
  {
   "cell_type": "code",
   "execution_count": 5,
   "id": "35264ea2",
   "metadata": {},
   "outputs": [
    {
     "name": "stdout",
     "output_type": "stream",
     "text": [
      "The imbalance ratio of the original data set is 2.33\n"
     ]
    }
   ],
   "source": [
    "IR_ori = round(len(ucig_ori.loc[ucig_ori['target'] == 0])/len(ucig_ori.loc[ucig_ori['target'] == 1]),2)\n",
    "print('The imbalance ratio of the original data set is '+ str(IR_ori))"
   ]
  },
  {
   "cell_type": "code",
   "execution_count": 6,
   "id": "cd21f346",
   "metadata": {
    "id": "cd21f346",
    "outputId": "4025dd88-6219-47ff-f38d-92f50540bdbd"
   },
   "outputs": [
    {
     "data": {
      "text/plain": [
       "<AxesSubplot:ylabel='target'>"
      ]
     },
     "execution_count": 6,
     "metadata": {},
     "output_type": "execute_result"
    },
    {
     "data": {
      "image/png": "[encoded data removed]",
      "text/plain": [
       "<Figure size 640x480 with 1 Axes>"
      ]
     },
     "metadata": {},
     "output_type": "display_data"
    }
   ],
   "source": [
    "ucig_ori.target.value_counts().plot.pie(autopct = \"%.2f\")"
   ]
  },
  {
   "cell_type": "markdown",
   "id": "b0eb8a48",
   "metadata": {
    "id": "b0eb8a48"
   },
   "source": [
    "## 1.3 Artificial dataset Construction"
   ]
  },
  {
   "cell_type": "code",
   "execution_count": 7,
   "id": "bf876c5c",
   "metadata": {
    "id": "bf876c5c",
    "outputId": "e15c0e24-ba0c-4010-bb3e-2e63aaac6cbc"
   },
   "outputs": [],
   "source": [
    "minority = ucig_ori[ucig_ori['target']==1]\n",
    "majority = ucig_ori[ucig_ori['target']==0]"
   ]
  },
  {
   "cell_type": "code",
   "execution_count": 8,
   "id": "6231ea3e",
   "metadata": {
    "id": "6231ea3e",
    "outputId": "5f441647-44e0-4f11-eaf5-6478f6739666"
   },
   "outputs": [
    {
     "name": "stdout",
     "output_type": "stream",
     "text": [
      "(35, 21)\n"
     ]
    }
   ],
   "source": [
    "#randomly remove minority class to achieve IR=20\n",
    "np.random.seed(10)\n",
    "remove_n = int(minority.shape[0] - majority.shape[0]/20)\n",
    "drop_indices = np.random.choice(minority.index, remove_n, replace=False)\n",
    "minority_art = minority.drop(drop_indices)\n",
    "print(minority_art.shape)"
   ]
  },
  {
   "cell_type": "code",
   "execution_count": 9,
   "id": "52b908cb",
   "metadata": {
    "id": "52b908cb",
    "outputId": "7243fd35-0298-4340-abd6-bbfa59f6e598"
   },
   "outputs": [
    {
     "name": "stdout",
     "output_type": "stream",
     "text": [
      "(735, 21)\n",
      "0    700\n",
      "1     35\n",
      "Name: target, dtype: int64\n",
      "The imbalance ratio of artificial data set is 20.0\n"
     ]
    }
   ],
   "source": [
    "#obtain constructed artifical data set\n",
    "ucig = pd.concat([majority, minority_art])\n",
    "IR_art = round(len(ucig.loc[ucig['target'] == 0])/len(ucig.loc[ucig['target'] == 1]),2)\n",
    "\n",
    "print(ucig.shape)\n",
    "print(ucig.target.value_counts())\n",
    "print('The imbalance ratio of artificial data set is '+ str(IR_art))"
   ]
  },
  {
   "cell_type": "markdown",
   "id": "044db13d",
   "metadata": {
    "id": "044db13d"
   },
   "source": [
    "# 2. Data clean and EDA"
   ]
  },
  {
   "cell_type": "markdown",
   "id": "d88f0e17",
   "metadata": {
    "id": "d88f0e17"
   },
   "source": [
    "## 2.1 Numerical feature clean and EDA"
   ]
  },
  {
   "cell_type": "code",
   "execution_count": 10,
   "id": "1224b97a",
   "metadata": {
    "id": "1224b97a"
   },
   "outputs": [
    {
     "name": "stdout",
     "output_type": "stream",
     "text": [
      "<class 'pandas.core.frame.DataFrame'>\n",
      "Int64Index: 735 entries, 0 to 979\n",
      "Data columns (total 7 columns):\n",
      " #   Column           Non-Null Count  Dtype\n",
      "---  ------           --------------  -----\n",
      " 0   creditamount     735 non-null    int64\n",
      " 1   duration         735 non-null    int64\n",
      " 2   installmentrate  735 non-null    int64\n",
      " 3   residencesince   735 non-null    int64\n",
      " 4   age              735 non-null    int64\n",
      " 5   existingcredits  735 non-null    int64\n",
      " 6   peopleliable     735 non-null    int64\n",
      "dtypes: int64(7)\n",
      "memory usage: 45.9 KB\n"
     ]
    }
   ],
   "source": [
    "numvars = ['creditamount', 'duration', 'installmentrate', 'residencesince', 'age', \n",
    "           'existingcredits', 'peopleliable']\n",
    "ucig[numvars].info()"
   ]
  },
  {
   "cell_type": "markdown",
   "id": "36488256",
   "metadata": {
    "id": "36488256"
   },
   "source": [
    "### Check the missing values"
   ]
  },
  {
   "cell_type": "code",
   "execution_count": 11,
   "id": "5aedfb9a",
   "metadata": {
    "id": "5aedfb9a",
    "outputId": "404f9c9b-2197-41b2-a498-579091b816d1"
   },
   "outputs": [
    {
     "name": "stdout",
     "output_type": "stream",
     "text": [
      "creditamount       0\n",
      "duration           0\n",
      "installmentrate    0\n",
      "residencesince     0\n",
      "age                0\n",
      "existingcredits    0\n",
      "peopleliable       0\n",
      "dtype: int64\n"
     ]
    }
   ],
   "source": [
    "print(ucig[numvars].isnull().sum() )"
   ]
  },
  {
   "cell_type": "markdown",
   "id": "2f88f3ad",
   "metadata": {
    "id": "2f88f3ad"
   },
   "source": [
    "### EDA"
   ]
  },
  {
   "cell_type": "code",
   "execution_count": 12,
   "id": "4d09787d",
   "metadata": {
    "id": "4d09787d",
    "outputId": "6deea921-ef74-47fa-989d-2d95c3b21aed"
   },
   "outputs": [
    {
     "data": {
      "image/png": "[encoded data removed]",
      "text/plain": [
       "<Figure size 1200x600 with 7 Axes>"
      ]
     },
     "metadata": {},
     "output_type": "display_data"
    }
   ],
   "source": [
    "#check the distribution and outliers\n",
    "plt.rcParams[\"figure.figsize\"] = (12,6)\n",
    "num_vars = ucig[numvars]\n",
    "num_vars.plot(kind = 'box', subplots=True);"
   ]
  },
  {
   "cell_type": "code",
   "execution_count": 13,
   "id": "ac54873b",
   "metadata": {
    "id": "ac54873b",
    "outputId": "080936ef-487d-4278-a23f-621e33ad592d"
   },
   "outputs": [
    {
     "data": {
      "image/png": "[encoded data removed]",
      "text/plain": [
       "<Figure size 1200x600 with 9 Axes>"
      ]
     },
     "metadata": {},
     "output_type": "display_data"
    }
   ],
   "source": [
    "ucig[numvars].hist(bins=20);"
   ]
  },
  {
   "cell_type": "markdown",
   "id": "ec7fac2a",
   "metadata": {
    "id": "ec7fac2a"
   },
   "source": [
    "### Check the correlation"
   ]
  },
  {
   "cell_type": "code",
   "execution_count": 14,
   "id": "2d1ceb5d",
   "metadata": {
    "id": "2d1ceb5d"
   },
   "outputs": [],
   "source": [
    "all_num = ['creditamount', 'duration', 'installmentrate', 'residencesince', 'age', \n",
    "           'existingcredits', 'peopleliable', 'target']"
   ]
  },
  {
   "cell_type": "code",
   "execution_count": 15,
   "id": "b3c8a681",
   "metadata": {
    "id": "b3c8a681",
    "outputId": "926a9fc3-f69c-4bd0-df1d-041df5b28392"
   },
   "outputs": [
    {
     "data": {
      "image/png": "[encoded data removed]",
      "text/plain": [
       "<Figure size 1200x600 with 2 Axes>"
      ]
     },
     "metadata": {},
     "output_type": "display_data"
    }
   ],
   "source": [
    "sns.heatmap(ucig[all_num].corr(),annot=True,linewidth=.5,fmt='1f')\n",
    "plt.title('Correlation Matrix plot of numerical data')\n",
    "plt.show()"
   ]
  },
  {
   "cell_type": "markdown",
   "id": "ec872926",
   "metadata": {
    "id": "ec872926"
   },
   "source": [
    "## 2.2 Categorical features clean and EDA"
   ]
  },
  {
   "cell_type": "code",
   "execution_count": 16,
   "id": "5ffd8dfb",
   "metadata": {
    "id": "5ffd8dfb"
   },
   "outputs": [],
   "source": [
    "catvars = ['existingchecking', 'credithistory', 'purpose', 'savings', 'employmentsince',\n",
    "           'statussex', 'otherdebtors', 'property', 'otherinstallmentplans', 'housing',\n",
    "           'job', 'telephone', 'foreignworker']"
   ]
  },
  {
   "cell_type": "code",
   "execution_count": 17,
   "id": "5346839c",
   "metadata": {
    "id": "5346839c"
   },
   "outputs": [],
   "source": [
    "#change data type\n",
    "ucig[catvars] = ucig[catvars].astype('category') "
   ]
  },
  {
   "cell_type": "markdown",
   "id": "278ce8b1",
   "metadata": {},
   "source": [
    "### Check missing value"
   ]
  },
  {
   "cell_type": "code",
   "execution_count": 18,
   "id": "515281b7",
   "metadata": {
    "id": "515281b7",
    "outputId": "13fc5c17-7f93-47f0-e369-5d23dbc4f7bb"
   },
   "outputs": [
    {
     "name": "stdout",
     "output_type": "stream",
     "text": [
      "existingchecking         0\n",
      "credithistory            0\n",
      "purpose                  0\n",
      "savings                  0\n",
      "employmentsince          0\n",
      "statussex                0\n",
      "otherdebtors             0\n",
      "property                 0\n",
      "otherinstallmentplans    0\n",
      "housing                  0\n",
      "job                      0\n",
      "telephone                0\n",
      "foreignworker            0\n",
      "dtype: int64\n"
     ]
    }
   ],
   "source": [
    "print(ucig[catvars].isnull().sum())"
   ]
  },
  {
   "cell_type": "markdown",
   "id": "3e6bd107",
   "metadata": {
    "id": "3e6bd107"
   },
   "source": [
    "### Check categorical levels and disribution"
   ]
  },
  {
   "cell_type": "code",
   "execution_count": 19,
   "id": "f51ba531",
   "metadata": {
    "id": "f51ba531",
    "outputId": "64424d4b-f34d-472b-8e1e-4f0a63e0d565"
   },
   "outputs": [
    {
     "name": "stdout",
     "output_type": "stream",
     "text": [
      "A14    351\n",
      "A12    178\n",
      "A11    157\n",
      "A13     49\n",
      "Name: existingchecking, dtype: int64\n",
      "A32    381\n",
      "A34    247\n",
      "A33     63\n",
      "A31     24\n",
      "A30     20\n",
      "Name: credithistory, dtype: int64\n",
      "A43     224\n",
      "A40     156\n",
      "A42     128\n",
      "A41      89\n",
      "A49      67\n",
      "A46      32\n",
      "A45      15\n",
      "A44       9\n",
      "A48       8\n",
      "A410      7\n",
      "Name: purpose, dtype: int64\n",
      "A61    409\n",
      "A65    156\n",
      "A62     74\n",
      "A63     53\n",
      "A64     43\n",
      "Name: savings, dtype: int64\n",
      "A73    245\n",
      "A75    199\n",
      "A74    141\n",
      "A72    109\n",
      "A71     41\n",
      "Name: employmentsince, dtype: int64\n",
      "A93    419\n",
      "A92    214\n",
      "A94     70\n",
      "A91     32\n",
      "Name: statussex, dtype: int64\n",
      "A101    668\n",
      "A103     42\n",
      "A102     25\n",
      "Name: otherdebtors, dtype: int64\n",
      "A123    243\n",
      "A121    231\n",
      "A122    167\n",
      "A124     94\n",
      "Name: property, dtype: int64\n",
      "A143    621\n",
      "A141     83\n",
      "A142     31\n",
      "Name: otherinstallmentplans, dtype: int64\n",
      "A152    551\n",
      "A151    116\n",
      "A153     68\n",
      "Name: housing, dtype: int64\n",
      "A173    469\n",
      "A172    146\n",
      "A174    105\n",
      "A171     15\n",
      "Name: job, dtype: int64\n",
      "A191    430\n",
      "A192    305\n",
      "Name: telephone, dtype: int64\n",
      "A201    701\n",
      "A202     34\n",
      "Name: foreignworker, dtype: int64\n"
     ]
    }
   ],
   "source": [
    "for cat in catvars:\n",
    "    print(ucig[cat].value_counts())"
   ]
  },
  {
   "cell_type": "code",
   "execution_count": 20,
   "id": "5d33f2e0",
   "metadata": {
    "id": "5d33f2e0",
    "outputId": "9b5cff5f-b10d-497c-e4dd-4fbdcf2e2f6a"
   },
   "outputs": [
    {
     "data": {
      "image/png": "[encoded data removed]",
      "text/plain": [
       "<Figure size 1200x600 with 1 Axes>"
      ]
     },
     "metadata": {},
     "output_type": "display_data"
    }
   ],
   "source": [
    "purpose = ucig.groupby(['target', 'purpose']).size().reset_index().pivot(columns='target', index='purpose', values=0)\n",
    "purpose.plot(kind='bar', stacked=True);"
   ]
  },
  {
   "cell_type": "code",
   "execution_count": 21,
   "id": "2c67e252",
   "metadata": {
    "id": "2c67e252",
    "outputId": "c07cc934-f537-4b51-a007-bdd1ef531c18"
   },
   "outputs": [
    {
     "data": {
      "image/png": "[encoded data removed]",
      "text/plain": [
       "<Figure size 1200x600 with 1 Axes>"
      ]
     },
     "metadata": {},
     "output_type": "display_data"
    }
   ],
   "source": [
    "job = ucig.groupby(['target', 'job']).size().reset_index().pivot(columns='target', index='job', values=0)\n",
    "job.plot(kind='bar', stacked=True);"
   ]
  },
  {
   "cell_type": "markdown",
   "id": "161c2be1",
   "metadata": {
    "id": "161c2be1"
   },
   "source": [
    "# 3. Splitting data and Feature Engineering"
   ]
  },
  {
   "cell_type": "markdown",
   "id": "2aee7b26",
   "metadata": {},
   "source": [
    "## 3.1 Splitting data"
   ]
  },
  {
   "cell_type": "code",
   "execution_count": 22,
   "id": "eb57994a",
   "metadata": {
    "id": "eb57994a"
   },
   "outputs": [],
   "source": [
    "y = ucig['target']\n",
    "X = ucig.drop(['target'], axis=1)\n",
    "\n",
    "X_train, X_val, y_train, y_val = train_test_split(X,y, test_size=.2,shuffle=True, random_state= 1)"
   ]
  },
  {
   "cell_type": "markdown",
   "id": "5b7bd752",
   "metadata": {
    "id": "5b7bd752"
   },
   "source": [
    "## 3.2 Feature engineer"
   ]
  },
  {
   "cell_type": "markdown",
   "id": "506f6231",
   "metadata": {},
   "source": [
    "### 3.2.1 Standardise numerical variables"
   ]
  },
  {
   "cell_type": "code",
   "execution_count": 23,
   "id": "3ec9367f",
   "metadata": {},
   "outputs": [
    {
     "data": {
      "text/html": [
       "<div>\n",
       "<style scoped>\n",
       "    .dataframe tbody tr th:only-of-type {\n",
       "        vertical-align: middle;\n",
       "    }\n",
       "\n",
       "    .dataframe tbody tr th {\n",
       "        vertical-align: top;\n",
       "    }\n",
       "\n",
       "    .dataframe thead th {\n",
       "        text-align: right;\n",
       "    }\n",
       "</style>\n",
       "<table border=\"1\" class=\"dataframe\">\n",
       "  <thead>\n",
       "    <tr style=\"text-align: right;\">\n",
       "      <th></th>\n",
       "      <th>creditamount</th>\n",
       "      <th>duration</th>\n",
       "      <th>installmentrate</th>\n",
       "      <th>residencesince</th>\n",
       "      <th>age</th>\n",
       "      <th>existingcredits</th>\n",
       "      <th>peopleliable</th>\n",
       "    </tr>\n",
       "  </thead>\n",
       "  <tbody>\n",
       "    <tr>\n",
       "      <th>768</th>\n",
       "      <td>0.260732</td>\n",
       "      <td>-0.644112</td>\n",
       "      <td>-1.717582</td>\n",
       "      <td>1.042085</td>\n",
       "      <td>-0.731002</td>\n",
       "      <td>2.726312</td>\n",
       "      <td>-0.416717</td>\n",
       "    </tr>\n",
       "    <tr>\n",
       "      <th>907</th>\n",
       "      <td>0.299416</td>\n",
       "      <td>1.477174</td>\n",
       "      <td>-0.833996</td>\n",
       "      <td>-0.757463</td>\n",
       "      <td>-0.819608</td>\n",
       "      <td>-0.713755</td>\n",
       "      <td>-0.416717</td>\n",
       "    </tr>\n",
       "    <tr>\n",
       "      <th>219</th>\n",
       "      <td>-0.666454</td>\n",
       "      <td>-0.820886</td>\n",
       "      <td>-0.833996</td>\n",
       "      <td>1.042085</td>\n",
       "      <td>2.458824</td>\n",
       "      <td>-0.713755</td>\n",
       "      <td>-0.416717</td>\n",
       "    </tr>\n",
       "    <tr>\n",
       "      <th>497</th>\n",
       "      <td>-0.575505</td>\n",
       "      <td>0.416531</td>\n",
       "      <td>0.933174</td>\n",
       "      <td>0.142311</td>\n",
       "      <td>0.332273</td>\n",
       "      <td>1.006278</td>\n",
       "      <td>-0.416717</td>\n",
       "    </tr>\n",
       "    <tr>\n",
       "      <th>758</th>\n",
       "      <td>-0.654520</td>\n",
       "      <td>0.416531</td>\n",
       "      <td>-0.833996</td>\n",
       "      <td>-0.757463</td>\n",
       "      <td>-0.465183</td>\n",
       "      <td>-0.713755</td>\n",
       "      <td>-0.416717</td>\n",
       "    </tr>\n",
       "  </tbody>\n",
       "</table>\n",
       "</div>"
      ],
      "text/plain": [
       "     creditamount  duration  installmentrate  residencesince       age  \\\n",
       "768      0.260732 -0.644112        -1.717582        1.042085 -0.731002   \n",
       "907      0.299416  1.477174        -0.833996       -0.757463 -0.819608   \n",
       "219     -0.666454 -0.820886        -0.833996        1.042085  2.458824   \n",
       "497     -0.575505  0.416531         0.933174        0.142311  0.332273   \n",
       "758     -0.654520  0.416531        -0.833996       -0.757463 -0.465183   \n",
       "\n",
       "     existingcredits  peopleliable  \n",
       "768         2.726312     -0.416717  \n",
       "907        -0.713755     -0.416717  \n",
       "219        -0.713755     -0.416717  \n",
       "497         1.006278     -0.416717  \n",
       "758        -0.713755     -0.416717  "
      ]
     },
     "execution_count": 23,
     "metadata": {},
     "output_type": "execute_result"
    }
   ],
   "source": [
    "standard = StandardScaler()\n",
    "\n",
    "X_train_scaled = X_train.copy()\n",
    "X_val_scaled = X_val.copy()\n",
    "\n",
    "X_train_scaled[numvars] = standard.fit_transform(X_train_scaled[numvars])\n",
    "X_val_scaled[numvars] = standard.transform(X_val_scaled[numvars])\n",
    "\n",
    "X_val_scaled[numvars].head()"
   ]
  },
  {
   "cell_type": "markdown",
   "id": "ff97f471",
   "metadata": {
    "id": "ff97f471"
   },
   "source": [
    "### 3.2.2 Target encoding categorical variables"
   ]
  },
  {
   "cell_type": "code",
   "execution_count": 24,
   "id": "ea8aa7a2",
   "metadata": {
    "id": "ea8aa7a2"
   },
   "outputs": [
    {
     "name": "stdout",
     "output_type": "stream",
     "text": [
      "     existingchecking  credithistory   purpose   savings  employmentsince  \\\n",
      "101          0.073826       0.050505  0.021622  0.051829         0.025424   \n",
      "269          0.003571       0.050505  0.021622  0.040000         0.060606   \n",
      "453          0.003571       0.050505  0.043478  0.051829         0.060606   \n",
      "189          0.073826       0.263158  0.030612  0.051829         0.036842   \n",
      "556          0.073826       0.263158  0.073171  0.066667         0.060976   \n",
      "\n",
      "     statussex  otherdebtors  property  otherinstallmentplans   housing  \\\n",
      "101   0.041667      0.046816  0.040404               0.050505  0.081395   \n",
      "269   0.041667      0.046816  0.040404               0.050505  0.036036   \n",
      "453   0.041667      0.046816  0.040404               0.050505  0.036036   \n",
      "189   0.053254      0.046816  0.040404               0.000000  0.036036   \n",
      "556   0.053254      0.046816  0.040404               0.050505  0.036036   \n",
      "\n",
      "          job  telephone  foreignworker  \n",
      "101  0.048128   0.048571       0.046429  \n",
      "269  0.048128   0.048571       0.046429  \n",
      "453  0.081395   0.042017       0.046429  \n",
      "189  0.048128   0.042017       0.046429  \n",
      "556  0.048128   0.048571       0.046429  \n"
     ]
    },
    {
     "name": "stderr",
     "output_type": "stream",
     "text": [
      "Default parameter min_samples_leaf will change in version 2.6.See https://github.com/scikit-learn-contrib/category_encoders/issues/327\n",
      "Default parameter smoothing will change in version 2.6.See https://github.com/scikit-learn-contrib/category_encoders/issues/327\n"
     ]
    }
   ],
   "source": [
    "TE_encoder = TargetEncoder()\n",
    "X_train_te = TE_encoder.fit_transform(X_train[catvars], y_train)\n",
    "X_val_te = TE_encoder.transform(X_val[catvars])\n",
    "print(X_train_te.head())"
   ]
  },
  {
   "cell_type": "code",
   "execution_count": 25,
   "id": "5ab6dfdc",
   "metadata": {
    "id": "5ab6dfdc"
   },
   "outputs": [],
   "source": [
    "#concat\n",
    "X_train_final = pd.concat([X_train_scaled[numvars],X_train_te], axis=1)\n",
    "X_val_final = pd.concat([X_val_scaled[numvars],X_val_te], axis=1)"
   ]
  },
  {
   "cell_type": "markdown",
   "id": "04a2e66f",
   "metadata": {
    "id": "04a2e66f"
   },
   "source": [
    "# 4. Obtain resampling data"
   ]
  },
  {
   "cell_type": "code",
   "execution_count": 26,
   "id": "b810080a",
   "metadata": {},
   "outputs": [],
   "source": [
    "def resampling(ratio=1):\n",
    "    X_data_list = []\n",
    "    y_data_list = []\n",
    "    for single_class in classes:\n",
    "        if single_class == NearMiss:\n",
    "            instance = single_class(sampling_strategy = ratio)\n",
    "            X_data, y_data = instance.fit_resample(X_train_final, y_train.values.ravel())\n",
    "            X_data_list.append(X_data)\n",
    "            y_data_list.append(y_data)\n",
    "            print('{} with {} completed'.format(single_class, ratio))\n",
    "            print('Resampled dataset shape %s' % Counter(y_data))  \n",
    "        else:\n",
    "            instance = single_class(random_state=40, sampling_strategy = ratio)\n",
    "            X_data, y_data = instance.fit_resample(X_train_final, y_train.values.ravel())\n",
    "            X_data_list.append(X_data)\n",
    "            y_data_list.append(y_data)\n",
    "            print('{} with {} completed'.format(single_class, ratio))\n",
    "            print('Resampled dataset shape %s' % Counter(y_data))       \n",
    "    return X_data_list, y_data_list"
   ]
  },
  {
   "cell_type": "code",
   "execution_count": 27,
   "id": "c0109175",
   "metadata": {},
   "outputs": [
    {
     "name": "stdout",
     "output_type": "stream",
     "text": [
      "<class 'imblearn.over_sampling._random_over_sampler.RandomOverSampler'> with 1 completed\n",
      "Resampled dataset shape Counter({0: 561, 1: 561})\n",
      "<class 'imblearn.over_sampling._smote.base.SMOTE'> with 1 completed\n",
      "Resampled dataset shape Counter({0: 561, 1: 561})\n",
      "<class 'imblearn.over_sampling._smote.filter.BorderlineSMOTE'> with 1 completed\n",
      "Resampled dataset shape Counter({0: 561, 1: 561})\n",
      "<class 'imblearn.under_sampling._prototype_selection._random_under_sampler.RandomUnderSampler'> with 1 completed\n",
      "Resampled dataset shape Counter({0: 27, 1: 27})\n",
      "<class 'imblearn.under_sampling._prototype_selection._nearmiss.NearMiss'> with 1 completed\n",
      "Resampled dataset shape Counter({0: 27, 1: 27})\n",
      "<class 'imblearn.under_sampling._prototype_selection._instance_hardness_threshold.InstanceHardnessThreshold'> with 1 completed\n",
      "Resampled dataset shape Counter({0: 135, 1: 27})\n",
      "<class 'imblearn.combine._smote_enn.SMOTEENN'> with 1 completed\n",
      "Resampled dataset shape Counter({1: 520, 0: 418})\n",
      "<class 'imblearn.combine._smote_tomek.SMOTETomek'> with 1 completed\n",
      "Resampled dataset shape Counter({0: 558, 1: 558})\n",
      "8 8\n"
     ]
    }
   ],
   "source": [
    "classes = [RandomOverSampler, SMOTE, BorderlineSMOTE,\n",
    "           RandomUnderSampler, NearMiss, InstanceHardnessThreshold,\n",
    "           SMOTEENN, SMOTETomek]\n",
    "\n",
    "#IR=1\n",
    "X_data_list1, y_data_list1 = resampling(1)\n",
    "\n",
    "print(len(X_data_list1),len(y_data_list1))"
   ]
  },
  {
   "cell_type": "code",
   "execution_count": 28,
   "id": "62502dc8",
   "metadata": {},
   "outputs": [
    {
     "name": "stdout",
     "output_type": "stream",
     "text": [
      "<class 'imblearn.over_sampling._random_over_sampler.RandomOverSampler'> with 0.2 completed\n",
      "Resampled dataset shape Counter({0: 561, 1: 112})\n",
      "<class 'imblearn.over_sampling._smote.base.SMOTE'> with 0.2 completed\n",
      "Resampled dataset shape Counter({0: 561, 1: 112})\n",
      "<class 'imblearn.over_sampling._smote.filter.BorderlineSMOTE'> with 0.2 completed\n",
      "Resampled dataset shape Counter({0: 561, 1: 112})\n",
      "<class 'imblearn.under_sampling._prototype_selection._random_under_sampler.RandomUnderSampler'> with 0.2 completed\n",
      "Resampled dataset shape Counter({0: 135, 1: 27})\n",
      "<class 'imblearn.under_sampling._prototype_selection._nearmiss.NearMiss'> with 0.2 completed\n",
      "Resampled dataset shape Counter({0: 135, 1: 27})\n",
      "<class 'imblearn.under_sampling._prototype_selection._instance_hardness_threshold.InstanceHardnessThreshold'> with 0.2 completed\n",
      "Resampled dataset shape Counter({0: 135, 1: 27})\n",
      "<class 'imblearn.combine._smote_enn.SMOTEENN'> with 0.2 completed\n",
      "Resampled dataset shape Counter({0: 465, 1: 57})\n",
      "<class 'imblearn.combine._smote_tomek.SMOTETomek'> with 0.2 completed\n",
      "Resampled dataset shape Counter({0: 557, 1: 108})\n",
      "8 8\n"
     ]
    }
   ],
   "source": [
    "#IR=5\n",
    "X_data_list2, y_data_list2 = resampling(0.2)\n",
    "\n",
    "print(len(X_data_list2),len(y_data_list2))"
   ]
  },
  {
   "cell_type": "code",
   "execution_count": 29,
   "id": "c091118f",
   "metadata": {},
   "outputs": [
    {
     "name": "stdout",
     "output_type": "stream",
     "text": [
      "<class 'imblearn.over_sampling._random_over_sampler.RandomOverSampler'> with 0.1 completed\n",
      "Resampled dataset shape Counter({0: 561, 1: 56})\n",
      "<class 'imblearn.over_sampling._smote.base.SMOTE'> with 0.1 completed\n",
      "Resampled dataset shape Counter({0: 561, 1: 56})\n",
      "<class 'imblearn.over_sampling._smote.filter.BorderlineSMOTE'> with 0.1 completed\n",
      "Resampled dataset shape Counter({0: 561, 1: 56})\n",
      "<class 'imblearn.under_sampling._prototype_selection._random_under_sampler.RandomUnderSampler'> with 0.1 completed\n",
      "Resampled dataset shape Counter({0: 270, 1: 27})\n",
      "<class 'imblearn.under_sampling._prototype_selection._nearmiss.NearMiss'> with 0.1 completed\n",
      "Resampled dataset shape Counter({0: 270, 1: 27})\n",
      "<class 'imblearn.under_sampling._prototype_selection._instance_hardness_threshold.InstanceHardnessThreshold'> with 0.1 completed\n",
      "Resampled dataset shape Counter({0: 291, 1: 27})\n",
      "<class 'imblearn.combine._smote_enn.SMOTEENN'> with 0.1 completed\n",
      "Resampled dataset shape Counter({0: 484, 1: 9})\n",
      "<class 'imblearn.combine._smote_tomek.SMOTETomek'> with 0.1 completed\n",
      "Resampled dataset shape Counter({0: 549, 1: 44})\n",
      "8 8\n"
     ]
    }
   ],
   "source": [
    "#IR=10\n",
    "X_data_list3, y_data_list3 = resampling(0.1)\n",
    "\n",
    "print(len(X_data_list3),len(y_data_list3))"
   ]
  },
  {
   "cell_type": "code",
   "execution_count": 30,
   "id": "0ce05532",
   "metadata": {},
   "outputs": [
    {
     "name": "stdout",
     "output_type": "stream",
     "text": [
      "<class 'imblearn.over_sampling._random_over_sampler.RandomOverSampler'> with 0.0667 completed\n",
      "Resampled dataset shape Counter({0: 561, 1: 37})\n",
      "<class 'imblearn.over_sampling._smote.base.SMOTE'> with 0.0667 completed\n",
      "Resampled dataset shape Counter({0: 561, 1: 37})\n",
      "<class 'imblearn.over_sampling._smote.filter.BorderlineSMOTE'> with 0.0667 completed\n",
      "Resampled dataset shape Counter({0: 561, 1: 37})\n",
      "<class 'imblearn.under_sampling._prototype_selection._random_under_sampler.RandomUnderSampler'> with 0.0667 completed\n",
      "Resampled dataset shape Counter({0: 404, 1: 27})\n",
      "<class 'imblearn.under_sampling._prototype_selection._nearmiss.NearMiss'> with 0.0667 completed\n",
      "Resampled dataset shape Counter({0: 404, 1: 27})\n",
      "<class 'imblearn.under_sampling._prototype_selection._instance_hardness_threshold.InstanceHardnessThreshold'> with 0.0667 completed\n",
      "Resampled dataset shape Counter({0: 415, 1: 27})\n",
      "<class 'imblearn.combine._smote_enn.SMOTEENN'> with 0.0667 completed\n",
      "Resampled dataset shape Counter({0: 498, 1: 3})\n",
      "<class 'imblearn.combine._smote_tomek.SMOTETomek'> with 0.0667 completed\n",
      "Resampled dataset shape Counter({0: 551, 1: 27})\n",
      "8 8\n"
     ]
    }
   ],
   "source": [
    "#IR=15\n",
    "X_data_list4, y_data_list4 = resampling(0.0667)\n",
    "\n",
    "print(len(X_data_list4),len(y_data_list4))"
   ]
  },
  {
   "cell_type": "markdown",
   "id": "0e8ef789",
   "metadata": {
    "id": "0e8ef789"
   },
   "source": [
    "# 5. Model training"
   ]
  },
  {
   "cell_type": "markdown",
   "id": "679ae57d",
   "metadata": {
    "id": "679ae57d"
   },
   "source": [
    "## 5.1 Random forest"
   ]
  },
  {
   "cell_type": "code",
   "execution_count": 31,
   "id": "6c5b655d",
   "metadata": {
    "id": "6c5b655d",
    "outputId": "23071dd8-8a51-4213-ef17-5fa2d6e32894"
   },
   "outputs": [
    {
     "data": {
      "text/plain": [
       "GridSearchCV(cv=5, estimator=RandomForestClassifier(random_state=0),\n",
       "             param_grid={'max_features': [2, 4, 8],\n",
       "                         'n_estimators': [25, 50, 100]},\n",
       "             scoring='roc_auc')"
      ]
     },
     "execution_count": 31,
     "metadata": {},
     "output_type": "execute_result"
    }
   ],
   "source": [
    "#perform hyper parameter grid search\n",
    "rf = RandomForestClassifier(random_state=0)                      \n",
    "param_grid = {'n_estimators': [25, 50, 100],\n",
    "              'max_features': [2, 4, 8]\n",
    "              }\n",
    "\n",
    "gs_rf = GridSearchCV(rf, param_grid, cv=5, scoring='roc_auc', verbose=0)\n",
    "gs_rf.fit(X_train_final, y_train.values.ravel())                      "
   ]
  },
  {
   "cell_type": "code",
   "execution_count": 32,
   "id": "c5f39699",
   "metadata": {
    "id": "c5f39699",
    "outputId": "a5f3658b-4e79-446e-a07f-2218968af74d"
   },
   "outputs": [
    {
     "name": "stdout",
     "output_type": "stream",
     "text": [
      "Best CV AUC: 0.7887\n",
      "Optimal RF meta-parameters:\n",
      "{'max_features': 2, 'n_estimators': 100}\n",
      "RandomForestClassifier(max_features=2, random_state=0)\n"
     ]
    }
   ],
   "source": [
    "rf_tune = gs_rf.best_estimator_\n",
    "print(\"Best CV AUC: %0.4f\" % gs_rf.best_score_)\n",
    "print(\"Optimal RF meta-parameters:\")\n",
    "print(gs_rf.best_params_)\n",
    "print(rf_tune)"
   ]
  },
  {
   "cell_type": "code",
   "execution_count": null,
   "id": "81264a98",
   "metadata": {
    "id": "81264a98",
    "outputId": "31b53ba1-a6e7-4ded-a3c9-8aa1c16f7737"
   },
   "outputs": [],
   "source": [
    "from function import evaluation\n",
    "AUC_training,AUC_validation, precison, recall, Gmeans, F1, confusion_matrix = evaluation(y_train,X_train_final,y_val,X_val_final,rf_tune)\n",
    "rf_eva = ['RF', AUC_training,AUC_validation, precison, recall, Gmeans, F1]\n",
    "rf_eva"
   ]
  },
  {
   "cell_type": "markdown",
   "id": "59aaa468",
   "metadata": {
    "id": "59aaa468"
   },
   "source": [
    "## 5.2 neural network"
   ]
  },
  {
   "cell_type": "code",
   "execution_count": null,
   "id": "619338e6",
   "metadata": {
    "id": "619338e6",
    "outputId": "83bf7189-b7f9-4a16-873d-5107ca9e05d9"
   },
   "outputs": [],
   "source": [
    "# Define model\n",
    "model = keras.Sequential([ \n",
    "    keras.Input(shape=(X_train_final.shape[1],)),\n",
    "    layers.Dense(16, activation='relu'),\n",
    "    layers.Dense(1, activation = \"sigmoid\")\n",
    "])\n",
    "# Compile model\n",
    "model.compile(optimizer = 'adam',\n",
    "    loss=\"binary_crossentropy\",\n",
    "    metrics = [\"AUC\"]\n",
    ")\n",
    "print(model.summary())\n",
    "\n",
    "early_stopping_monitor = EarlyStopping(\n",
    "    monitor='val_auc',\n",
    "    min_delta=0,\n",
    "    patience=5,\n",
    "    verbose=0,\n",
    "    mode='auto',\n",
    "    baseline=None,\n",
    "    restore_best_weights=True\n",
    ")"
   ]
  },
  {
   "cell_type": "code",
   "execution_count": null,
   "id": "2e13e35e",
   "metadata": {
    "id": "2e13e35e",
    "outputId": "11549f02-e81a-4681-c4b0-b60face8b10d"
   },
   "outputs": [],
   "source": [
    "# Fit the model\n",
    "history = model.fit(X_train_final,\n",
    "                    y_train,\n",
    "                    epochs = 20,\n",
    "                    batch_size = 2,\n",
    "                    validation_data=(X_val_final, y_val),\n",
    "                    callbacks=[early_stopping_monitor])"
   ]
  },
  {
   "cell_type": "code",
   "execution_count": null,
   "id": "6571f911",
   "metadata": {
    "id": "6571f911",
    "outputId": "4aac0ec1-9a0b-4036-d853-17068c8c5e39"
   },
   "outputs": [],
   "source": [
    "from function import evaluation_nn\n",
    "AUC_training,AUC_validation, precison, recall, Gmeans, F1, confusion_matrix = evaluation_nn(y_train,X_train_final,y_val,X_val_final,model)\n",
    "nn_eva = ['NN', AUC_training,AUC_validation, precison, recall, Gmeans, F1]\n",
    "nn_eva"
   ]
  },
  {
   "cell_type": "markdown",
   "id": "e6f68058",
   "metadata": {
    "id": "e6f68058"
   },
   "source": [
    "## 5.3 Logit"
   ]
  },
  {
   "cell_type": "markdown",
   "id": "04b438f4",
   "metadata": {},
   "source": [
    "### 5.3.1 Train logit"
   ]
  },
  {
   "cell_type": "code",
   "execution_count": null,
   "id": "a47207dc",
   "metadata": {
    "id": "a47207dc"
   },
   "outputs": [],
   "source": [
    "#train\n",
    "logit = LogisticRegressionCV(cv=5, random_state=0, max_iter=2000).fit(X_train_final,y_train.values.ravel())"
   ]
  },
  {
   "cell_type": "code",
   "execution_count": null,
   "id": "7bd6e21e",
   "metadata": {
    "id": "7bd6e21e",
    "outputId": "cdcbfa4f-b68e-4e1e-c002-5baa87da21c7"
   },
   "outputs": [],
   "source": [
    "#evaluate\n",
    "AUC_training,AUC_validation, precison, recall, Gmeans, F1, confusion_matrix = evaluation(y_train,X_train_final,y_val,X_val_final,logit)\n",
    "logit_eva = ['logit', AUC_training,AUC_validation, precison, recall, Gmeans, F1]\n",
    "logit_eva"
   ]
  },
  {
   "cell_type": "markdown",
   "id": "60902772",
   "metadata": {},
   "source": [
    "### 5.3.2 Applying resampling methods on logit"
   ]
  },
  {
   "cell_type": "code",
   "execution_count": null,
   "id": "d8d4281b",
   "metadata": {},
   "outputs": [],
   "source": [
    "def logit_resampling(X_data_list, y_data_list):\n",
    "    AUC_training_list = []\n",
    "    AUC_validation_list = []\n",
    "    precision_list = []\n",
    "    recall_list = []\n",
    "    Gmeans_list = []\n",
    "    F1_list = []\n",
    "    confusion_matrix_list = []\n",
    "    for X_data, y_data in zip(X_data_list, y_data_list):\n",
    "        instance_lr = logit.fit(X_data, y_data)\n",
    "        AUC_training,AUC_validation, precison, recall, Gmeans, F1, confusion_matrix = evaluation(y_data,X_data,y_val,X_val_final,instance_lr)\n",
    "        AUC_training_list.append(AUC_training)\n",
    "        AUC_validation_list.append(AUC_validation)\n",
    "        precision_list.append(precison)\n",
    "        recall_list.append(recall)\n",
    "        Gmeans_list.append(Gmeans)\n",
    "        F1_list.append(F1)\n",
    "        confusion_matrix_list.append(confusion_matrix)\n",
    "    print(\"AUC validation:{}\".format(AUC_validation_list))\n",
    "    return AUC_training_list, AUC_validation_list, precision_list, recall_list, Gmeans_list, F1_list, confusion_matrix_list"
   ]
  },
  {
   "cell_type": "code",
   "execution_count": null,
   "id": "1da38198",
   "metadata": {},
   "outputs": [],
   "source": [
    "#IR =1\n",
    "AUC_training_list, AUC_validation_list, precision_list, recall_list, Gmeans_list, F1_list, confusion_matrix_list = logit_resampling(X_data_list1, y_data_list1)\n",
    "\n",
    "approaches = ['RandomOverSampler', 'SMOTE','BorderlineSMOTE',\n",
    "             'RandomUnderSampler', 'NearMiss', 'InstanceHardnessThreshold',\n",
    "             'SMOTEENN', 'SMOTETomek']\n",
    "\n",
    "dic = {'Approaches': approaches, 'AUC_training': AUC_training_list,\n",
    "     'AUC_validation': AUC_validation_list ,'precison': precision_list, \n",
    "     'recall': recall_list, 'Gmeans' : Gmeans_list, 'F1': F1_list}\n",
    "dflog = pd.DataFrame(dic)\n",
    "dflog.loc[len(dflog)] = logit_eva\n",
    "dflog"
   ]
  },
  {
   "cell_type": "code",
   "execution_count": null,
   "id": "2d6973ff",
   "metadata": {},
   "outputs": [],
   "source": [
    "#IR = 5\n",
    "AUC_training_list, AUC_validation_list, precision_list, recall_list, Gmeans_list, F1_list, confusion_matrix_list = logit_resampling(X_data_list2, y_data_list2)\n",
    "\n",
    "approaches = ['RandomOverSampler', 'SMOTE','BorderlineSMOTE',\n",
    "             'RandomUnderSampler', 'NearMiss','InstanceHardnessThreshold',\n",
    "             'SMOTEENN', 'SMOTETomek']\n",
    "\n",
    "dic = {'Approaches': approaches, 'AUC_training': AUC_training_list,\n",
    "     'AUC_validation': AUC_validation_list ,'precison': precision_list, \n",
    "     'recall': recall_list, 'Gmeans' : Gmeans_list, 'F1': F1_list}\n",
    "dflog2 = pd.DataFrame(dic)\n",
    "dflog2.loc[len(dflog2)] = logit_eva\n",
    "dflog2"
   ]
  },
  {
   "cell_type": "code",
   "execution_count": null,
   "id": "872631df",
   "metadata": {},
   "outputs": [],
   "source": [
    "#IR = 10\n",
    "AUC_training_list, AUC_validation_list, precision_list, recall_list, Gmeans_list, F1_list, confusion_matrix_list = logit_resampling(X_data_list3, y_data_list3)\n",
    "\n",
    "approaches = ['RandomOverSampler', 'SMOTE','BorderlineSMOTE',\n",
    "             'RandomUnderSampler', 'NearMiss', 'InstanceHardnessThreshold',\n",
    "             'SMOTEENN', 'SMOTETomek']\n",
    "\n",
    "dic = {'Approaches': approaches, 'AUC_training': AUC_training_list,\n",
    "     'AUC_validation': AUC_validation_list ,'precison': precision_list, \n",
    "     'recall': recall_list, 'Gmeans' : Gmeans_list, 'F1': F1_list}\n",
    "#turn into dataframe\n",
    "dflog3 = pd.DataFrame(dic)\n",
    "dflog3.loc[len(dflog3)] = logit_eva\n",
    "dflog3"
   ]
  },
  {
   "cell_type": "code",
   "execution_count": null,
   "id": "fe6bf818",
   "metadata": {},
   "outputs": [],
   "source": [
    "#IR = 15\n",
    "AUC_training_list, AUC_validation_list, precision_list, recall_list, Gmeans_list, F1_list, confusion_matrix_list = logit_resampling(X_data_list4, y_data_list4)\n",
    "\n",
    "approaches = ['RandomOverSampler', 'SMOTE','BorderlineSMOTE',\n",
    "             'RandomUnderSampler', 'NearMiss', 'InstanceHardnessThreshold',\n",
    "             'SMOTEENN', 'SMOTETomek']\n",
    "\n",
    "dic = {'Approaches': approaches, 'AUC_training': AUC_training_list,\n",
    "     'AUC_validation': AUC_validation_list ,'precison': precision_list, \n",
    "     'recall': recall_list, 'Gmeans' : Gmeans_list, 'F1': F1_list}\n",
    "#turn into dataframe\n",
    "dflog4 = pd.DataFrame(dic)\n",
    "dflog4.loc[len(dflog4)] = logit_eva\n",
    "dflog4"
   ]
  },
  {
   "cell_type": "markdown",
   "id": "j3G2SI8lryJM",
   "metadata": {
    "id": "j3G2SI8lryJM"
   },
   "source": [
    "### Aggregate and output result"
   ]
  },
  {
   "cell_type": "code",
   "execution_count": null,
   "id": "20ec9b76",
   "metadata": {},
   "outputs": [],
   "source": [
    "#aggregate AUC validation\n",
    "dflogit = pd.concat([dflog4.iloc[:,2],dflog3.iloc[:,2],dflog2.iloc[:,2],dflog.iloc[:,2]],axis=1)\n",
    "dflogit.columns = ['1:15', '1:10', '1:5', '1:1']\n",
    "dflogit.index = dflog4.iloc[:,0]\n",
    "dflogit"
   ]
  },
  {
   "cell_type": "code",
   "execution_count": null,
   "id": "932c2f2e",
   "metadata": {},
   "outputs": [],
   "source": [
    "import os\n",
    "path = './result'\n",
    "file_path = path + '/ucig_logit_auc.csv'\n",
    "os.makedirs(path, exist_ok=True)\n",
    "dflogit.to_csv(file_path, index =True, encoding = 'utf-8-sig') "
   ]
  },
  {
   "cell_type": "code",
   "execution_count": null,
   "id": "6f195900",
   "metadata": {},
   "outputs": [],
   "source": [
    "#aggregate gmeans\n",
    "logit_gmeans = pd.concat([dflog4.iloc[:,5],dflog3.iloc[:,5],dflog2.iloc[:,5],dflog.iloc[:,5]],axis=1)\n",
    "logit_gmeans.columns = ['1:15', '1:10', '1:5', '1:1']\n",
    "logit_gmeans.index = dflog4.iloc[:,0]\n",
    "logit_gmeans"
   ]
  },
  {
   "cell_type": "code",
   "execution_count": null,
   "id": "6d889b6b",
   "metadata": {},
   "outputs": [],
   "source": [
    "logit_gmeans.to_csv(path + '/ucig_logit_gmeans.csv', index =True, encoding = 'utf-8-sig') "
   ]
  },
  {
   "cell_type": "code",
   "execution_count": null,
   "id": "e486bc0c",
   "metadata": {},
   "outputs": [],
   "source": [
    "#aggregate fmeasure \n",
    "logit_fmeasure = pd.concat([dflog4.iloc[:,6],dflog3.iloc[:,6],dflog2.iloc[:,6],dflog.iloc[:,6]],axis=1)\n",
    "logit_fmeasure.columns = ['1:15', '1:10', '1:5', '1:1']\n",
    "logit_fmeasure.index = dflog4.iloc[:,0]\n",
    "logit_fmeasure"
   ]
  },
  {
   "cell_type": "code",
   "execution_count": null,
   "id": "e48abb78",
   "metadata": {},
   "outputs": [],
   "source": [
    "logit_fmeasure.to_csv(path + '/ucig_logit_fmeasure.csv', index =True, encoding = 'utf-8-sig') "
   ]
  },
  {
   "cell_type": "markdown",
   "id": "52653b74",
   "metadata": {
    "id": "52653b74"
   },
   "source": [
    "## 5.4 XGBoost"
   ]
  },
  {
   "cell_type": "markdown",
   "id": "ee43e873",
   "metadata": {},
   "source": [
    "### 5.4.1 training XGBoost"
   ]
  },
  {
   "cell_type": "code",
   "execution_count": null,
   "id": "10179770",
   "metadata": {
    "id": "10179770",
    "outputId": "66e88da6-e50b-43b9-980d-9edfc65c4dd5"
   },
   "outputs": [],
   "source": [
    "#perform hyper parameter grid search\n",
    "xgb_param_grid = {\n",
    "    'colsample_bytree': np.linspace(0.1, 0.8, 3), # Subsample ratio of columns when constructing each tree\n",
    "    'n_estimators': [50,75,100],  # Number of gradient boosted trees\n",
    "    'max_depth': [3, 5, 8],   # max depth of decision trees\n",
    "    'learning_rate': np.linspace(0.01, 0.1, 3), #Boosting learning rate\n",
    "    'subsample': np.linspace(0.5, 0.8, 3)}  # Subsample ratio of the training instance\n",
    "\n",
    "gs_xgb = GridSearchCV(estimator=XGBClassifier(use_label_encoder=False, eval_metric ='auc'), \n",
    "                      param_grid=xgb_param_grid, scoring='roc_auc', cv=5, verbose=0)\n",
    "\n",
    "gs_xgb.fit(X_train_final, y_train.values.ravel())\n",
    "xgb_tune = gs_xgb.best_estimator_\n",
    "print(\"Best CV AUC: %0.4f\" % gs_xgb.best_score_)\n",
    "print(\"Optimal XGB meta-parameters:\")\n",
    "print(gs_xgb.best_params_)\n",
    "print(xgb_tune)\n",
    "xgb_tune.fit(X_train_final, y_train.values.ravel())"
   ]
  },
  {
   "cell_type": "code",
   "execution_count": null,
   "id": "ffb322a2",
   "metadata": {},
   "outputs": [],
   "source": [
    "#run this to skip xgb tuning\n",
    "xgb_tune = XGBClassifier(base_score=0.5, booster='gbtree', colsample_bylevel=1,\n",
    "              colsample_bynode=1, colsample_bytree=0.8,\n",
    "              enable_categorical=False, eval_metric='auc', gamma=0, gpu_id=-1,\n",
    "              importance_type=None, interaction_constraints='',\n",
    "              learning_rate=0.1, max_delta_step=0, max_depth=3,\n",
    "              min_child_weight=1, monotone_constraints='()',\n",
    "              n_estimators=50, n_jobs=8, num_parallel_tree=1, predictor='auto',\n",
    "              random_state=0, reg_alpha=0, reg_lambda=1, scale_pos_weight=1,\n",
    "              subsample=0.8, tree_method='exact', use_label_encoder=False,\n",
    "              validate_parameters=1, verbosity=None)\n",
    "\n",
    "xgb_tune.fit(X_train_final, y_train.values.ravel())"
   ]
  },
  {
   "cell_type": "code",
   "execution_count": null,
   "id": "74e4b12e",
   "metadata": {
    "id": "74e4b12e",
    "outputId": "1b997561-ab05-49d9-9fcf-2fb62717f5f9"
   },
   "outputs": [],
   "source": [
    "#evaluate XGBoost\n",
    "AUC_training,AUC_validation, precison, recall, Gmeans, F1, confusion_matrix = evaluation(y_train,X_train_final,y_val,X_val_final,xgb_tune)\n",
    "xgb_eva=['xgb', AUC_training,AUC_validation, precison, recall, Gmeans, F1]\n",
    "xgb_eva"
   ]
  },
  {
   "cell_type": "markdown",
   "id": "89b5cba7",
   "metadata": {
    "id": "89b5cba7"
   },
   "source": [
    "### 5.4.2 Apply resampling methods on  XGBoost"
   ]
  },
  {
   "cell_type": "code",
   "execution_count": null,
   "id": "fd961404",
   "metadata": {},
   "outputs": [],
   "source": [
    "def xgb_resampling(X_data_list, y_data_list):\n",
    "    AUC_training_list = []\n",
    "    AUC_validation_list = []\n",
    "    precision_list = []\n",
    "    recall_list = []\n",
    "    Gmeans_list = []\n",
    "    F1_list = []\n",
    "    confusion_matrix_list = []\n",
    "    for X_data, y_data in zip(X_data_list, y_data_list):\n",
    "        instance_xgb = xgb_tune.fit(X_data, y_data,eval_set=[(X_val_final, y_val)], early_stopping_rounds= 50)\n",
    "        AUC_training,AUC_validation, precison, recall, Gmeans, F1, confusion_matrix = evaluation(y_data,X_data,y_val,X_val_final,xgb_tune)\n",
    "        AUC_training_list.append(AUC_training)\n",
    "        AUC_validation_list.append(AUC_validation)\n",
    "        precision_list.append(precison)\n",
    "        recall_list.append(recall)\n",
    "        Gmeans_list.append(Gmeans)\n",
    "        F1_list.append(F1)\n",
    "        confusion_matrix_list.append(confusion_matrix)\n",
    "       \n",
    "    print(\"AUC validation:{}\".format(AUC_validation_list))\n",
    "    return AUC_training_list, AUC_validation_list, precision_list, recall_list, Gmeans_list, F1_list, confusion_matrix_list"
   ]
  },
  {
   "cell_type": "code",
   "execution_count": null,
   "id": "ff7a81ff",
   "metadata": {},
   "outputs": [],
   "source": [
    "#IR =1\n",
    "AUC_training_list, AUC_validation_list, precision_list, recall_list, Gmeans_list, F1_list, confusion_matrix_list = xgb_resampling(X_data_list1, y_data_list1)\n",
    "\n",
    "approaches = ['RandomOverSampler', 'SMOTE','BorderlineSMOTE',\n",
    "             'RandomUnderSampler', 'NearMiss', 'InstanceHardnessThreshold',\n",
    "             'SMOTEENN', 'SMOTETomek']\n",
    "\n",
    "dic = {'Approaches': approaches, 'AUC_training': AUC_training_list,\n",
    "     'AUC_validation': AUC_validation_list ,'precison': precision_list, \n",
    "     'recall': recall_list, 'Gmeans' : Gmeans_list, 'F1': F1_list}\n",
    "#turn into dataframe\n",
    "dfxgb = pd.DataFrame(dic)\n",
    "dfxgb.loc[len(dfxgb)] = xgb_eva\n",
    "dfxgb"
   ]
  },
  {
   "cell_type": "code",
   "execution_count": null,
   "id": "b849c925",
   "metadata": {},
   "outputs": [],
   "source": [
    "#IR =5\n",
    "AUC_training_list, AUC_validation_list, precision_list, recall_list, Gmeans_list, F1_list, confusion_matrix_list = xgb_resampling(X_data_list2, y_data_list2)\n",
    "\n",
    "approaches = ['RandomOverSampler', 'SMOTE','BorderlineSMOTE',\n",
    "             'RandomUnderSampler', 'NearMiss', 'InstanceHardnessThreshold',\n",
    "             'SMOTEENN', 'SMOTETomek']\n",
    "\n",
    "dic = {'Approaches': approaches, 'AUC_training': AUC_training_list,\n",
    "     'AUC_validation': AUC_validation_list ,'precison': precision_list, \n",
    "     'recall': recall_list, 'Gmeans' : Gmeans_list, 'F1': F1_list}\n",
    "#turn into dataframe\n",
    "dfxgb2 = pd.DataFrame(dic)\n",
    "dfxgb2.loc[len(dfxgb2)] = xgb_eva\n",
    "dfxgb2"
   ]
  },
  {
   "cell_type": "code",
   "execution_count": null,
   "id": "7987c942",
   "metadata": {},
   "outputs": [],
   "source": [
    "#IR =10\n",
    "AUC_training_list, AUC_validation_list, precision_list, recall_list, Gmeans_list, F1_list, confusion_matrix_list = xgb_resampling(X_data_list3, y_data_list3)\n",
    "\n",
    "approaches = ['RandomOverSampler', 'SMOTE','BorderlineSMOTE',\n",
    "             'RandomUnderSampler', 'NearMiss', 'InstanceHardnessThreshold',\n",
    "             'SMOTEENN', 'SMOTETomek']\n",
    "\n",
    "dic = {'Approaches': approaches, 'AUC_training': AUC_training_list,\n",
    "     'AUC_validation': AUC_validation_list ,'precison': precision_list, \n",
    "     'recall': recall_list, 'Gmeans' : Gmeans_list, 'F1': F1_list}\n",
    "#turn into dataframe\n",
    "dfxgb3 = pd.DataFrame(dic)\n",
    "dfxgb3.loc[len(dfxgb3)] = xgb_eva\n",
    "dfxgb3"
   ]
  },
  {
   "cell_type": "code",
   "execution_count": null,
   "id": "ddf89ef4",
   "metadata": {},
   "outputs": [],
   "source": [
    "#IR =15\n",
    "AUC_training_list, AUC_validation_list, precision_list, recall_list, Gmeans_list, F1_list, confusion_matrix_list = xgb_resampling(X_data_list4, y_data_list4)\n",
    "\n",
    "approaches = ['RandomOverSampler', 'SMOTE','BorderlineSMOTE',\n",
    "             'RandomUnderSampler', 'NearMiss', 'InstanceHardnessThreshold',\n",
    "             'SMOTEENN', 'SMOTETomek']\n",
    "\n",
    "dic = {'Approaches': approaches, 'AUC_training': AUC_training_list,\n",
    "     'AUC_validation': AUC_validation_list ,'precison': precision_list, \n",
    "     'recall': recall_list, 'Gmeans' : Gmeans_list, 'F1': F1_list}\n",
    "#turn into dataframe\n",
    "dfxgb4 = pd.DataFrame(dic)\n",
    "dfxgb4.loc[len(dfxgb4)] = xgb_eva\n",
    "dfxgb4"
   ]
  },
  {
   "cell_type": "markdown",
   "id": "by9_lk_Rr_-D",
   "metadata": {
    "id": "by9_lk_Rr_-D"
   },
   "source": [
    "### Aggregate and output results"
   ]
  },
  {
   "cell_type": "code",
   "execution_count": null,
   "id": "fdd02bbd",
   "metadata": {},
   "outputs": [],
   "source": [
    "#aggregate AUC validation\n",
    "dfxgboost = pd.concat([dfxgb4.iloc[:,2],dfxgb3.iloc[:,2],dfxgb2.iloc[:,2],dfxgb.iloc[:,2]],axis=1)\n",
    "dfxgboost.columns = ['1:15', '1:10', '1:5', '1:1']\n",
    "dfxgboost.index = dfxgb4.iloc[:,0]\n",
    "dfxgboost"
   ]
  },
  {
   "cell_type": "code",
   "execution_count": null,
   "id": "62bf5ca3",
   "metadata": {},
   "outputs": [],
   "source": [
    "dfxgboost.to_csv(path + '/ucig_xgb_auc.csv', index = True, encoding = 'utf-8-sig') "
   ]
  },
  {
   "cell_type": "code",
   "execution_count": null,
   "id": "fdff6a44",
   "metadata": {},
   "outputs": [],
   "source": [
    "#aggregate gmeans\n",
    "xgb_gmeans = pd.concat([dfxgb4.iloc[:,5],dfxgb3.iloc[:,5],dfxgb2.iloc[:,5],dfxgb.iloc[:,5]],axis=1)\n",
    "xgb_gmeans.columns = ['1:15', '1:10', '1:5', '1:1']\n",
    "xgb_gmeans.index = dfxgb4.iloc[:,0]\n",
    "xgb_gmeans"
   ]
  },
  {
   "cell_type": "code",
   "execution_count": null,
   "id": "3f64ff6b",
   "metadata": {},
   "outputs": [],
   "source": [
    "xgb_gmeans.to_csv(path + '/ucig_xgb_gmeans.csv', index = True, encoding = 'utf-8-sig') "
   ]
  },
  {
   "cell_type": "code",
   "execution_count": null,
   "id": "b786f39d",
   "metadata": {},
   "outputs": [],
   "source": [
    "#aggregate fmeasure\n",
    "xgb_fmeasure = pd.concat([dfxgb4.iloc[:,6],dfxgb3.iloc[:,6],dfxgb2.iloc[:,6],dfxgb.iloc[:,6]],axis=1)\n",
    "xgb_fmeasure.columns = ['1:15', '1:10', '1:5', '1:1']\n",
    "xgb_fmeasure.index = dfxgb4.iloc[:,0]\n",
    "xgb_fmeasure"
   ]
  },
  {
   "cell_type": "code",
   "execution_count": null,
   "id": "90c0d7cd",
   "metadata": {},
   "outputs": [],
   "source": [
    "xgb_fmeasure.to_csv(path + '/ucig_xgb_fmeasure.csv', index = True, encoding = 'utf-8-sig') "
   ]
  },
  {
   "cell_type": "code",
   "execution_count": null,
   "id": "2085f13f",
   "metadata": {
    "id": "2085f13f",
    "outputId": "4416bb42-b65a-4a1d-85e3-a0e946eaacd2"
   },
   "outputs": [],
   "source": [
    "#aggregate the evaluation results for four models\n",
    "models = [logit_eva[0], rf_eva[0],xgb_eva[0],nn_eva[0]]\n",
    "AUC_val = [logit_eva[2], rf_eva[2],xgb_eva[2],nn_eva[2]]\n",
    "Gmeans = [logit_eva[5], rf_eva[5],xgb_eva[5],nn_eva[5]]\n",
    "Fmeasure = [logit_eva[6], rf_eva[6],xgb_eva[6],nn_eva[6]]\n",
    "dic ={'Model': models, 'AUC_validation':AUC_val, 'G-means':Gmeans, 'F1-score':Fmeasure}\n",
    "models_eva = pd.DataFrame(dic)\n",
    "models_eva"
   ]
  },
  {
   "cell_type": "code",
   "execution_count": null,
   "id": "d4512fe0",
   "metadata": {
    "id": "d4512fe0"
   },
   "outputs": [],
   "source": [
    "models_eva.to_csv(path + '/ucig_models.csv', index = True, encoding = 'utf-8-sig') "
   ]
  },
  {
   "cell_type": "markdown",
   "id": "xTxGhaGYs8W9",
   "metadata": {
    "id": "xTxGhaGYs8W9"
   },
   "source": [
    "# 6. XAI"
   ]
  },
  {
   "cell_type": "markdown",
   "id": "1427a879",
   "metadata": {},
   "source": [
    "## 6.1 Calculate rank correlation threshold with boostrap"
   ]
  },
  {
   "cell_type": "markdown",
   "id": "99f6dda9",
   "metadata": {},
   "source": [
    "### Obtain bootstraps"
   ]
  },
  {
   "cell_type": "code",
   "execution_count": null,
   "id": "8b15defd",
   "metadata": {},
   "outputs": [],
   "source": [
    "#concat train and validation data sets\n",
    "X_all_cross =pd.concat([X_train_final, X_val_final],axis=0)\n",
    "y_all_cross =pd.concat((y_train.to_frame(), y_val.to_frame()),axis =0)\n",
    "Xy =pd.concat([X_all_cross,y_all_cross], axis =1)\n",
    "Xy.head()"
   ]
  },
  {
   "cell_type": "code",
   "execution_count": null,
   "id": "2fe84f68",
   "metadata": {},
   "outputs": [],
   "source": [
    "X_train_btr_list =[]\n",
    "y_train_btr_list=[]\n",
    "\n",
    "for i in range(1,11):\n",
    "    samp = Xy.sample(frac=0.8,replace=True, random_state=i)\n",
    "    y_btr =samp ['target']\n",
    "    X_btr = samp.drop(['target'], axis=1)\n",
    "    X_train_btr_list.append(X_btr)\n",
    "    y_train_btr_list.append(y_btr)"
   ]
  },
  {
   "cell_type": "markdown",
   "id": "9124ec05",
   "metadata": {},
   "source": [
    "### 6.1.1 Calculate SHAP rank correlation threshold"
   ]
  },
  {
   "cell_type": "code",
   "execution_count": null,
   "id": "3f77976d",
   "metadata": {},
   "outputs": [],
   "source": [
    "def shap_btr_generator(X_data_list, y_data_list, model):\n",
    "    vals_list_btr = []\n",
    "    for X_data, y_data in zip(X_data_list, y_data_list):\n",
    "        instance = model.fit(X_data, y_data)\n",
    "        exp_instance = shap.TreeExplainer(model, data=X_data, \n",
    "                                          feature_perturbation='interventional', \n",
    "                                          model_output='probability')\n",
    "        shap_val_instance = exp_instance.shap_values(X_data)\n",
    "        result_btr = pd.DataFrame(shap_val_instance, columns = X_train_final.columns)\n",
    "        vals_btr = np.abs(result_btr.values).mean(0).round(3)\n",
    "        vals_list_btr.append(vals_btr)\n",
    "    return vals_list_btr"
   ]
  },
  {
   "cell_type": "code",
   "execution_count": null,
   "id": "83036d56",
   "metadata": {},
   "outputs": [],
   "source": [
    "shap_btr_list = shap_btr_generator(X_train_btr_list,y_train_btr_list,xgb_tune)"
   ]
  },
  {
   "cell_type": "code",
   "execution_count": null,
   "id": "26d9c686",
   "metadata": {},
   "outputs": [],
   "source": [
    "shap_btr ={\n",
    "    'columns': X_train_final.columns,\n",
    "    'btr1' :shap_btr_list[0],\n",
    "    'btr2' :shap_btr_list[1],\n",
    "    'btr3' :shap_btr_list[2],\n",
    "    'btr4' :shap_btr_list[3],\n",
    "    'btr5' :shap_btr_list[4],\n",
    "    'btr6' :shap_btr_list[5],\n",
    "    'btr7' :shap_btr_list[6],\n",
    "    'btr8' :shap_btr_list[7],\n",
    "    'btr9' :shap_btr_list[8],\n",
    "    'btr10' :shap_btr_list[9],\n",
    "}\n",
    "\n",
    "shap_btrdf =pd.DataFrame(shap_btr)\n",
    "shap_btrdf.head()"
   ]
  },
  {
   "cell_type": "code",
   "execution_count": null,
   "id": "e9016c21",
   "metadata": {},
   "outputs": [],
   "source": [
    "#rank correlation\n",
    "rankbtr = shap_btrdf.corr(method = 'spearman').round(3)\n",
    "print(rankbtr)"
   ]
  },
  {
   "cell_type": "code",
   "execution_count": null,
   "id": "64efcbe0",
   "metadata": {},
   "outputs": [],
   "source": [
    "#calculate threshold\n",
    "rankbtr.values[np.tril_indices(len(rankbtr))] = np.nan\n",
    "shap_thre = np.nanmean(rankbtr.values).round(3)\n",
    "print('The threshold of SHAP rank correlation is '+ str(shap_thre))"
   ]
  },
  {
   "cell_type": "markdown",
   "id": "fd08f7ee",
   "metadata": {},
   "source": [
    "### 6.1.2 PFI threshold"
   ]
  },
  {
   "cell_type": "code",
   "execution_count": null,
   "id": "22334560",
   "metadata": {},
   "outputs": [],
   "source": [
    "def pfi_btr_generator(X_data_list, y_data_list, model):\n",
    "    pfi_list = []\n",
    "    for X_data, y_data in zip(X_data_list, y_data_list):\n",
    "        instance_xgb = model.fit(X_data, y_data)\n",
    "        pfi_xgb = permutation_importance(model, X_data, y_data, scoring='roc_auc', n_repeats=5, random_state=1)\n",
    "        pfi_value = pfi_xgb.importances_mean.round(3) \n",
    "        pfi_list.append(pfi_value)\n",
    "    return pfi_list"
   ]
  },
  {
   "cell_type": "code",
   "execution_count": null,
   "id": "05b61819",
   "metadata": {},
   "outputs": [],
   "source": [
    "pfi_btr_list = pfi_btr_generator(X_train_btr_list,y_train_btr_list,xgb_tune)"
   ]
  },
  {
   "cell_type": "code",
   "execution_count": null,
   "id": "d9422709",
   "metadata": {},
   "outputs": [],
   "source": [
    "pfi_btr ={\n",
    "    'columns': X_train_final.columns,\n",
    "    'btr1' :pfi_btr_list[0],\n",
    "    'btr2' :pfi_btr_list[1],\n",
    "    'btr3' :pfi_btr_list[2],\n",
    "    'btr4' :pfi_btr_list[3],\n",
    "    'btr5' :pfi_btr_list[4],\n",
    "    'btr6' :pfi_btr_list[5],\n",
    "    'btr7' :pfi_btr_list[6],\n",
    "    'btr8' :pfi_btr_list[7],\n",
    "    'btr9' :pfi_btr_list[8],\n",
    "    'btr10' :pfi_btr_list[9],\n",
    "}\n",
    "\n",
    "pfi_btrdf =pd.DataFrame(pfi_btr)\n",
    "pfi_btrdf.head()"
   ]
  },
  {
   "cell_type": "code",
   "execution_count": null,
   "id": "d519456b",
   "metadata": {},
   "outputs": [],
   "source": [
    "#rank correlation\n",
    "rankbtr = pfi_btrdf.corr(method = 'spearman').round(3)\n",
    "print(rankbtr)"
   ]
  },
  {
   "cell_type": "code",
   "execution_count": null,
   "id": "3065cd92",
   "metadata": {},
   "outputs": [],
   "source": [
    "#calculate threshold\n",
    "rankbtr.values[np.tril_indices(len(rankbtr))] = np.nan\n",
    "pfi_thre = np.nanmean(rankbtr.values).round(3)\n",
    "print('The threshold of PFI rank correlation is '+ str(pfi_thre))"
   ]
  },
  {
   "cell_type": "markdown",
   "id": "3b5e4b80",
   "metadata": {},
   "source": [
    "## 6.2 SHAP fearure importance"
   ]
  },
  {
   "cell_type": "markdown",
   "id": "d0e84449",
   "metadata": {},
   "source": [
    "### 6.2.1 Calculate SHAP feature importance"
   ]
  },
  {
   "cell_type": "code",
   "execution_count": null,
   "id": "d410e230",
   "metadata": {},
   "outputs": [],
   "source": [
    "instance =xgb_tune.fit(X_train_final, y_train.values.ravel())\n",
    "explainer_xgb = shap.TreeExplainer(xgb_tune, data=X_train_final, \n",
    "                                   feature_perturbation='interventional', model_output='probability')\n",
    "shap_values_xgb = explainer_xgb.shap_values(X_train_final)\n",
    "print(shap_values_xgb.shape)\n",
    "\n",
    "result__ = pd.DataFrame(shap_values_xgb, columns = X_train_final.columns)\n",
    "\n",
    "#for global importance, we average the absolute Shapley values per feature across the data\n",
    "vals__ = np.abs(result__.values).mean(0).round(3)\n",
    "shap_importance = pd.DataFrame(list(zip(X_train_final.columns, vals__)),\n",
    "                                  columns=['feature','xgb'])\n",
    "print(shap_importance.head())"
   ]
  },
  {
   "cell_type": "code",
   "execution_count": null,
   "id": "6b0a40e2",
   "metadata": {},
   "outputs": [],
   "source": [
    "def shap_generator(X_data_list, y_data_list,model):\n",
    "    vals_list = []\n",
    "    for X_data, y_data in zip(X_data_list, y_data_list):\n",
    "        instance_xgb = model.fit(X_data, y_data,\n",
    "                                 eval_set=[(X_val_final, y_val)], early_stopping_rounds= 50)\n",
    "        explainer_instance = shap.TreeExplainer(model, data=X_data, \n",
    "                                                feature_perturbation='interventional', model_output='probability')\n",
    "        shap_values_instance = explainer_instance.shap_values(X_data)\n",
    "        result = pd.DataFrame(shap_values_instance, columns = X_data.columns)\n",
    "        vals = np.abs(result.values).mean(0).round(3)        \n",
    "        vals_list.append(vals)\n",
    "    return vals_list"
   ]
  },
  {
   "cell_type": "code",
   "execution_count": null,
   "id": "e0eb90b8",
   "metadata": {},
   "outputs": [],
   "source": [
    "#extract RUS,IHT resampled data sets\n",
    "#order: rus1,rus5,rus10,rus15,iht1,iht5,iht10,iht15\n",
    "RE_Xlist= [X_data_list1[3],X_data_list2[3],X_data_list3[3], X_data_list4[3],\n",
    "           X_data_list1[4],X_data_list2[4], X_data_list3[4], X_data_list4[4]]\n",
    "RE_ylist =[y_data_list1[3],y_data_list2[3],y_data_list3[3], y_data_list4[3],\n",
    "           y_data_list1[4],y_data_list2[4], y_data_list3[4], y_data_list4[4]]"
   ]
  },
  {
   "cell_type": "code",
   "execution_count": null,
   "id": "4736e34d",
   "metadata": {},
   "outputs": [],
   "source": [
    "shap_list = shap_generator(RE_Xlist, RE_ylist,xgb_tune)"
   ]
  },
  {
   "cell_type": "code",
   "execution_count": null,
   "id": "dd66e973",
   "metadata": {},
   "outputs": [],
   "source": [
    "#rus1,rus5,rus10,rus15,iht1,iht5,iht10,iht15\n",
    "shap_importance['rus1'] = shap_list[0]\n",
    "shap_importance['rus5'] = shap_list[1]\n",
    "shap_importance['rus10'] = shap_list[2]\n",
    "shap_importance['rus15'] = shap_list[3]\n",
    "shap_importance['iht1'] = shap_list[4]\n",
    "shap_importance['iht5'] = shap_list[5]\n",
    "shap_importance['iht10'] = shap_list[6]\n",
    "shap_importance['iht15'] = shap_list[7]\n",
    "\n",
    "shap_importance"
   ]
  },
  {
   "cell_type": "code",
   "execution_count": null,
   "id": "234589fc",
   "metadata": {},
   "outputs": [],
   "source": [
    "shap_importance.to_csv(path + '/shap_importance.csv', index = True, encoding = 'utf-8-sig') "
   ]
  },
  {
   "cell_type": "markdown",
   "id": "53df1b2e",
   "metadata": {},
   "source": [
    "### 6.2.2  SHAP rank correlation"
   ]
  },
  {
   "cell_type": "code",
   "execution_count": null,
   "id": "57e651ba",
   "metadata": {},
   "outputs": [],
   "source": [
    "rank_shap = shap_importance.corr(method = 'spearman').round(3)\n",
    "print(rank_shap)"
   ]
  },
  {
   "cell_type": "code",
   "execution_count": null,
   "id": "0fbcb5ca",
   "metadata": {},
   "outputs": [],
   "source": [
    "rank_shap.to_csv(path + '/rank_shap.csv', index = True, encoding = 'utf-8-sig') "
   ]
  },
  {
   "cell_type": "code",
   "execution_count": null,
   "id": "9eb1c4df",
   "metadata": {},
   "outputs": [],
   "source": [
    "plt.rcParams['figure.figsize'] = (12 , 12)\n",
    "snsfilter = sns.heatmap(shap_importance.corr(method = 'spearman')[(shap_importance.corr(method = 'spearman') <= shap_thre)],\n",
    "            annot=True);"
   ]
  },
  {
   "cell_type": "markdown",
   "id": "d6945c3d",
   "metadata": {},
   "source": [
    "### 6.2.3  SHAP feature importance visualisation"
   ]
  },
  {
   "cell_type": "code",
   "execution_count": null,
   "id": "f63e77a4",
   "metadata": {},
   "outputs": [],
   "source": [
    "#select top 10 features for original xgb\n",
    "shap_top10 = shap_importance.sort_values(['xgb'], ascending=[False])\n",
    "shap_top10 = shap_top10.head(10)\n",
    "shap_top10"
   ]
  },
  {
   "cell_type": "code",
   "execution_count": null,
   "id": "3ceaf84f",
   "metadata": {},
   "outputs": [],
   "source": [
    "#1.aggeragate by approaches\n",
    "#rus under different IRs\n",
    "x = shap_top10['feature'].tolist()\n",
    "xgb_base =shap_top10['xgb'].tolist()\n",
    "rus_1 =shap_top10['rus1'].tolist()\n",
    "rus_5 =shap_top10['rus5'].tolist()\n",
    "rus_10 =shap_top10['rus10'].tolist()\n",
    "rus_15 =shap_top10['rus15'].tolist()\n",
    "\n",
    "#plot\n",
    "plt.rcParams['figure.figsize'] = (15 , 6)\n",
    "\n",
    "plt.plot(x, xgb_base, label ='xgb')\n",
    "plt.plot(x, rus_1, '-.', label ='RUS_1')\n",
    "plt.plot(x, rus_5, '-.', label ='RUS_5')\n",
    "plt.plot(x, rus_10, '-.', label ='RUS_10')\n",
    "plt.plot(x, rus_15, '-.', label ='RUS_15')\n",
    "\n",
    "plt.xlabel(\"feature\")\n",
    "plt.ylabel(\"SHAP value\")\n",
    "plt.legend()\n",
    "plt.title('RUS Shap value plot under various IR')\n",
    "plt.show()"
   ]
  },
  {
   "cell_type": "code",
   "execution_count": null,
   "id": "ad2439de",
   "metadata": {},
   "outputs": [],
   "source": [
    "#iht under different IRs\n",
    "x = shap_top10['feature'].tolist()\n",
    "xgb_base =shap_top10['xgb'].tolist()\n",
    "iht_1 =shap_top10['iht1'].tolist()\n",
    "iht_5 =shap_top10['iht5'].tolist()\n",
    "iht_10 =shap_top10['iht10'].tolist()\n",
    "iht_15 =shap_top10['iht15'].tolist()\n",
    "\n",
    "#plot\n",
    "plt.rcParams['figure.figsize'] = (15 , 6)\n",
    "\n",
    "plt.plot(x, xgb_base, label ='xgb')\n",
    "plt.plot(x, iht_1, '-.', label ='IHT_1')\n",
    "plt.plot(x, iht_5, '-.', label ='IHT_5')\n",
    "plt.plot(x, iht_10, '-.', label ='IHT_10')\n",
    "plt.plot(x, iht_15, '-.', label ='IHT_15')\n",
    "\n",
    "plt.xlabel(\"feature\")\n",
    "plt.ylabel(\"SHAP value\")\n",
    "plt.legend()\n",
    "plt.title('IHT Shap value plot under various IR')\n",
    "plt.show()"
   ]
  },
  {
   "cell_type": "code",
   "execution_count": null,
   "id": "dc5dd4d2",
   "metadata": {},
   "outputs": [],
   "source": [
    "#aggeragate by IR\n",
    "#IR=1 under various approaches\n",
    "x = shap_top10['feature'].tolist()\n",
    "xgb_base =shap_top10['xgb'].tolist()\n",
    "\n",
    "RUS_1 =shap_top10['rus1'].tolist()\n",
    "IHT_1 =shap_top10['iht1'].tolist()\n",
    "\n",
    "#plot\n",
    "plt.rcParams['figure.figsize'] = (15 , 6)\n",
    "\n",
    "plt.plot(x, xgb_base, label ='xgb')\n",
    "plt.plot(x, RUS_1, '-.', label ='RUS_1')\n",
    "plt.plot(x, IHT_1, '-.', label ='IHT_1')\n",
    "\n",
    "\n",
    "plt.xlabel(\"feature\")\n",
    "plt.ylabel(\"SHAP value\")\n",
    "plt.legend()\n",
    "plt.title('SHAP value plot under IR = 1 using resampling approaches ')\n",
    "plt.show()"
   ]
  },
  {
   "cell_type": "code",
   "execution_count": null,
   "id": "313f6369",
   "metadata": {},
   "outputs": [],
   "source": [
    "#IR=5 under various approaches\n",
    "x = shap_top10['feature'].tolist()\n",
    "xgb_base =shap_top10['xgb'].tolist()\n",
    "\n",
    "RUS_5 =shap_top10['rus5'].tolist()\n",
    "IHT_5 =shap_top10['iht5'].tolist()\n",
    "\n",
    "#plot\n",
    "plt.rcParams['figure.figsize'] = (15 , 6)\n",
    "\n",
    "plt.plot(x, xgb_base, label ='xgb')\n",
    "plt.plot(x, RUS_5, '-.', label ='RUS_5')\n",
    "plt.plot(x, IHT_5, '-.', label ='IHT_5')\n",
    "\n",
    "\n",
    "plt.xlabel(\"feature\")\n",
    "plt.ylabel(\"SHAP value\")\n",
    "plt.legend()\n",
    "plt.title('SHAP value plot under IR = 5 using resampling approaches ')\n",
    "plt.show()"
   ]
  },
  {
   "cell_type": "code",
   "execution_count": null,
   "id": "26f65669",
   "metadata": {},
   "outputs": [],
   "source": [
    "#IR=10 under various approaches\n",
    "x = shap_top10['feature'].tolist()\n",
    "xgb_base =shap_top10['xgb'].tolist()\n",
    "\n",
    "RUS_10 =shap_top10['rus10'].tolist()\n",
    "IHT_10 =shap_top10['iht10'].tolist()\n",
    "\n",
    "#plot\n",
    "plt.rcParams['figure.figsize'] = (15 , 6)\n",
    "\n",
    "plt.plot(x, xgb_base, label ='xgb')\n",
    "plt.plot(x, RUS_10, '-.', label ='RUS_10')\n",
    "plt.plot(x, IHT_10, '-.', label ='IHT_10')\n",
    "\n",
    "\n",
    "plt.xlabel(\"feature\")\n",
    "plt.ylabel(\"SHAP value\")\n",
    "plt.legend()\n",
    "plt.title('SHAP value plot under IR = 10 using resampling approaches ')\n",
    "plt.show()"
   ]
  },
  {
   "cell_type": "code",
   "execution_count": null,
   "id": "dd6fa755",
   "metadata": {},
   "outputs": [],
   "source": [
    "#IR=15 under various approaches\n",
    "x = shap_top10['feature'].tolist()\n",
    "xgb_base =shap_top10['xgb'].tolist()\n",
    "\n",
    "RUS_15 =shap_top10['rus15'].tolist()\n",
    "IHT_15 =shap_top10['iht15'].tolist()\n",
    "\n",
    "#plot\n",
    "plt.rcParams['figure.figsize'] = (15 , 6)\n",
    "\n",
    "plt.plot(x, xgb_base, label ='xgb')\n",
    "plt.plot(x, RUS_15, '-.', label ='RUS_15')\n",
    "plt.plot(x, IHT_15, '-.', label ='IHT_15')\n",
    "\n",
    "\n",
    "plt.xlabel(\"feature\")\n",
    "plt.ylabel(\"SHAP value\")\n",
    "plt.legend()\n",
    "plt.title('SHAP value plot under IR = 15 using resampling approaches ')\n",
    "plt.show()"
   ]
  },
  {
   "cell_type": "markdown",
   "id": "1fb0ba17",
   "metadata": {
    "id": "1fb0ba17"
   },
   "source": [
    "## 6.3 PFI"
   ]
  },
  {
   "cell_type": "markdown",
   "id": "52c1b265",
   "metadata": {},
   "source": [
    "### 6.3.1 Calculate PFI"
   ]
  },
  {
   "cell_type": "code",
   "execution_count": null,
   "id": "df15fe55",
   "metadata": {},
   "outputs": [],
   "source": [
    "instance =xgb_tune.fit(X_train_final, y_train.values.ravel())\n",
    "pfi_xgb = permutation_importance(xgb_tune, X_train_final, y_train, scoring='roc_auc', n_repeats=5, random_state=1)\n",
    "pfi_importance = pd.concat([pd.DataFrame(X_train_final.columns),pd.DataFrame(pfi_xgb.importances_mean.round(3))],axis = 1)\n",
    "pfi_importance = pfi_importance.set_axis(['feature','xgb'], axis='columns')\n",
    "pfi_importance.head()"
   ]
  },
  {
   "cell_type": "code",
   "execution_count": null,
   "id": "4426987b",
   "metadata": {},
   "outputs": [],
   "source": [
    "def pfi_generator(X_data_list, y_data_list, model):\n",
    "    pfi_list = []\n",
    "    for X_data, y_data in zip(X_data_list, y_data_list):\n",
    "        instance_xgb = model.fit(X_data, y_data,eval_set=[(X_val_final, y_val)], early_stopping_rounds= 50)\n",
    "        pfi_xgb = permutation_importance(model, X_data, y_data, scoring='roc_auc', n_repeats=5, random_state=1)\n",
    "        pfi_value = pfi_xgb.importances_mean.round(3) \n",
    "        pfi_list.append(pfi_value)\n",
    "    return pfi_list"
   ]
  },
  {
   "cell_type": "code",
   "execution_count": null,
   "id": "411213ed",
   "metadata": {},
   "outputs": [],
   "source": [
    "pfi_list = pfi_generator(RE_Xlist, RE_ylist,xgb_tune)"
   ]
  },
  {
   "cell_type": "code",
   "execution_count": null,
   "id": "cba7192d",
   "metadata": {},
   "outputs": [],
   "source": [
    "#rus1,rus5,rus10,rus15,iht1,iht5,iht10,iht15\n",
    "pfi_importance['rus1'] = pfi_list[0]\n",
    "pfi_importance['rus5'] = pfi_list[1]\n",
    "pfi_importance['rus10'] = pfi_list[2]\n",
    "pfi_importance['rus15'] = pfi_list[3]\n",
    "pfi_importance['iht1'] = pfi_list[4]\n",
    "pfi_importance['iht5'] = pfi_list[5]\n",
    "pfi_importance['iht10'] = pfi_list[6]\n",
    "pfi_importance['iht15'] = pfi_list[7]\n",
    "\n",
    "pfi_importance.head()"
   ]
  },
  {
   "cell_type": "code",
   "execution_count": null,
   "id": "7a351e89",
   "metadata": {},
   "outputs": [],
   "source": [
    "pfi_importance.to_csv(path + '/pfi_importance.csv', index = True, encoding = 'utf-8-sig') "
   ]
  },
  {
   "cell_type": "markdown",
   "id": "WAQ4_mXYsVRp",
   "metadata": {
    "id": "WAQ4_mXYsVRp"
   },
   "source": [
    "### 6.3.2 PFI rank correlation"
   ]
  },
  {
   "cell_type": "code",
   "execution_count": null,
   "id": "74b42a4f",
   "metadata": {},
   "outputs": [],
   "source": [
    "rank_pfi = pfi_importance.corr(method = 'spearman').round(3)\n",
    "print(rank_pfi)"
   ]
  },
  {
   "cell_type": "code",
   "execution_count": null,
   "id": "1d1a8413",
   "metadata": {},
   "outputs": [],
   "source": [
    "rank_pfi.to_csv(path + '/rank_pfi.csv', index = True, encoding = 'utf-8-sig') "
   ]
  },
  {
   "cell_type": "code",
   "execution_count": null,
   "id": "985e055f",
   "metadata": {},
   "outputs": [],
   "source": [
    "f,ax = plt.subplots(figsize=(12, 12))\n",
    "snsfilter = sns.heatmap(pfi_importance.corr(method = 'spearman')[(pfi_importance.corr(method = 'spearman') <= pfi_thre)],\n",
    "            annot=True);"
   ]
  },
  {
   "cell_type": "markdown",
   "id": "405a4fde",
   "metadata": {},
   "source": [
    "### 6.3.3 PFI feature importance visualisation"
   ]
  },
  {
   "cell_type": "code",
   "execution_count": null,
   "id": "eaca8ec6",
   "metadata": {},
   "outputs": [],
   "source": [
    "#select top 10 features for original xgb\n",
    "pfi_top10 = pfi_importance.sort_values(['xgb'], ascending=[False])\n",
    "pfi_top10 = pfi_top10.head(10)\n",
    "pfi_top10"
   ]
  },
  {
   "cell_type": "code",
   "execution_count": null,
   "id": "d38dc231",
   "metadata": {},
   "outputs": [],
   "source": [
    "#aggeragate by approaches\n",
    "#rus under different IR\n",
    "x = pfi_top10['feature'].tolist()\n",
    "xgb_base =pfi_top10['xgb'].tolist()\n",
    "rus_1 =pfi_top10['rus1'].tolist()\n",
    "rus_5 =pfi_top10['rus5'].tolist()\n",
    "rus_10 =pfi_top10['rus10'].tolist()\n",
    "rus_15 =pfi_top10['rus15'].tolist()\n",
    "\n",
    "#plot\n",
    "plt.rcParams['figure.figsize'] = (15 , 6)\n",
    "\n",
    "plt.plot(x, xgb_base, label ='xgb')\n",
    "plt.plot(x, rus_1, '-.', label ='RUS_1')\n",
    "plt.plot(x, rus_5, '-.', label ='RUS_5')\n",
    "plt.plot(x, rus_10, '-.', label ='RUS_10')\n",
    "plt.plot(x, rus_15, '-.', label ='RUS_15')\n",
    "\n",
    "plt.xlabel(\"feature\")\n",
    "plt.ylabel(\"PFI value\")\n",
    "plt.legend()\n",
    "plt.title('RUS PFI value plot under various IR')\n",
    "plt.show()"
   ]
  },
  {
   "cell_type": "code",
   "execution_count": null,
   "id": "8766c654",
   "metadata": {},
   "outputs": [],
   "source": [
    "#iht under different IR\n",
    "x = pfi_top10['feature'].tolist()\n",
    "xgb_base =pfi_top10['xgb'].tolist()\n",
    "iht_1 =pfi_top10['iht1'].tolist()\n",
    "iht_5 =pfi_top10['iht5'].tolist()\n",
    "iht_10 =pfi_top10['iht10'].tolist()\n",
    "iht_15 =pfi_top10['iht15'].tolist()\n",
    "\n",
    "#plot\n",
    "plt.rcParams['figure.figsize'] = (15 , 6)\n",
    "\n",
    "plt.plot(x, xgb_base, label ='xgb')\n",
    "plt.plot(x, iht_1, '-.', label ='IHT_1')\n",
    "plt.plot(x, iht_5, '-.', label ='IHT_5')\n",
    "plt.plot(x, iht_10, '-.', label ='IHT_10')\n",
    "plt.plot(x, iht_15, '-.', label ='IHT_15')\n",
    "\n",
    "plt.xlabel(\"feature\")\n",
    "plt.ylabel(\"PFI value\")\n",
    "plt.legend()\n",
    "plt.title('IHT PFI value plot under various IR')\n",
    "plt.show()"
   ]
  },
  {
   "cell_type": "code",
   "execution_count": null,
   "id": "929d559a",
   "metadata": {},
   "outputs": [],
   "source": [
    "#aggeragate by IR\n",
    "#IR=1 under various approaches\n",
    "x = pfi_top10['feature'].tolist()\n",
    "xgb_base =pfi_top10['xgb'].tolist()\n",
    "\n",
    "RUS_1 =pfi_top10['rus1'].tolist()\n",
    "IHT_1 =pfi_top10['iht1'].tolist()\n",
    "\n",
    "#plot\n",
    "plt.rcParams['figure.figsize'] = (15 , 6)\n",
    "\n",
    "plt.plot(x, xgb_base, label ='xgb')\n",
    "plt.plot(x, RUS_1, '-.', label ='RUS_1')\n",
    "plt.plot(x, IHT_1, '-.', label ='IHT_1')\n",
    "\n",
    "\n",
    "plt.xlabel(\"feature\")\n",
    "plt.ylabel(\"PFI value\")\n",
    "plt.legend()\n",
    "plt.title('PFI value plot under IR = 1 using resampling approaches ')\n",
    "plt.show()"
   ]
  },
  {
   "cell_type": "code",
   "execution_count": null,
   "id": "7ae805da",
   "metadata": {},
   "outputs": [],
   "source": [
    "#IR=5 under various approaches\n",
    "x = pfi_top10['feature'].tolist()\n",
    "xgb_base =pfi_top10['xgb'].tolist()\n",
    "\n",
    "RUS_5 =pfi_top10['rus5'].tolist()\n",
    "IHT_5 =pfi_top10['iht5'].tolist()\n",
    "\n",
    "#plot\n",
    "plt.rcParams['figure.figsize'] = (15 , 6)\n",
    "\n",
    "plt.plot(x, xgb_base, label ='xgb')\n",
    "plt.plot(x, RUS_5, '-.', label ='RUS_5')\n",
    "plt.plot(x, IHT_5, '-.', label ='IHT_5')\n",
    "\n",
    "\n",
    "plt.xlabel(\"feature\")\n",
    "plt.ylabel(\"PFI value\")\n",
    "plt.legend()\n",
    "plt.title('PFI value plot under IR = 5 using resampling approaches ')\n",
    "plt.show()\n"
   ]
  },
  {
   "cell_type": "code",
   "execution_count": null,
   "id": "6a9eeb58",
   "metadata": {},
   "outputs": [],
   "source": [
    "#IR=10 under various approaches\n",
    "x = pfi_top10['feature'].tolist()\n",
    "xgb_base =pfi_top10['xgb'].tolist()\n",
    "\n",
    "RUS_10 =pfi_top10['rus10'].tolist()\n",
    "IHT_10 =pfi_top10['iht10'].tolist()\n",
    "\n",
    "#plot\n",
    "plt.rcParams['figure.figsize'] = (15 , 6)\n",
    "\n",
    "plt.plot(x, xgb_base, label ='xgb')\n",
    "plt.plot(x, RUS_10, '-.', label ='RUS_10')\n",
    "plt.plot(x, IHT_10, '-.', label ='IHT_10')\n",
    "\n",
    "\n",
    "plt.xlabel(\"feature\")\n",
    "plt.ylabel(\"PFI value\")\n",
    "plt.legend()\n",
    "plt.title('PFI value plot under IR = 10 using resampling approaches ')\n",
    "plt.show()\n"
   ]
  },
  {
   "cell_type": "code",
   "execution_count": null,
   "id": "8f93e554",
   "metadata": {},
   "outputs": [],
   "source": [
    "#IR=15 under various approaches\n",
    "x = pfi_top10['feature'].tolist()\n",
    "xgb_base =pfi_top10['xgb'].tolist()\n",
    "\n",
    "RUS_15 =pfi_top10['rus15'].tolist()\n",
    "IHT_15 =pfi_top10['iht15'].tolist()\n",
    "\n",
    "#plot\n",
    "plt.rcParams['figure.figsize'] = (15 , 6)\n",
    "\n",
    "plt.plot(x, xgb_base, label ='xgb')\n",
    "plt.plot(x, RUS_15, '-.', label ='RUS_15')\n",
    "plt.plot(x, IHT_15, '-.', label ='IHT_15')\n",
    "\n",
    "\n",
    "plt.xlabel(\"feature\")\n",
    "plt.ylabel(\"PFI value\")\n",
    "plt.legend()\n",
    "plt.title('PFI value plot under IR = 15 using resampling approaches ')\n",
    "plt.show()\n"
   ]
  },
  {
   "cell_type": "code",
   "execution_count": null,
   "id": "1edf8bef",
   "metadata": {
    "id": "1edf8bef"
   },
   "outputs": [],
   "source": []
  },
  {
   "cell_type": "code",
   "execution_count": null,
   "id": "3c315891",
   "metadata": {
    "id": "3c315891"
   },
   "outputs": [],
   "source": []
  }
 ],
 "metadata": {
  "colab": {
   "provenance": [],
   "toc_visible": true
  },
  "kernelspec": {
   "display_name": "Python 3 (ipykernel)",
   "language": "python",
   "name": "python3"
  },
  "language_info": {
   "codemirror_mode": {
    "name": "ipython",
    "version": 3
   },
   "file_extension": ".py",
   "mimetype": "text/x-python",
   "name": "python",
   "nbconvert_exporter": "python",
   "pygments_lexer": "ipython3",
   "version": "3.9.7"
  }
 },
 "nbformat": 4,
 "nbformat_minor": 5
}
